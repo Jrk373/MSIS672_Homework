{
 "cells": [
  {
   "cell_type": "markdown",
   "id": "c478724d",
   "metadata": {},
   "source": [
    "# Introduction"
   ]
  },
  {
   "cell_type": "markdown",
   "id": "e4c4b49f",
   "metadata": {},
   "source": [
    "This is demonstration of data from the Community Health Outreach data set. This is for the class MSIS 671 at the University of Massachusetts Boston as a supplment to the homework. This notebok is creating a predictive model for Inpatient Psychiatric Services based on several patient characteristics. It uses a Random Forest model. "
   ]
  },
  {
   "cell_type": "markdown",
   "id": "fbbf4bce",
   "metadata": {},
   "source": [
    "# Data Preparation"
   ]
  },
  {
   "cell_type": "markdown",
   "id": "7cf89244",
   "metadata": {},
   "source": [
    "## Load packages"
   ]
  },
  {
   "cell_type": "code",
   "execution_count": 1,
   "id": "68cb65c7",
   "metadata": {},
   "outputs": [],
   "source": [
    "# Main Packages\n",
    "import pandas as pd\n",
    "import numpy as np\n",
    "import seaborn as sns\n",
    "import matplotlib.pylab as plt\n",
    "import matplotlib.pyplot as plt1\n",
    "\n",
    "# XGBoost\n",
    "import xgboost as xgb\n",
    "\n",
    "# SiKit\n",
    "from sklearn.tree import DecisionTreeClassifier, DecisionTreeRegressor\n",
    "from sklearn.ensemble import RandomForestClassifier, GradientBoostingClassifier\n",
    "from sklearn.model_selection import train_test_split, cross_validate, cross_val_score, GridSearchCV, StratifiedKFold\n",
    "from sklearn.metrics import accuracy_score, classification_report, confusion_matrix\n",
    "from sklearn import tree\n",
    "from sklearn.preprocessing import LabelEncoder\n",
    "\n",
    "#DMBA\n",
    "import dmba\n",
    "from dmba import plotDecisionTree, classificationSummary, regressionSummary\n",
    "\n",
    "# Graphviz\n",
    "import os\n",
    "os.environ[\"PATH\"] += os.pathsep + 'C:/Program Files/Graphviz/bin/'\n",
    "\n",
    "# Imblearner\n",
    "from imblearn.over_sampling import SMOTE, ADASYN\n",
    "from imblearn.under_sampling import NearMiss\n",
    "\n",
    "# Collections\n",
    "from collections import Counter\n",
    "\n",
    "# Plotly\n",
    "import plotly.express as px\n",
    "import plotly.figure_factory as ff"
   ]
  },
  {
   "cell_type": "markdown",
   "id": "41af9435",
   "metadata": {},
   "source": [
    "## Get Data"
   ]
  },
  {
   "cell_type": "markdown",
   "id": "7315197a",
   "metadata": {},
   "source": [
    "Get data from the Community Health Outreach data set, filtering it down to eight variables for testing."
   ]
  },
  {
   "cell_type": "code",
   "execution_count": 2,
   "id": "9ac530c4",
   "metadata": {},
   "outputs": [],
   "source": [
    "CHO1_df = pd.read_csv('CommunityHealthRoster_Demo.csv')\n",
    "CHO1_df.columns \n",
    "CHO1_df= CHO1_df[['Inpatient_Psych_Service',\n",
    "                   'Num_Social_Risk_Factors',\n",
    "                   'Sex',\n",
    "                   'Emergency_Dept_Service',\n",
    "                   'Alcohol_or_Drug_Diagnosis',\n",
    "                   'Major_Depressive_Disorder_Diagnosis',\n",
    "                   'Race_Black_Indigenous_PeopleOfColor',\n",
    "                   'Employed']]"
   ]
  },
  {
   "cell_type": "markdown",
   "id": "2947d3d4",
   "metadata": {},
   "source": [
    "## Wrangle Data"
   ]
  },
  {
   "cell_type": "code",
   "execution_count": 3,
   "id": "3a03ac11",
   "metadata": {},
   "outputs": [
    {
     "data": {
      "text/plain": [
       "Inpatient_Psych_Service                  int64\n",
       "Num_Social_Risk_Factors                  int64\n",
       "Sex                                     object\n",
       "Emergency_Dept_Service                   int64\n",
       "Alcohol_or_Drug_Diagnosis                int64\n",
       "Major_Depressive_Disorder_Diagnosis      int64\n",
       "Race_Black_Indigenous_PeopleOfColor    float64\n",
       "Employed                                 int64\n",
       "dtype: object"
      ]
     },
     "execution_count": 3,
     "metadata": {},
     "output_type": "execute_result"
    }
   ],
   "source": [
    "CHO1_df.dtypes"
   ]
  },
  {
   "cell_type": "markdown",
   "id": "61345b61",
   "metadata": {},
   "source": [
    "Check for NaN values in the data"
   ]
  },
  {
   "cell_type": "code",
   "execution_count": 4,
   "id": "aec2452d",
   "metadata": {},
   "outputs": [
    {
     "data": {
      "text/plain": [
       "Inpatient_Psych_Service                  0\n",
       "Num_Social_Risk_Factors                  0\n",
       "Sex                                      0\n",
       "Emergency_Dept_Service                   0\n",
       "Alcohol_or_Drug_Diagnosis                0\n",
       "Major_Depressive_Disorder_Diagnosis      0\n",
       "Race_Black_Indigenous_PeopleOfColor    273\n",
       "Employed                                 0\n",
       "dtype: int64"
      ]
     },
     "execution_count": 4,
     "metadata": {},
     "output_type": "execute_result"
    }
   ],
   "source": [
    "## check missing values\n",
    "pd.isna(CHO1_df).sum()"
   ]
  },
  {
   "cell_type": "markdown",
   "id": "01f11763",
   "metadata": {},
   "source": [
    "Race_BIPOC has 273 NaN values indicating that the item was not completed by the member. It cannot be assumed that NaN is the same as 0 in this case.\n",
    "\n",
    "Further explore to see proportion of values in Race_BIPOC"
   ]
  },
  {
   "cell_type": "code",
   "execution_count": 5,
   "id": "6cfcf334",
   "metadata": {},
   "outputs": [
    {
     "name": "stdout",
     "output_type": "stream",
     "text": [
      "\n",
      "Number and Percentage of each unique value:\n",
      "                                     Count  Percentage\n",
      "Race_Black_Indigenous_PeopleOfColor                   \n",
      "0.0                                  52111   89.837258\n",
      "1.0                                   5895   10.162742\n",
      "NaN                                    273    0.470641\n"
     ]
    }
   ],
   "source": [
    "# Count the number of each unique value in the specified column\n",
    "value_counts = CHO1_df['Race_Black_Indigenous_PeopleOfColor'].value_counts(dropna=False)\n",
    "\n",
    "# Calculate the percentage for each unique value\n",
    "total_values = len(CHO1_df['Race_Black_Indigenous_PeopleOfColor'].dropna())\n",
    "percentage = value_counts / total_values * 100\n",
    "\n",
    "# Display the counts and percentages\n",
    "result_df = pd.DataFrame({'Count': value_counts, 'Percentage': percentage})\n",
    "print(\"\\nNumber and Percentage of each unique value:\")\n",
    "print(result_df)"
   ]
  },
  {
   "cell_type": "markdown",
   "id": "bd58be8e",
   "metadata": {},
   "source": [
    "Race_BIPOC has 273 NaN values indicating that the item was not completed. The following code will impute values 0 and 1 according to the given proportions of existing data, 89.84/10.16."
   ]
  },
  {
   "cell_type": "code",
   "execution_count": 6,
   "id": "031c1d5f",
   "metadata": {},
   "outputs": [],
   "source": [
    "# Assuming CHO1_df is your DataFrame and 'Race_Black_Indigenous_PeopleOfColor' is the column\n",
    "nan_indices = CHO1_df['Race_Black_Indigenous_PeopleOfColor'].index[CHO1_df['Race_Black_Indigenous_PeopleOfColor'].isna()]\n",
    "random_values = np.random.choice([0, 1], size=len(nan_indices), p=[0.8984, 0.1016])\n",
    "\n",
    "# Replace NaN values with random values\n",
    "CHO1_df.loc[nan_indices, 'Race_Black_Indigenous_PeopleOfColor'] = random_values"
   ]
  },
  {
   "cell_type": "markdown",
   "id": "fa76993d",
   "metadata": {},
   "source": [
    "Check Race BIPOC again to make sure it is free of NaN"
   ]
  },
  {
   "cell_type": "code",
   "execution_count": 7,
   "id": "74f904a8",
   "metadata": {},
   "outputs": [
    {
     "name": "stdout",
     "output_type": "stream",
     "text": [
      "\n",
      "Number and Percentage of each unique value:\n",
      "                                     Count  Percentage\n",
      "Race_Black_Indigenous_PeopleOfColor                   \n",
      "0.0                                  52366   89.853978\n",
      "1.0                                   5913   10.146022\n"
     ]
    }
   ],
   "source": [
    "# Count the number of each unique value in the specified column\n",
    "value_counts = CHO1_df['Race_Black_Indigenous_PeopleOfColor'].value_counts(dropna=False)\n",
    "\n",
    "# Calculate the percentage for each unique value\n",
    "total_values = len(CHO1_df['Race_Black_Indigenous_PeopleOfColor'].dropna())\n",
    "percentage = value_counts / total_values * 100\n",
    "\n",
    "# Display the counts and percentages\n",
    "result_df = pd.DataFrame({'Count': value_counts, 'Percentage': percentage})\n",
    "print(\"\\nNumber and Percentage of each unique value:\")\n",
    "print(result_df)"
   ]
  },
  {
   "cell_type": "markdown",
   "id": "66b1b73a",
   "metadata": {},
   "source": [
    "Check again for missing values in data set"
   ]
  },
  {
   "cell_type": "code",
   "execution_count": 8,
   "id": "23760b04",
   "metadata": {},
   "outputs": [
    {
     "data": {
      "text/plain": [
       "Inpatient_Psych_Service                0\n",
       "Num_Social_Risk_Factors                0\n",
       "Sex                                    0\n",
       "Emergency_Dept_Service                 0\n",
       "Alcohol_or_Drug_Diagnosis              0\n",
       "Major_Depressive_Disorder_Diagnosis    0\n",
       "Race_Black_Indigenous_PeopleOfColor    0\n",
       "Employed                               0\n",
       "dtype: int64"
      ]
     },
     "execution_count": 8,
     "metadata": {},
     "output_type": "execute_result"
    }
   ],
   "source": [
    "## check missing values\n",
    "pd.isna(CHO1_df).sum()"
   ]
  },
  {
   "cell_type": "markdown",
   "id": "b2050bd5",
   "metadata": {},
   "source": [
    "Convert Inpatient Psych Service to a string so it can be considered as a class."
   ]
  },
  {
   "cell_type": "code",
   "execution_count": 9,
   "id": "57ee434f",
   "metadata": {},
   "outputs": [],
   "source": [
    "# Convert the column to strings\n",
    "CHO1_df['Inpatient_Psych_Service'] = CHO1_df['Inpatient_Psych_Service'].astype(str)"
   ]
  },
  {
   "cell_type": "markdown",
   "id": "467822b0",
   "metadata": {},
   "source": [
    "Convert Race_BIPOC to integer so it can be a predictor"
   ]
  },
  {
   "cell_type": "code",
   "execution_count": 10,
   "id": "72512809",
   "metadata": {},
   "outputs": [],
   "source": [
    "# Convert Race_BIPOC to Integer\n",
    "CHO1_df['Race_Black_Indigenous_PeopleOfColor'] = CHO1_df['Race_Black_Indigenous_PeopleOfColor'].astype(int)"
   ]
  },
  {
   "cell_type": "markdown",
   "id": "7d63eac1",
   "metadata": {},
   "source": [
    "### Dummy Variables"
   ]
  },
  {
   "cell_type": "markdown",
   "id": "7dbf5199",
   "metadata": {},
   "source": [
    "Convert Sex to dummy variables, dropping first."
   ]
  },
  {
   "cell_type": "code",
   "execution_count": 11,
   "id": "19ee350f",
   "metadata": {},
   "outputs": [],
   "source": [
    "# Convert categorical variables to dummy variables\n",
    "CHO1_df = pd.get_dummies(CHO1_df, columns=['Sex'], prefix=['Sex'], drop_first=True)"
   ]
  },
  {
   "cell_type": "code",
   "execution_count": 12,
   "id": "408e0935",
   "metadata": {},
   "outputs": [
    {
     "data": {
      "text/html": [
       "<div>\n",
       "<style scoped>\n",
       "    .dataframe tbody tr th:only-of-type {\n",
       "        vertical-align: middle;\n",
       "    }\n",
       "\n",
       "    .dataframe tbody tr th {\n",
       "        vertical-align: top;\n",
       "    }\n",
       "\n",
       "    .dataframe thead th {\n",
       "        text-align: right;\n",
       "    }\n",
       "</style>\n",
       "<table border=\"1\" class=\"dataframe\">\n",
       "  <thead>\n",
       "    <tr style=\"text-align: right;\">\n",
       "      <th></th>\n",
       "      <th>Inpatient_Psych_Service</th>\n",
       "      <th>Num_Social_Risk_Factors</th>\n",
       "      <th>Emergency_Dept_Service</th>\n",
       "      <th>Alcohol_or_Drug_Diagnosis</th>\n",
       "      <th>Major_Depressive_Disorder_Diagnosis</th>\n",
       "      <th>Race_Black_Indigenous_PeopleOfColor</th>\n",
       "      <th>Employed</th>\n",
       "      <th>Sex_M</th>\n",
       "    </tr>\n",
       "  </thead>\n",
       "  <tbody>\n",
       "    <tr>\n",
       "      <th>0</th>\n",
       "      <td>0</td>\n",
       "      <td>0</td>\n",
       "      <td>0</td>\n",
       "      <td>0</td>\n",
       "      <td>0</td>\n",
       "      <td>0</td>\n",
       "      <td>0</td>\n",
       "      <td>False</td>\n",
       "    </tr>\n",
       "    <tr>\n",
       "      <th>1</th>\n",
       "      <td>0</td>\n",
       "      <td>0</td>\n",
       "      <td>1</td>\n",
       "      <td>1</td>\n",
       "      <td>1</td>\n",
       "      <td>0</td>\n",
       "      <td>0</td>\n",
       "      <td>True</td>\n",
       "    </tr>\n",
       "    <tr>\n",
       "      <th>2</th>\n",
       "      <td>0</td>\n",
       "      <td>0</td>\n",
       "      <td>0</td>\n",
       "      <td>0</td>\n",
       "      <td>0</td>\n",
       "      <td>0</td>\n",
       "      <td>0</td>\n",
       "      <td>False</td>\n",
       "    </tr>\n",
       "    <tr>\n",
       "      <th>3</th>\n",
       "      <td>0</td>\n",
       "      <td>1</td>\n",
       "      <td>0</td>\n",
       "      <td>1</td>\n",
       "      <td>0</td>\n",
       "      <td>0</td>\n",
       "      <td>0</td>\n",
       "      <td>False</td>\n",
       "    </tr>\n",
       "    <tr>\n",
       "      <th>4</th>\n",
       "      <td>0</td>\n",
       "      <td>0</td>\n",
       "      <td>1</td>\n",
       "      <td>0</td>\n",
       "      <td>0</td>\n",
       "      <td>0</td>\n",
       "      <td>0</td>\n",
       "      <td>False</td>\n",
       "    </tr>\n",
       "  </tbody>\n",
       "</table>\n",
       "</div>"
      ],
      "text/plain": [
       "  Inpatient_Psych_Service  Num_Social_Risk_Factors  Emergency_Dept_Service  \\\n",
       "0                       0                        0                       0   \n",
       "1                       0                        0                       1   \n",
       "2                       0                        0                       0   \n",
       "3                       0                        1                       0   \n",
       "4                       0                        0                       1   \n",
       "\n",
       "   Alcohol_or_Drug_Diagnosis  Major_Depressive_Disorder_Diagnosis  \\\n",
       "0                          0                                    0   \n",
       "1                          1                                    1   \n",
       "2                          0                                    0   \n",
       "3                          1                                    0   \n",
       "4                          0                                    0   \n",
       "\n",
       "   Race_Black_Indigenous_PeopleOfColor  Employed  Sex_M  \n",
       "0                                    0         0  False  \n",
       "1                                    0         0   True  \n",
       "2                                    0         0  False  \n",
       "3                                    0         0  False  \n",
       "4                                    0         0  False  "
      ]
     },
     "execution_count": 12,
     "metadata": {},
     "output_type": "execute_result"
    }
   ],
   "source": [
    "CHO1_df.head()"
   ]
  },
  {
   "cell_type": "code",
   "execution_count": 13,
   "id": "afc3d5c6",
   "metadata": {},
   "outputs": [
    {
     "name": "stdout",
     "output_type": "stream",
     "text": [
      "<class 'pandas.core.frame.DataFrame'>\n",
      "RangeIndex: 58279 entries, 0 to 58278\n",
      "Data columns (total 8 columns):\n",
      " #   Column                               Non-Null Count  Dtype \n",
      "---  ------                               --------------  ----- \n",
      " 0   Inpatient_Psych_Service              58279 non-null  object\n",
      " 1   Num_Social_Risk_Factors              58279 non-null  int64 \n",
      " 2   Emergency_Dept_Service               58279 non-null  int64 \n",
      " 3   Alcohol_or_Drug_Diagnosis            58279 non-null  int64 \n",
      " 4   Major_Depressive_Disorder_Diagnosis  58279 non-null  int64 \n",
      " 5   Race_Black_Indigenous_PeopleOfColor  58279 non-null  int32 \n",
      " 6   Employed                             58279 non-null  int64 \n",
      " 7   Sex_M                                58279 non-null  bool  \n",
      "dtypes: bool(1), int32(1), int64(5), object(1)\n",
      "memory usage: 2.9+ MB\n"
     ]
    }
   ],
   "source": [
    "CHO1_df.info()"
   ]
  },
  {
   "cell_type": "markdown",
   "id": "8f613443",
   "metadata": {},
   "source": [
    "### Correlation Matrix"
   ]
  },
  {
   "cell_type": "markdown",
   "id": "921d0908",
   "metadata": {},
   "source": [
    "Using a correlation matrix before building a Random Forest model is a common practice to identify and understand the relationships between different features (variables) in your dataset. The correlation matrix provides insights into the linear relationships between pairs of variables, and it can be beneficial for several reasons:\n",
    "\n",
    "Feature Selection:\n",
    "Identifying highly correlated features allows you to recognize redundant information in your dataset. Keeping highly correlated features might not add much value and could potentially lead to overfitting. In such cases, you may choose to remove one of the correlated features.\n",
    "\n",
    "Collinearity Detection:\n",
    "High correlation between predictor variables is an indication of multicollinearity. Multicollinearity can negatively impact the performance and interpretability of regression-based models. Random Forest, being an ensemble method, is less sensitive to multicollinearity compared to linear models, but it's still beneficial to be aware of such relationships.\n",
    "\n",
    "Understanding Relationships:\n",
    "Analyzing the correlation matrix helps you understand how different features are related. This understanding can guide feature engineering efforts and provide insights into the data's underlying structure.\n",
    "\n",
    "Improved Interpretability:\n",
    "For models like Decision Trees and Random Forests, understanding the relationships between features can enhance model interpretability. Knowing which features are strongly correlated or uncorrelated can help in interpreting the importance of features derived from these models.\n",
    "\n",
    "It's important to note that correlation does not imply causation, and the absence of correlation does not imply the absence of a relationship. Additionally, Random Forests are relatively robust to multicollinearity, and they can handle correlated features without much impact on performance. However, the insights gained from the correlation matrix can guide feature engineering decisions and potentially improve the overall model."
   ]
  },
  {
   "cell_type": "code",
   "execution_count": 16,
   "id": "6497bb55",
   "metadata": {
    "scrolled": true
   },
   "outputs": [
    {
     "data": {
      "text/plain": [
       "<Axes: >"
      ]
     },
     "execution_count": 16,
     "metadata": {},
     "output_type": "execute_result"
    },
    {
     "data": {
      "image/png": "[encoded data removed]",
      "text/plain": [
       "<Figure size 700x700 with 2 Axes>"
      ]
     },
     "metadata": {},
     "output_type": "display_data"
    }
   ],
   "source": [
    "correlation_matrix = CHO1_df.corr()\n",
    "plt.figure(figsize=(7,7))\n",
    "sns.heatmap(correlation_matrix, \n",
    "            annot=True, \n",
    "            cmap='coolwarm', \n",
    "            fmt='.2f', \n",
    "            linewidths=0.5)\n",
    "plt.show()"
   ]
  },
  {
   "cell_type": "markdown",
   "id": "f5baae4e",
   "metadata": {},
   "source": [
    "There is mostly very low correlation. The combinations that exceed .30, which is still a weak correlation, are:\n",
    "\n",
    "- ED Svc & IP Psych Service\n",
    "- Alcohol and Drug Use & IP Psych Svc\n",
    "- Alcohol and Drug Use & ED Service\n",
    "\n",
    "These results indicate that there is a low risk of colinearity."
   ]
  },
  {
   "cell_type": "markdown",
   "id": "94be1c69",
   "metadata": {},
   "source": [
    "## Sampling"
   ]
  },
  {
   "cell_type": "code",
   "execution_count": 17,
   "id": "c81a7842",
   "metadata": {},
   "outputs": [
    {
     "data": {
      "text/html": [
       "<div>\n",
       "<style scoped>\n",
       "    .dataframe tbody tr th:only-of-type {\n",
       "        vertical-align: middle;\n",
       "    }\n",
       "\n",
       "    .dataframe tbody tr th {\n",
       "        vertical-align: top;\n",
       "    }\n",
       "\n",
       "    .dataframe thead th {\n",
       "        text-align: right;\n",
       "    }\n",
       "</style>\n",
       "<table border=\"1\" class=\"dataframe\">\n",
       "  <thead>\n",
       "    <tr style=\"text-align: right;\">\n",
       "      <th></th>\n",
       "      <th>Num_Social_Risk_Factors</th>\n",
       "      <th>Emergency_Dept_Service</th>\n",
       "      <th>Alcohol_or_Drug_Diagnosis</th>\n",
       "      <th>Major_Depressive_Disorder_Diagnosis</th>\n",
       "      <th>Race_Black_Indigenous_PeopleOfColor</th>\n",
       "      <th>Employed</th>\n",
       "      <th>Sex_M</th>\n",
       "    </tr>\n",
       "  </thead>\n",
       "  <tbody>\n",
       "    <tr>\n",
       "      <th>0</th>\n",
       "      <td>0</td>\n",
       "      <td>0</td>\n",
       "      <td>0</td>\n",
       "      <td>0</td>\n",
       "      <td>0</td>\n",
       "      <td>0</td>\n",
       "      <td>False</td>\n",
       "    </tr>\n",
       "    <tr>\n",
       "      <th>1</th>\n",
       "      <td>0</td>\n",
       "      <td>1</td>\n",
       "      <td>1</td>\n",
       "      <td>1</td>\n",
       "      <td>0</td>\n",
       "      <td>0</td>\n",
       "      <td>True</td>\n",
       "    </tr>\n",
       "    <tr>\n",
       "      <th>2</th>\n",
       "      <td>0</td>\n",
       "      <td>0</td>\n",
       "      <td>0</td>\n",
       "      <td>0</td>\n",
       "      <td>0</td>\n",
       "      <td>0</td>\n",
       "      <td>False</td>\n",
       "    </tr>\n",
       "    <tr>\n",
       "      <th>3</th>\n",
       "      <td>1</td>\n",
       "      <td>0</td>\n",
       "      <td>1</td>\n",
       "      <td>0</td>\n",
       "      <td>0</td>\n",
       "      <td>0</td>\n",
       "      <td>False</td>\n",
       "    </tr>\n",
       "    <tr>\n",
       "      <th>4</th>\n",
       "      <td>0</td>\n",
       "      <td>1</td>\n",
       "      <td>0</td>\n",
       "      <td>0</td>\n",
       "      <td>0</td>\n",
       "      <td>0</td>\n",
       "      <td>False</td>\n",
       "    </tr>\n",
       "  </tbody>\n",
       "</table>\n",
       "</div>"
      ],
      "text/plain": [
       "   Num_Social_Risk_Factors  Emergency_Dept_Service  Alcohol_or_Drug_Diagnosis  \\\n",
       "0                        0                       0                          0   \n",
       "1                        0                       1                          1   \n",
       "2                        0                       0                          0   \n",
       "3                        1                       0                          1   \n",
       "4                        0                       1                          0   \n",
       "\n",
       "   Major_Depressive_Disorder_Diagnosis  Race_Black_Indigenous_PeopleOfColor  \\\n",
       "0                                    0                                    0   \n",
       "1                                    1                                    0   \n",
       "2                                    0                                    0   \n",
       "3                                    0                                    0   \n",
       "4                                    0                                    0   \n",
       "\n",
       "   Employed  Sex_M  \n",
       "0         0  False  \n",
       "1         0   True  \n",
       "2         0  False  \n",
       "3         0  False  \n",
       "4         0  False  "
      ]
     },
     "execution_count": 17,
     "metadata": {},
     "output_type": "execute_result"
    }
   ],
   "source": [
    "x = CHO1_df.drop('Inpatient_Psych_Service',axis=1).copy()\n",
    "x.head()"
   ]
  },
  {
   "cell_type": "code",
   "execution_count": 18,
   "id": "6a1562d5",
   "metadata": {},
   "outputs": [
    {
     "name": "stdout",
     "output_type": "stream",
     "text": [
      "<class 'pandas.core.frame.DataFrame'>\n",
      "RangeIndex: 58279 entries, 0 to 58278\n",
      "Data columns (total 7 columns):\n",
      " #   Column                               Non-Null Count  Dtype\n",
      "---  ------                               --------------  -----\n",
      " 0   Num_Social_Risk_Factors              58279 non-null  int64\n",
      " 1   Emergency_Dept_Service               58279 non-null  int64\n",
      " 2   Alcohol_or_Drug_Diagnosis            58279 non-null  int64\n",
      " 3   Major_Depressive_Disorder_Diagnosis  58279 non-null  int64\n",
      " 4   Race_Black_Indigenous_PeopleOfColor  58279 non-null  int32\n",
      " 5   Employed                             58279 non-null  int64\n",
      " 6   Sex_M                                58279 non-null  bool \n",
      "dtypes: bool(1), int32(1), int64(5)\n",
      "memory usage: 2.5 MB\n"
     ]
    }
   ],
   "source": [
    "x.info()"
   ]
  },
  {
   "cell_type": "code",
   "execution_count": 19,
   "id": "ee91ef29",
   "metadata": {},
   "outputs": [
    {
     "data": {
      "text/plain": [
       "0    0\n",
       "1    0\n",
       "2    0\n",
       "3    0\n",
       "4    0\n",
       "Name: Inpatient_Psych_Service, dtype: object"
      ]
     },
     "execution_count": 19,
     "metadata": {},
     "output_type": "execute_result"
    }
   ],
   "source": [
    "y = CHO1_df['Inpatient_Psych_Service'].copy()\n",
    "y.head()"
   ]
  },
  {
   "cell_type": "code",
   "execution_count": 20,
   "id": "352bae62",
   "metadata": {},
   "outputs": [
    {
     "data": {
      "text/plain": [
       "array(['0', '1'], dtype=object)"
      ]
     },
     "execution_count": 20,
     "metadata": {},
     "output_type": "execute_result"
    }
   ],
   "source": [
    "y.unique()"
   ]
  },
  {
   "cell_type": "code",
   "execution_count": 21,
   "id": "52956303",
   "metadata": {},
   "outputs": [
    {
     "name": "stdout",
     "output_type": "stream",
     "text": [
      "Class 0: Count = 57000, Percentage = 97.81%\n",
      "Class 1: Count = 1279, Percentage = 2.19%\n"
     ]
    }
   ],
   "source": [
    "class_counts = Counter(y)\n",
    "total_samples = len(y)\n",
    "\n",
    "class_percentages = {cls: count / total_samples * 100 for cls, \n",
    "                     count in class_counts.items()}\n",
    "\n",
    "for cls, count in class_counts.items():\n",
    "    percentage = class_percentages[cls]\n",
    "    print(f\"Class {cls}: Count = {count}, Percentage = {percentage:.2f}%\")"
   ]
  },
  {
   "cell_type": "markdown",
   "id": "066ad83d",
   "metadata": {},
   "source": [
    "### Over-sampling with SMOTE\n",
    "\n",
    "SMOTE (Synthetic Minority Over-sampling Technique) is a technique used in machine learning and data preprocessing to address the class imbalance problem, particularly in classification tasks. The class imbalance problem arises when one class in the dataset has significantly fewer instances than the others, leading to biased models that may perform poorly on the minority class.\n",
    "\n",
    "In Python, the imbalanced-learn library provides an implementation of SMOTE through the SMOTE class. Here's a brief explanation of what SMOTE does:\n",
    "\n",
    "Identifying Minority Class Instances:\n",
    "SMOTE focuses on the minority class, which is the class with fewer instances.\n",
    "\n",
    "Generating Synthetic Samples:\n",
    "For each instance in the minority class, SMOTE creates synthetic instances by interpolating between that instance and its k-nearest neighbors. The number of neighbors is specified by the user.\n",
    "\n",
    "Balancing the Dataset:\n",
    "The synthetic instances are added to the original dataset, effectively balancing the class distribution. This helps to mitigate the impact of class imbalance on machine learning models."
   ]
  },
  {
   "cell_type": "code",
   "execution_count": 22,
   "id": "a0019493",
   "metadata": {},
   "outputs": [],
   "source": [
    "sm = SMOTE(sampling_strategy='minority')\n",
    "x_sm , y_sm = sm.fit_resample(x,y)"
   ]
  },
  {
   "cell_type": "code",
   "execution_count": 23,
   "id": "5084457b",
   "metadata": {},
   "outputs": [
    {
     "data": {
      "text/plain": [
       "(114000, 7)"
      ]
     },
     "execution_count": 23,
     "metadata": {},
     "output_type": "execute_result"
    }
   ],
   "source": [
    "x_sm.shape"
   ]
  },
  {
   "cell_type": "code",
   "execution_count": 24,
   "id": "4f8d6330",
   "metadata": {},
   "outputs": [
    {
     "data": {
      "text/plain": [
       "(114000,)"
      ]
     },
     "execution_count": 24,
     "metadata": {},
     "output_type": "execute_result"
    }
   ],
   "source": [
    "y_sm.shape"
   ]
  },
  {
   "cell_type": "code",
   "execution_count": 25,
   "id": "6c630f09",
   "metadata": {},
   "outputs": [
    {
     "data": {
      "text/plain": [
       "Inpatient_Psych_Service\n",
       "0    57000\n",
       "1    57000\n",
       "Name: count, dtype: int64"
      ]
     },
     "execution_count": 25,
     "metadata": {},
     "output_type": "execute_result"
    }
   ],
   "source": [
    "y_sm.value_counts()"
   ]
  },
  {
   "cell_type": "code",
   "execution_count": 26,
   "id": "904af006",
   "metadata": {},
   "outputs": [
    {
     "name": "stdout",
     "output_type": "stream",
     "text": [
      "Shape of x_sm: (114000, 7)\n",
      "Shape of y_sm: (114000,)\n"
     ]
    }
   ],
   "source": [
    "# Check the shape of X_sm and y_sm\n",
    "print(f\"Shape of x_sm: {x_sm.shape}\")\n",
    "print(f\"Shape of y_sm: {y_sm.shape}\")\n",
    "\n",
    "# If the number of samples is different, raise an error\n",
    "if x_sm.shape[0] != y_sm.shape[0]:\n",
    "    raise ValueError(\"X_sm and y_sm must have the same number of samples.\")"
   ]
  },
  {
   "cell_type": "markdown",
   "id": "14f06e53",
   "metadata": {},
   "source": [
    "### Train Test Split (Over Sampled)"
   ]
  },
  {
   "cell_type": "code",
   "execution_count": 44,
   "id": "68cb3382",
   "metadata": {},
   "outputs": [],
   "source": [
    "xsm_train, xsm_test, ysm_train, ysm_test = train_test_split(x_sm, y_sm, random_state=37)"
   ]
  },
  {
   "cell_type": "markdown",
   "id": "8fdb4806",
   "metadata": {},
   "source": [
    "# Analysis (Over Sampled)"
   ]
  },
  {
   "cell_type": "markdown",
   "id": "c8e7c257",
   "metadata": {},
   "source": [
    "## Random Forrest (Over-Sampled)"
   ]
  },
  {
   "cell_type": "markdown",
   "id": "4a322b94",
   "metadata": {},
   "source": [
    "Random Forest is an ensemble learning method in machine learning that operates by constructing a multitude of decision trees during training and outputs the mode of the classes for classification tasks or the mean prediction for regression tasks. Each decision tree is built on a random subset of the training data, and at each split, a random subset of features is considered. This randomness in the data and feature selection helps mitigate overfitting and increases the model's robustness. The final prediction is then determined by aggregating the predictions of all individual trees. Random Forest is known for its high accuracy, versatility, and ability to handle large datasets with numerous features, making it a popular choice for a wide range of machine learning applications."
   ]
  },
  {
   "cell_type": "markdown",
   "id": "72528138",
   "metadata": {},
   "source": [
    "### Define Forrest"
   ]
  },
  {
   "cell_type": "code",
   "execution_count": 45,
   "id": "1a3a98b6",
   "metadata": {},
   "outputs": [],
   "source": [
    "# Select Random Forrest Classifier\n",
    "random_forest_classifier = RandomForestClassifier()"
   ]
  },
  {
   "cell_type": "code",
   "execution_count": 52,
   "id": "224ae748",
   "metadata": {},
   "outputs": [],
   "source": [
    "# Set parameters\n",
    "rf = RandomForestClassifier(n_estimators=200, \n",
    "                            max_depth=20, \n",
    "                            criterion='entropy')"
   ]
  },
  {
   "cell_type": "code",
   "execution_count": 53,
   "id": "7c6e9864",
   "metadata": {},
   "outputs": [
    {
     "data": {
      "text/html": [
       "<style>#sk-container-id-3 {color: black;}#sk-container-id-3 pre{padding: 0;}#sk-container-id-3 div.sk-toggleable {background-color: white;}#sk-container-id-3 label.sk-toggleable__label {cursor: pointer;display: block;width: 100%;margin-bottom: 0;padding: 0.3em;box-sizing: border-box;text-align: center;}#sk-container-id-3 label.sk-toggleable__label-arrow:before {content: \"▸\";float: left;margin-right: 0.25em;color: #696969;}#sk-container-id-3 label.sk-toggleable__label-arrow:hover:before {color: black;}#sk-container-id-3 div.sk-estimator:hover label.sk-toggleable__label-arrow:before {color: black;}#sk-container-id-3 div.sk-toggleable__content {max-height: 0;max-width: 0;overflow: hidden;text-align: left;background-color: #f0f8ff;}#sk-container-id-3 div.sk-toggleable__content pre {margin: 0.2em;color: black;border-radius: 0.25em;background-color: #f0f8ff;}#sk-container-id-3 input.sk-toggleable__control:checked~div.sk-toggleable__content {max-height: 200px;max-width: 100%;overflow: auto;}#sk-container-id-3 input.sk-toggleable__control:checked~label.sk-toggleable__label-arrow:before {content: \"▾\";}#sk-container-id-3 div.sk-estimator input.sk-toggleable__control:checked~label.sk-toggleable__label {background-color: #d4ebff;}#sk-container-id-3 div.sk-label input.sk-toggleable__control:checked~label.sk-toggleable__label {background-color: #d4ebff;}#sk-container-id-3 input.sk-hidden--visually {border: 0;clip: rect(1px 1px 1px 1px);clip: rect(1px, 1px, 1px, 1px);height: 1px;margin: -1px;overflow: hidden;padding: 0;position: absolute;width: 1px;}#sk-container-id-3 div.sk-estimator {font-family: monospace;background-color: #f0f8ff;border: 1px dotted black;border-radius: 0.25em;box-sizing: border-box;margin-bottom: 0.5em;}#sk-container-id-3 div.sk-estimator:hover {background-color: #d4ebff;}#sk-container-id-3 div.sk-parallel-item::after {content: \"\";width: 100%;border-bottom: 1px solid gray;flex-grow: 1;}#sk-container-id-3 div.sk-label:hover label.sk-toggleable__label {background-color: #d4ebff;}#sk-container-id-3 div.sk-serial::before {content: \"\";position: absolute;border-left: 1px solid gray;box-sizing: border-box;top: 0;bottom: 0;left: 50%;z-index: 0;}#sk-container-id-3 div.sk-serial {display: flex;flex-direction: column;align-items: center;background-color: white;padding-right: 0.2em;padding-left: 0.2em;position: relative;}#sk-container-id-3 div.sk-item {position: relative;z-index: 1;}#sk-container-id-3 div.sk-parallel {display: flex;align-items: stretch;justify-content: center;background-color: white;position: relative;}#sk-container-id-3 div.sk-item::before, #sk-container-id-3 div.sk-parallel-item::before {content: \"\";position: absolute;border-left: 1px solid gray;box-sizing: border-box;top: 0;bottom: 0;left: 50%;z-index: -1;}#sk-container-id-3 div.sk-parallel-item {display: flex;flex-direction: column;z-index: 1;position: relative;background-color: white;}#sk-container-id-3 div.sk-parallel-item:first-child::after {align-self: flex-end;width: 50%;}#sk-container-id-3 div.sk-parallel-item:last-child::after {align-self: flex-start;width: 50%;}#sk-container-id-3 div.sk-parallel-item:only-child::after {width: 0;}#sk-container-id-3 div.sk-dashed-wrapped {border: 1px dashed gray;margin: 0 0.4em 0.5em 0.4em;box-sizing: border-box;padding-bottom: 0.4em;background-color: white;}#sk-container-id-3 div.sk-label label {font-family: monospace;font-weight: bold;display: inline-block;line-height: 1.2em;}#sk-container-id-3 div.sk-label-container {text-align: center;}#sk-container-id-3 div.sk-container {/* jupyter's `normalize.less` sets `[hidden] { display: none; }` but bootstrap.min.css set `[hidden] { display: none !important; }` so we also need the `!important` here to be able to override the default hidden behavior on the sphinx rendered scikit-learn.org. See: https://github.com/scikit-learn/scikit-learn/issues/21755 */display: inline-block !important;position: relative;}#sk-container-id-3 div.sk-text-repr-fallback {display: none;}</style><div id=\"sk-container-id-3\" class=\"sk-top-container\"><div class=\"sk-text-repr-fallback\"><pre>RandomForestClassifier(criterion=&#x27;entropy&#x27;, max_depth=20, n_estimators=200)</pre><b>In a Jupyter environment, please rerun this cell to show the HTML representation or trust the notebook. <br />On GitHub, the HTML representation is unable to render, please try loading this page with nbviewer.org.</b></div><div class=\"sk-container\" hidden><div class=\"sk-item\"><div class=\"sk-estimator sk-toggleable\"><input class=\"sk-toggleable__control sk-hidden--visually\" id=\"sk-estimator-id-3\" type=\"checkbox\" checked><label for=\"sk-estimator-id-3\" class=\"sk-toggleable__label sk-toggleable__label-arrow\">RandomForestClassifier</label><div class=\"sk-toggleable__content\"><pre>RandomForestClassifier(criterion=&#x27;entropy&#x27;, max_depth=20, n_estimators=200)</pre></div></div></div></div></div>"
      ],
      "text/plain": [
       "RandomForestClassifier(criterion='entropy', max_depth=20, n_estimators=200)"
      ]
     },
     "execution_count": 53,
     "metadata": {},
     "output_type": "execute_result"
    }
   ],
   "source": [
    "# Fit the training data\n",
    "rf.fit(xsm_train, ysm_train)"
   ]
  },
  {
   "cell_type": "code",
   "execution_count": 54,
   "id": "a9465fda",
   "metadata": {},
   "outputs": [
    {
     "name": "stdout",
     "output_type": "stream",
     "text": [
      "              precision    recall  f1-score   support\n",
      "\n",
      "           0       0.93      0.87      0.90     14194\n",
      "           1       0.88      0.94      0.91     14306\n",
      "\n",
      "    accuracy                           0.90     28500\n",
      "   macro avg       0.91      0.90      0.90     28500\n",
      "weighted avg       0.91      0.90      0.90     28500\n",
      "\n"
     ]
    }
   ],
   "source": [
    "ysm_pred = rf.predict(xsm_test)\n",
    "\n",
    "print(classification_report(ysm_test, ysm_pred))"
   ]
  },
  {
   "cell_type": "markdown",
   "id": "3ca99d68",
   "metadata": {},
   "source": [
    "Results from the classification report of a Random Forest Classifier. Let's break down the key metrics:\n",
    "\n",
    "- **Precision:**\n",
    "  - Precision for class 0 (label 0): 0.93\n",
    "    - This indicates that among the instances predicted as class 0, 93% were correctly classified.\n",
    "  - Precision for class 1 (label 1): 0.88\n",
    "    - Among instances predicted as class 1, 88% were correctly classified.\n",
    "\n",
    "- **Recall:**\n",
    "  - Recall for class 0: 0.87\n",
    "    - Out of all instances that actually belong to class 0, 87% were correctly identified by the model.\n",
    "  - Recall for class 1: 0.94\n",
    "    - For class 1, 94% of actual instances were correctly identified.\n",
    "\n",
    "- **F1-Score:**\n",
    "  - F1-score is the harmonic mean of precision and recall, providing a balance between the two metrics.\n",
    "  - F1-score for class 0: 0.90\n",
    "  - F1-score for class 1: 0.91\n",
    "\n",
    "- **Support:**\n",
    "  - The number of instances in each class (0 and 1) in the dataset.\n",
    "\n",
    "- **Accuracy:**\n",
    "  - Overall accuracy of the model on the entire dataset: 0.90 (or 90%)\n",
    "    - This indicates the proportion of correctly classified instances out of the total.\n",
    "\n",
    "- **Macro Average:**\n",
    "  - The macro average of precision, recall, and F1-score across classes.\n",
    "  - Macro average precision: 0.91, recall: 0.90, F1-score: 0.90\n",
    "\n",
    "- **Weighted Average:**\n",
    "  - The weighted average takes into account class imbalances.\n",
    "  - Weighted average precision, recall, and F1-score: 0.91\n",
    "\n",
    "In summary, the Random Forest Classifier is performing well, with high precision, recall, and F1-scores for both classes. The weighted average takes into consideration the class distribution in the dataset, providing an overall evaluation of the model's performance."
   ]
  },
  {
   "cell_type": "markdown",
   "id": "04d11261",
   "metadata": {},
   "source": [
    "### Confusion Matrix"
   ]
  },
  {
   "cell_type": "code",
   "execution_count": 55,
   "id": "56a34f65",
   "metadata": {
    "scrolled": true
   },
   "outputs": [
    {
     "data": {
      "text/plain": [
       "array([[12317,  1877],\n",
       "       [  870, 13436]], dtype=int64)"
      ]
     },
     "execution_count": 55,
     "metadata": {},
     "output_type": "execute_result"
    }
   ],
   "source": [
    "sm_conf_matrix = confusion_matrix(ysm_test, ysm_pred)\n",
    "sm_conf_matrix"
   ]
  },
  {
   "cell_type": "markdown",
   "id": "db44e2d7",
   "metadata": {},
   "source": [
    "These performance metrics indicate that the model has a high accuracy, precision, recall, specificity, and F1 score. Overall, the model seems to be performing well based on the provided confusion matrix. "
   ]
  },
  {
   "cell_type": "code",
   "execution_count": 56,
   "id": "82f71ccd",
   "metadata": {},
   "outputs": [
    {
     "data": {
      "image/png": "[encoded data removed]",
      "text/plain": [
       "<Figure size 640x480 with 2 Axes>"
      ]
     },
     "metadata": {},
     "output_type": "display_data"
    }
   ],
   "source": [
    "# Plot the confusion matrix using seaborn\n",
    "sns.heatmap(sm_conf_matrix, \n",
    "            annot=True, \n",
    "            fmt='d', \n",
    "            cmap='Blues', \n",
    "            xticklabels='0', \n",
    "            yticklabels='1')\n",
    "plt.xlabel('Predicted')\n",
    "plt.ylabel('True')\n",
    "plt.title('Confusion Matrix, Under-Sampled')\n",
    "plt.show()"
   ]
  },
  {
   "cell_type": "markdown",
   "id": "c4cf9f00",
   "metadata": {},
   "source": [
    "### Parameter Grid / Grid Search - SMOTE"
   ]
  },
  {
   "cell_type": "markdown",
   "id": "b40ac8be",
   "metadata": {},
   "source": [
    "#### Round 1"
   ]
  },
  {
   "cell_type": "code",
   "execution_count": 63,
   "id": "ec3446d8",
   "metadata": {},
   "outputs": [],
   "source": [
    "# Define parameter grid\n",
    "sm_param_grid = {\n",
    "    'n_estimators': [100, 200, 300],\n",
    "    'max_depth': [10, 20, 30],\n",
    "    'criterion': ['gini', 'entropy']\n",
    "}"
   ]
  },
  {
   "cell_type": "code",
   "execution_count": 64,
   "id": "a85c19ef",
   "metadata": {},
   "outputs": [
    {
     "name": "stdout",
     "output_type": "stream",
     "text": [
      "Best parameters:  {'criterion': 'entropy', 'max_depth': 30, 'n_estimators': 200}\n",
      "Best score:  0.9019912280701753\n"
     ]
    }
   ],
   "source": [
    "# Perform grid search\n",
    "sm_grid_search = GridSearchCV(random_forest_classifier, \n",
    "                           param_grid=sm_param_grid, \n",
    "                           cv=5, \n",
    "                           n_jobs=-1)\n",
    "sm_grid_search.fit(x_sm, y_sm)\n",
    "\n",
    "# Print best parameters and score\n",
    "print(\"Best parameters: \", sm_grid_search.best_params_)\n",
    "print(\"Best score: \", sm_grid_search.best_score_)"
   ]
  },
  {
   "cell_type": "markdown",
   "id": "994ff7ac",
   "metadata": {},
   "source": [
    "#### Round 2"
   ]
  },
  {
   "cell_type": "code",
   "execution_count": 65,
   "id": "986246b8",
   "metadata": {},
   "outputs": [],
   "source": [
    "# Define parameter grid\n",
    "sm_param_grid = {\n",
    "    'n_estimators': [100, 200, 300],\n",
    "    'max_depth': [20, 30, 40],\n",
    "    'criterion': ['gini', 'entropy']\n",
    "}"
   ]
  },
  {
   "cell_type": "code",
   "execution_count": 66,
   "id": "8336e7a4",
   "metadata": {},
   "outputs": [
    {
     "name": "stdout",
     "output_type": "stream",
     "text": [
      "Best parameters:  {'criterion': 'entropy', 'max_depth': 30, 'n_estimators': 200}\n",
      "Best score:  0.9019999999999999\n"
     ]
    }
   ],
   "source": [
    "# Perform grid search\n",
    "sm_grid_search = GridSearchCV(random_forest_classifier, \n",
    "                           param_grid=sm_param_grid, \n",
    "                           cv=5, \n",
    "                           n_jobs=-1)\n",
    "sm_grid_search.fit(x_sm, y_sm)\n",
    "\n",
    "# Print best parameters and score\n",
    "print(\"Best parameters: \", sm_grid_search.best_params_)\n",
    "print(\"Best score: \", sm_grid_search.best_score_)"
   ]
  },
  {
   "cell_type": "markdown",
   "id": "202223da",
   "metadata": {},
   "source": [
    "### Round 3"
   ]
  },
  {
   "cell_type": "code",
   "execution_count": 42,
   "id": "9bbee982",
   "metadata": {},
   "outputs": [],
   "source": [
    "# Define parameter grid\n",
    "#sm_param_grid = {\n",
    "#    'n_estimators': [10, 12, 14],\n",
    "#    'max_depth': [18, 20, 22],\n",
    "#    'criterion': ['gini']\n",
    "#}"
   ]
  },
  {
   "cell_type": "code",
   "execution_count": 43,
   "id": "d980fff3",
   "metadata": {},
   "outputs": [
    {
     "name": "stdout",
     "output_type": "stream",
     "text": [
      "Best parameters:  {'criterion': 'gini', 'max_depth': 22, 'n_estimators': 14}\n",
      "Best score:  0.9021842105263158\n"
     ]
    }
   ],
   "source": [
    "## Perform grid search\n",
    "#sm_grid_search = GridSearchCV(random_forest_classifier, \n",
    "#                           param_grid=sm_param_grid, \n",
    "#                           cv=5, \n",
    "#                           n_jobs=-1)\n",
    "#sm_grid_search.fit(x_sm, y_sm)\n",
    "#\n",
    "## Print best parameters and score\n",
    "#print(\"Best parameters: \", sm_grid_search.best_params_)\n",
    "#print(\"Best score: \", sm_grid_search.best_score_)"
   ]
  },
  {
   "cell_type": "markdown",
   "id": "61fb8d0a",
   "metadata": {},
   "source": [
    "### Redefine Forrest Based on Best Parameters (Round 2)"
   ]
  },
  {
   "cell_type": "code",
   "execution_count": 69,
   "id": "c1a5c608",
   "metadata": {
    "scrolled": false
   },
   "outputs": [
    {
     "data": {
      "text/html": [
       "<style>#sk-container-id-5 {color: black;}#sk-container-id-5 pre{padding: 0;}#sk-container-id-5 div.sk-toggleable {background-color: white;}#sk-container-id-5 label.sk-toggleable__label {cursor: pointer;display: block;width: 100%;margin-bottom: 0;padding: 0.3em;box-sizing: border-box;text-align: center;}#sk-container-id-5 label.sk-toggleable__label-arrow:before {content: \"▸\";float: left;margin-right: 0.25em;color: #696969;}#sk-container-id-5 label.sk-toggleable__label-arrow:hover:before {color: black;}#sk-container-id-5 div.sk-estimator:hover label.sk-toggleable__label-arrow:before {color: black;}#sk-container-id-5 div.sk-toggleable__content {max-height: 0;max-width: 0;overflow: hidden;text-align: left;background-color: #f0f8ff;}#sk-container-id-5 div.sk-toggleable__content pre {margin: 0.2em;color: black;border-radius: 0.25em;background-color: #f0f8ff;}#sk-container-id-5 input.sk-toggleable__control:checked~div.sk-toggleable__content {max-height: 200px;max-width: 100%;overflow: auto;}#sk-container-id-5 input.sk-toggleable__control:checked~label.sk-toggleable__label-arrow:before {content: \"▾\";}#sk-container-id-5 div.sk-estimator input.sk-toggleable__control:checked~label.sk-toggleable__label {background-color: #d4ebff;}#sk-container-id-5 div.sk-label input.sk-toggleable__control:checked~label.sk-toggleable__label {background-color: #d4ebff;}#sk-container-id-5 input.sk-hidden--visually {border: 0;clip: rect(1px 1px 1px 1px);clip: rect(1px, 1px, 1px, 1px);height: 1px;margin: -1px;overflow: hidden;padding: 0;position: absolute;width: 1px;}#sk-container-id-5 div.sk-estimator {font-family: monospace;background-color: #f0f8ff;border: 1px dotted black;border-radius: 0.25em;box-sizing: border-box;margin-bottom: 0.5em;}#sk-container-id-5 div.sk-estimator:hover {background-color: #d4ebff;}#sk-container-id-5 div.sk-parallel-item::after {content: \"\";width: 100%;border-bottom: 1px solid gray;flex-grow: 1;}#sk-container-id-5 div.sk-label:hover label.sk-toggleable__label {background-color: #d4ebff;}#sk-container-id-5 div.sk-serial::before {content: \"\";position: absolute;border-left: 1px solid gray;box-sizing: border-box;top: 0;bottom: 0;left: 50%;z-index: 0;}#sk-container-id-5 div.sk-serial {display: flex;flex-direction: column;align-items: center;background-color: white;padding-right: 0.2em;padding-left: 0.2em;position: relative;}#sk-container-id-5 div.sk-item {position: relative;z-index: 1;}#sk-container-id-5 div.sk-parallel {display: flex;align-items: stretch;justify-content: center;background-color: white;position: relative;}#sk-container-id-5 div.sk-item::before, #sk-container-id-5 div.sk-parallel-item::before {content: \"\";position: absolute;border-left: 1px solid gray;box-sizing: border-box;top: 0;bottom: 0;left: 50%;z-index: -1;}#sk-container-id-5 div.sk-parallel-item {display: flex;flex-direction: column;z-index: 1;position: relative;background-color: white;}#sk-container-id-5 div.sk-parallel-item:first-child::after {align-self: flex-end;width: 50%;}#sk-container-id-5 div.sk-parallel-item:last-child::after {align-self: flex-start;width: 50%;}#sk-container-id-5 div.sk-parallel-item:only-child::after {width: 0;}#sk-container-id-5 div.sk-dashed-wrapped {border: 1px dashed gray;margin: 0 0.4em 0.5em 0.4em;box-sizing: border-box;padding-bottom: 0.4em;background-color: white;}#sk-container-id-5 div.sk-label label {font-family: monospace;font-weight: bold;display: inline-block;line-height: 1.2em;}#sk-container-id-5 div.sk-label-container {text-align: center;}#sk-container-id-5 div.sk-container {/* jupyter's `normalize.less` sets `[hidden] { display: none; }` but bootstrap.min.css set `[hidden] { display: none !important; }` so we also need the `!important` here to be able to override the default hidden behavior on the sphinx rendered scikit-learn.org. See: https://github.com/scikit-learn/scikit-learn/issues/21755 */display: inline-block !important;position: relative;}#sk-container-id-5 div.sk-text-repr-fallback {display: none;}</style><div id=\"sk-container-id-5\" class=\"sk-top-container\"><div class=\"sk-text-repr-fallback\"><pre>RandomForestClassifier(criterion=&#x27;entropy&#x27;, max_depth=30, n_estimators=200)</pre><b>In a Jupyter environment, please rerun this cell to show the HTML representation or trust the notebook. <br />On GitHub, the HTML representation is unable to render, please try loading this page with nbviewer.org.</b></div><div class=\"sk-container\" hidden><div class=\"sk-item\"><div class=\"sk-estimator sk-toggleable\"><input class=\"sk-toggleable__control sk-hidden--visually\" id=\"sk-estimator-id-5\" type=\"checkbox\" checked><label for=\"sk-estimator-id-5\" class=\"sk-toggleable__label sk-toggleable__label-arrow\">RandomForestClassifier</label><div class=\"sk-toggleable__content\"><pre>RandomForestClassifier(criterion=&#x27;entropy&#x27;, max_depth=30, n_estimators=200)</pre></div></div></div></div></div>"
      ],
      "text/plain": [
       "RandomForestClassifier(criterion='entropy', max_depth=30, n_estimators=200)"
      ]
     },
     "execution_count": 69,
     "metadata": {},
     "output_type": "execute_result"
    }
   ],
   "source": [
    "# Set best parameters\n",
    "rf = RandomForestClassifier(n_estimators=200, \n",
    "                            max_depth=30, \n",
    "                            criterion='entropy')\n",
    "# Fit Model\n",
    "rf.fit(x_sm,y_sm)"
   ]
  },
  {
   "cell_type": "code",
   "execution_count": 70,
   "id": "6d56a395",
   "metadata": {},
   "outputs": [
    {
     "name": "stdout",
     "output_type": "stream",
     "text": [
      "              precision    recall  f1-score   support\n",
      "\n",
      "           0       0.93      0.87      0.90     14194\n",
      "           1       0.88      0.94      0.91     14306\n",
      "\n",
      "    accuracy                           0.90     28500\n",
      "   macro avg       0.91      0.90      0.90     28500\n",
      "weighted avg       0.91      0.90      0.90     28500\n",
      "\n"
     ]
    }
   ],
   "source": [
    "ysm_pred=rf.predict(xsm_test)\n",
    "print(classification_report(ysm_test, ysm_pred))"
   ]
  },
  {
   "cell_type": "markdown",
   "id": "f3630c6a",
   "metadata": {},
   "source": [
    "### Compare Original Under-Sampled model to Optimized model"
   ]
  },
  {
   "cell_type": "markdown",
   "id": "613b0dd2",
   "metadata": {},
   "source": [
    "The results of the two random forest analyses on the same data, labeled as \"Original\" and \"Optimized,\" exhibit identical performance metrics across precision, recall, and F1-score for both classes (0 and 1). \n",
    "\n",
    "The precision metric indicates the proportion of correctly predicted positive instances among all instances predicted as positive, the recall metric reflects the proportion of correctly predicted positive instances among all actual positive instances, and the F1-score is the harmonic mean of precision and recall. \n",
    "\n",
    "In both analyses, these metrics demonstrate balanced and high-quality predictions for both classes, with an accuracy of 90%. The macro and weighted averages across the two classes also consistently yield values around 0.91, indicating overall robust model performance. \n",
    "\n",
    "The similarity in results between the \"Original\" and \"Optimized\" models suggests that the optimization process did not significantly impact the classification performance, emphasizing the stability of the initial model's effectiveness on the given dataset."
   ]
  },
  {
   "cell_type": "code",
   "execution_count": 71,
   "id": "2bad446c",
   "metadata": {},
   "outputs": [
    {
     "name": "stdout",
     "output_type": "stream",
     "text": [
      "[[12327  1867]\n",
      " [  865 13441]]\n"
     ]
    }
   ],
   "source": [
    "sm_conf_matrix_final = confusion_matrix(ysm_test, ysm_pred)\n",
    "\n",
    "print(sm_conf_matrix_final)"
   ]
  },
  {
   "cell_type": "code",
   "execution_count": 72,
   "id": "6732e07b",
   "metadata": {},
   "outputs": [
    {
     "data": {
      "image/png": "[encoded data removed]",
      "text/plain": [
       "<Figure size 640x480 with 2 Axes>"
      ]
     },
     "metadata": {},
     "output_type": "display_data"
    }
   ],
   "source": [
    "# Plot the confusion matrix using seaborn\n",
    "sns.heatmap(sm_conf_matrix_final, \n",
    "            annot=True, \n",
    "            fmt='d', \n",
    "            cmap='Blues', \n",
    "            xticklabels='0', \n",
    "            yticklabels='1')\n",
    "plt.xlabel('Predicted')\n",
    "plt.ylabel('True')\n",
    "plt.title('Confusion Matrix, Under-Sampled, Best Parameters')\n",
    "plt.show()"
   ]
  },
  {
   "cell_type": "markdown",
   "id": "83da3ce9",
   "metadata": {},
   "source": [
    "## Under-sampling with NearMiss"
   ]
  },
  {
   "cell_type": "code",
   "execution_count": 73,
   "id": "4a5b4df8",
   "metadata": {},
   "outputs": [],
   "source": [
    "nm = NearMiss(version=1)"
   ]
  },
  {
   "cell_type": "code",
   "execution_count": 74,
   "id": "ea3343ff",
   "metadata": {},
   "outputs": [],
   "source": [
    "x_nm, y_nm = nm.fit_resample(x,y)"
   ]
  },
  {
   "cell_type": "code",
   "execution_count": 75,
   "id": "714de3f7",
   "metadata": {},
   "outputs": [
    {
     "data": {
      "text/plain": [
       "(2558, 7)"
      ]
     },
     "execution_count": 75,
     "metadata": {},
     "output_type": "execute_result"
    }
   ],
   "source": [
    "x_nm.shape"
   ]
  },
  {
   "cell_type": "code",
   "execution_count": 76,
   "id": "d8718109",
   "metadata": {},
   "outputs": [
    {
     "data": {
      "text/plain": [
       "(2558,)"
      ]
     },
     "execution_count": 76,
     "metadata": {},
     "output_type": "execute_result"
    }
   ],
   "source": [
    "y_nm.shape"
   ]
  },
  {
   "cell_type": "code",
   "execution_count": 77,
   "id": "bb3c6a17",
   "metadata": {},
   "outputs": [
    {
     "data": {
      "text/plain": [
       "Inpatient_Psych_Service\n",
       "0    1279\n",
       "1    1279\n",
       "Name: count, dtype: int64"
      ]
     },
     "execution_count": 77,
     "metadata": {},
     "output_type": "execute_result"
    }
   ],
   "source": [
    "y_nm.value_counts()"
   ]
  },
  {
   "cell_type": "code",
   "execution_count": 78,
   "id": "daddb6a5",
   "metadata": {},
   "outputs": [
    {
     "name": "stdout",
     "output_type": "stream",
     "text": [
      "Shape of x_nm: (2558, 7)\n",
      "Shape of y_nm: (2558,)\n"
     ]
    }
   ],
   "source": [
    "# Check the shape of X_sm and y_sm\n",
    "print(f\"Shape of x_nm: {x_nm.shape}\")\n",
    "print(f\"Shape of y_nm: {y_nm.shape}\")\n",
    "\n",
    "# If the number of samples is different, raise an error\n",
    "if x_nm.shape[0] != y_nm.shape[0]:\n",
    "    raise ValueError(\"X_nm and y_nm must have the same number of samples.\")"
   ]
  },
  {
   "cell_type": "code",
   "execution_count": 79,
   "id": "6f0cd533",
   "metadata": {},
   "outputs": [],
   "source": [
    "xnm_train, xnm_test, ynm_train, ynm_test = train_test_split(x_nm, y_nm, random_state=37)"
   ]
  },
  {
   "cell_type": "markdown",
   "id": "4610412f",
   "metadata": {},
   "source": [
    "# Analysis (Under-Sampled)"
   ]
  },
  {
   "cell_type": "markdown",
   "id": "774e4f9a",
   "metadata": {},
   "source": [
    "## Random Forest (Under-Sampled)"
   ]
  },
  {
   "cell_type": "markdown",
   "id": "583adf9c",
   "metadata": {},
   "source": [
    "Random Forest is an ensemble learning method in machine learning that operates by constructing a multitude of decision trees during training and outputs the mode of the classes for classification tasks or the mean prediction for regression tasks. Each decision tree is built on a random subset of the training data, and at each split, a random subset of features is considered. This randomness in the data and feature selection helps mitigate overfitting and increases the model's robustness. The final prediction is then determined by aggregating the predictions of all individual trees. Random Forest is known for its high accuracy, versatility, and ability to handle large datasets with numerous features, making it a popular choice for a wide range of machine learning applications."
   ]
  },
  {
   "cell_type": "code",
   "execution_count": 80,
   "id": "79d32cbe",
   "metadata": {},
   "outputs": [],
   "source": [
    "# Select Random Forrest Classifier\n",
    "random_forest_classifier = RandomForestClassifier()"
   ]
  },
  {
   "cell_type": "code",
   "execution_count": 81,
   "id": "c049d571",
   "metadata": {},
   "outputs": [],
   "source": [
    "# Set parameters\n",
    "rf = RandomForestClassifier(n_estimators=200, \n",
    "                            max_depth=None, \n",
    "                            criterion='entropy')"
   ]
  },
  {
   "cell_type": "code",
   "execution_count": 82,
   "id": "b460cecb",
   "metadata": {
    "scrolled": true
   },
   "outputs": [
    {
     "data": {
      "text/html": [
       "<style>#sk-container-id-6 {color: black;}#sk-container-id-6 pre{padding: 0;}#sk-container-id-6 div.sk-toggleable {background-color: white;}#sk-container-id-6 label.sk-toggleable__label {cursor: pointer;display: block;width: 100%;margin-bottom: 0;padding: 0.3em;box-sizing: border-box;text-align: center;}#sk-container-id-6 label.sk-toggleable__label-arrow:before {content: \"▸\";float: left;margin-right: 0.25em;color: #696969;}#sk-container-id-6 label.sk-toggleable__label-arrow:hover:before {color: black;}#sk-container-id-6 div.sk-estimator:hover label.sk-toggleable__label-arrow:before {color: black;}#sk-container-id-6 div.sk-toggleable__content {max-height: 0;max-width: 0;overflow: hidden;text-align: left;background-color: #f0f8ff;}#sk-container-id-6 div.sk-toggleable__content pre {margin: 0.2em;color: black;border-radius: 0.25em;background-color: #f0f8ff;}#sk-container-id-6 input.sk-toggleable__control:checked~div.sk-toggleable__content {max-height: 200px;max-width: 100%;overflow: auto;}#sk-container-id-6 input.sk-toggleable__control:checked~label.sk-toggleable__label-arrow:before {content: \"▾\";}#sk-container-id-6 div.sk-estimator input.sk-toggleable__control:checked~label.sk-toggleable__label {background-color: #d4ebff;}#sk-container-id-6 div.sk-label input.sk-toggleable__control:checked~label.sk-toggleable__label {background-color: #d4ebff;}#sk-container-id-6 input.sk-hidden--visually {border: 0;clip: rect(1px 1px 1px 1px);clip: rect(1px, 1px, 1px, 1px);height: 1px;margin: -1px;overflow: hidden;padding: 0;position: absolute;width: 1px;}#sk-container-id-6 div.sk-estimator {font-family: monospace;background-color: #f0f8ff;border: 1px dotted black;border-radius: 0.25em;box-sizing: border-box;margin-bottom: 0.5em;}#sk-container-id-6 div.sk-estimator:hover {background-color: #d4ebff;}#sk-container-id-6 div.sk-parallel-item::after {content: \"\";width: 100%;border-bottom: 1px solid gray;flex-grow: 1;}#sk-container-id-6 div.sk-label:hover label.sk-toggleable__label {background-color: #d4ebff;}#sk-container-id-6 div.sk-serial::before {content: \"\";position: absolute;border-left: 1px solid gray;box-sizing: border-box;top: 0;bottom: 0;left: 50%;z-index: 0;}#sk-container-id-6 div.sk-serial {display: flex;flex-direction: column;align-items: center;background-color: white;padding-right: 0.2em;padding-left: 0.2em;position: relative;}#sk-container-id-6 div.sk-item {position: relative;z-index: 1;}#sk-container-id-6 div.sk-parallel {display: flex;align-items: stretch;justify-content: center;background-color: white;position: relative;}#sk-container-id-6 div.sk-item::before, #sk-container-id-6 div.sk-parallel-item::before {content: \"\";position: absolute;border-left: 1px solid gray;box-sizing: border-box;top: 0;bottom: 0;left: 50%;z-index: -1;}#sk-container-id-6 div.sk-parallel-item {display: flex;flex-direction: column;z-index: 1;position: relative;background-color: white;}#sk-container-id-6 div.sk-parallel-item:first-child::after {align-self: flex-end;width: 50%;}#sk-container-id-6 div.sk-parallel-item:last-child::after {align-self: flex-start;width: 50%;}#sk-container-id-6 div.sk-parallel-item:only-child::after {width: 0;}#sk-container-id-6 div.sk-dashed-wrapped {border: 1px dashed gray;margin: 0 0.4em 0.5em 0.4em;box-sizing: border-box;padding-bottom: 0.4em;background-color: white;}#sk-container-id-6 div.sk-label label {font-family: monospace;font-weight: bold;display: inline-block;line-height: 1.2em;}#sk-container-id-6 div.sk-label-container {text-align: center;}#sk-container-id-6 div.sk-container {/* jupyter's `normalize.less` sets `[hidden] { display: none; }` but bootstrap.min.css set `[hidden] { display: none !important; }` so we also need the `!important` here to be able to override the default hidden behavior on the sphinx rendered scikit-learn.org. See: https://github.com/scikit-learn/scikit-learn/issues/21755 */display: inline-block !important;position: relative;}#sk-container-id-6 div.sk-text-repr-fallback {display: none;}</style><div id=\"sk-container-id-6\" class=\"sk-top-container\"><div class=\"sk-text-repr-fallback\"><pre>RandomForestClassifier(criterion=&#x27;entropy&#x27;, n_estimators=200)</pre><b>In a Jupyter environment, please rerun this cell to show the HTML representation or trust the notebook. <br />On GitHub, the HTML representation is unable to render, please try loading this page with nbviewer.org.</b></div><div class=\"sk-container\" hidden><div class=\"sk-item\"><div class=\"sk-estimator sk-toggleable\"><input class=\"sk-toggleable__control sk-hidden--visually\" id=\"sk-estimator-id-6\" type=\"checkbox\" checked><label for=\"sk-estimator-id-6\" class=\"sk-toggleable__label sk-toggleable__label-arrow\">RandomForestClassifier</label><div class=\"sk-toggleable__content\"><pre>RandomForestClassifier(criterion=&#x27;entropy&#x27;, n_estimators=200)</pre></div></div></div></div></div>"
      ],
      "text/plain": [
       "RandomForestClassifier(criterion='entropy', n_estimators=200)"
      ]
     },
     "execution_count": 82,
     "metadata": {},
     "output_type": "execute_result"
    }
   ],
   "source": [
    "# Fit the training data\n",
    "rf.fit(xnm_train, ynm_train)"
   ]
  },
  {
   "cell_type": "code",
   "execution_count": 83,
   "id": "643d9b82",
   "metadata": {},
   "outputs": [
    {
     "name": "stdout",
     "output_type": "stream",
     "text": [
      "              precision    recall  f1-score   support\n",
      "\n",
      "           0       0.87      0.84      0.85       324\n",
      "           1       0.84      0.87      0.85       316\n",
      "\n",
      "    accuracy                           0.85       640\n",
      "   macro avg       0.85      0.85      0.85       640\n",
      "weighted avg       0.85      0.85      0.85       640\n",
      "\n"
     ]
    }
   ],
   "source": [
    "ynm_pred = rf.predict(xnm_test)\n",
    "\n",
    "print(classification_report(ynm_test, ynm_pred))"
   ]
  },
  {
   "cell_type": "markdown",
   "id": "3c73ef15",
   "metadata": {},
   "source": [
    "The results provided are the classification metrics for a Random Forest classifier applied to a dataset. Let's break down the interpretation:\n",
    "\n",
    "Precision: The precision for class 0 is 0.86, indicating that 86% of instances predicted as class 0 were true positives. For class 1, the precision is 0.84, meaning that 84% of instances predicted as class 1 were true positives. Precision measures the accuracy of positive predictions.\n",
    "\n",
    "Recall (Sensitivity): The recall for class 0 is 0.84, suggesting that the model correctly identified 84% of the actual positive instances for class 0. For class 1, the recall is 0.86, indicating that 86% of actual positive instances for class 1 were correctly identified. Recall measures the ability of the model to capture all instances of the positive class.\n",
    "\n",
    "F1-score: The F1-score is the harmonic mean of precision and recall. Both classes have an F1-score of 0.85, reflecting a balanced trade-off between precision and recall.\n",
    "\n",
    "Accuracy: The overall accuracy is 0.85, indicating the proportion of correctly classified instances among all instances.\n",
    "\n",
    "Macro-average: The macro-average is the average of precision, recall, and F1-score across classes. In this case, it is also 0.85, suggesting balanced performance across both classes.\n",
    "\n",
    "Weighted-average: The weighted-average is an average where each class contribution is weighted by its support (the number of true instances). The weighted-average is 0.85, indicating consistent performance across the entire dataset.\n",
    "\n",
    "In summary, the Random Forest classifier demonstrates good overall performance with balanced precision, recall, and F1-scores for both classes, resulting in a high accuracy of 85%. The macro and weighted averages further support the model's stability and effectiveness across the dataset."
   ]
  },
  {
   "cell_type": "code",
   "execution_count": 84,
   "id": "3529543b",
   "metadata": {
    "scrolled": true
   },
   "outputs": [
    {
     "data": {
      "text/plain": [
       "array([[271,  53],\n",
       "       [ 42, 274]], dtype=int64)"
      ]
     },
     "execution_count": 84,
     "metadata": {},
     "output_type": "execute_result"
    }
   ],
   "source": [
    "nm_conf_matrix = confusion_matrix(ynm_test, ynm_pred)\n",
    "nm_conf_matrix"
   ]
  },
  {
   "cell_type": "markdown",
   "id": "c395a982",
   "metadata": {},
   "source": [
    "Overall, the model shows good performance with a balanced distribution of correct predictions in both classes, as evidenced by the similar values in the true positive and true negative regions of the confusion matrix."
   ]
  },
  {
   "cell_type": "code",
   "execution_count": 85,
   "id": "9617099f",
   "metadata": {},
   "outputs": [
    {
     "data": {
      "image/png": "[encoded data removed]",
      "text/plain": [
       "<Figure size 640x480 with 2 Axes>"
      ]
     },
     "metadata": {},
     "output_type": "display_data"
    }
   ],
   "source": [
    "# Plot the confusion matrix using seaborn\n",
    "sns.heatmap(nm_conf_matrix, \n",
    "            annot=True, \n",
    "            fmt='d', \n",
    "            cmap='Blues', \n",
    "            xticklabels='0', \n",
    "            yticklabels='1')\n",
    "plt.xlabel('Predicted')\n",
    "plt.ylabel('True')\n",
    "plt.title('Confusion Matrix, Under-Sampled')\n",
    "plt.show()"
   ]
  },
  {
   "cell_type": "markdown",
   "id": "adb1b9aa",
   "metadata": {},
   "source": [
    "## Parameter Grid / Grid Search"
   ]
  },
  {
   "cell_type": "markdown",
   "id": "dd685f37",
   "metadata": {},
   "source": [
    "### Round 1"
   ]
  },
  {
   "cell_type": "code",
   "execution_count": 86,
   "id": "a37ae0ee",
   "metadata": {},
   "outputs": [],
   "source": [
    "# Define parameter grid\n",
    "nm_param_grid = {\n",
    "    'n_estimators': [100, 200, 500],\n",
    "    'max_depth': [5, 10, 15],\n",
    "    'criterion': ['gini', 'entropy']\n",
    "}"
   ]
  },
  {
   "cell_type": "code",
   "execution_count": 87,
   "id": "e6f3610e",
   "metadata": {
    "scrolled": true
   },
   "outputs": [
    {
     "name": "stdout",
     "output_type": "stream",
     "text": [
      "Best parameters:  {'criterion': 'gini', 'max_depth': 5, 'n_estimators': 200}\n",
      "Best score:  0.8529958109099803\n"
     ]
    }
   ],
   "source": [
    "# Perform grid search\n",
    "nm_grid_search = GridSearchCV(random_forest_classifier, \n",
    "                           param_grid=nm_param_grid, \n",
    "                           cv=5, \n",
    "                           n_jobs=-1)\n",
    "nm_grid_search.fit(x_nm, y_nm)\n",
    "\n",
    "# Print best parameters and score\n",
    "print(\"Best parameters: \", nm_grid_search.best_params_)\n",
    "print(\"Best score: \", nm_grid_search.best_score_)"
   ]
  },
  {
   "cell_type": "markdown",
   "id": "86f2949e",
   "metadata": {},
   "source": [
    "### Round 2"
   ]
  },
  {
   "cell_type": "code",
   "execution_count": 90,
   "id": "a236ff60",
   "metadata": {},
   "outputs": [],
   "source": [
    "# Define parameter grid\n",
    "nm_param_grid = {\n",
    "    'n_estimators': [0, 20, 40],\n",
    "    'max_depth': [3, 5, 7],\n",
    "    'criterion': ['gini', 'entropy']\n",
    "}"
   ]
  },
  {
   "cell_type": "code",
   "execution_count": 91,
   "id": "32c33019",
   "metadata": {
    "scrolled": false
   },
   "outputs": [
    {
     "name": "stdout",
     "output_type": "stream",
     "text": [
      "Best parameters:  {'criterion': 'gini', 'max_depth': 3, 'n_estimators': 40}\n",
      "Best score:  0.8526013637475538\n"
     ]
    },
    {
     "name": "stderr",
     "output_type": "stream",
     "text": [
      "C:\\Users\\KGLtd\\anaconda3\\Lib\\site-packages\\sklearn\\model_selection\\_validation.py:425: FitFailedWarning: \n",
      "30 fits failed out of a total of 90.\n",
      "The score on these train-test partitions for these parameters will be set to nan.\n",
      "If these failures are not expected, you can try to debug them by setting error_score='raise'.\n",
      "\n",
      "Below are more details about the failures:\n",
      "--------------------------------------------------------------------------------\n",
      "30 fits failed with the following error:\n",
      "Traceback (most recent call last):\n",
      "  File \"C:\\Users\\KGLtd\\anaconda3\\Lib\\site-packages\\sklearn\\model_selection\\_validation.py\", line 732, in _fit_and_score\n",
      "    estimator.fit(X_train, y_train, **fit_params)\n",
      "  File \"C:\\Users\\KGLtd\\anaconda3\\Lib\\site-packages\\sklearn\\base.py\", line 1144, in wrapper\n",
      "    estimator._validate_params()\n",
      "  File \"C:\\Users\\KGLtd\\anaconda3\\Lib\\site-packages\\sklearn\\base.py\", line 637, in _validate_params\n",
      "    validate_parameter_constraints(\n",
      "  File \"C:\\Users\\KGLtd\\anaconda3\\Lib\\site-packages\\sklearn\\utils\\_param_validation.py\", line 95, in validate_parameter_constraints\n",
      "    raise InvalidParameterError(\n",
      "sklearn.utils._param_validation.InvalidParameterError: The 'n_estimators' parameter of RandomForestClassifier must be an int in the range [1, inf). Got 0 instead.\n",
      "\n",
      "  warnings.warn(some_fits_failed_message, FitFailedWarning)\n",
      "C:\\Users\\KGLtd\\anaconda3\\Lib\\site-packages\\sklearn\\model_selection\\_search.py:976: UserWarning: One or more of the test scores are non-finite: [       nan 0.83657809 0.85260136        nan 0.84946719 0.85220921\n",
      "        nan 0.8479131  0.84634983        nan 0.84986317 0.84791233\n",
      "        nan 0.85221227 0.85103581        nan 0.84713261 0.84634983]\n",
      "  warnings.warn(\n"
     ]
    }
   ],
   "source": [
    "# Perform grid search\n",
    "nm_grid_search = GridSearchCV(random_forest_classifier, \n",
    "                           param_grid=nm_param_grid, \n",
    "                           cv=5, \n",
    "                           n_jobs=-1)\n",
    "nm_grid_search.fit(x_nm, y_nm)\n",
    "\n",
    "# Print best parameters and score\n",
    "print(\"Best parameters: \", nm_grid_search.best_params_)\n",
    "print(\"Best score: \", nm_grid_search.best_score_)"
   ]
  },
  {
   "cell_type": "markdown",
   "id": "8e89ce00",
   "metadata": {},
   "source": [
    "### Round 3"
   ]
  },
  {
   "cell_type": "code",
   "execution_count": 92,
   "id": "08afa978",
   "metadata": {},
   "outputs": [],
   "source": [
    "# Define parameter grid\n",
    "nm_param_grid = {\n",
    "    'n_estimators': [30, 40, 50],\n",
    "    'max_depth': [2, 3, 4],\n",
    "    'criterion': ['gini']\n",
    "}"
   ]
  },
  {
   "cell_type": "code",
   "execution_count": 93,
   "id": "fd6ec56f",
   "metadata": {
    "scrolled": true
   },
   "outputs": [
    {
     "name": "stdout",
     "output_type": "stream",
     "text": [
      "Best parameters:  {'criterion': 'gini', 'max_depth': 4, 'n_estimators': 30}\n",
      "Best score:  0.8568990031800391\n"
     ]
    }
   ],
   "source": [
    "# Perform grid search\n",
    "nm_grid_search = GridSearchCV(random_forest_classifier, \n",
    "                           param_grid=nm_param_grid, \n",
    "                           cv=5, \n",
    "                           n_jobs=-1)\n",
    "nm_grid_search.fit(x_nm, y_nm)\n",
    "\n",
    "# Print best parameters and score\n",
    "print(\"Best parameters: \", nm_grid_search.best_params_)\n",
    "print(\"Best score: \", nm_grid_search.best_score_)"
   ]
  },
  {
   "cell_type": "markdown",
   "id": "176d56b0",
   "metadata": {},
   "source": [
    "### Redefine Forrest Based on Best Parameters (Round 3)"
   ]
  },
  {
   "cell_type": "code",
   "execution_count": 94,
   "id": "37cb0414",
   "metadata": {},
   "outputs": [],
   "source": [
    "# Set Best Parameters\n",
    "# Round 3\n",
    "rf = RandomForestClassifier(n_estimators=30, \n",
    "                            max_depth=4, \n",
    "                            criterion='gini')"
   ]
  },
  {
   "cell_type": "code",
   "execution_count": 95,
   "id": "69995e74",
   "metadata": {
    "scrolled": false
   },
   "outputs": [
    {
     "data": {
      "text/html": [
       "<style>#sk-container-id-7 {color: black;}#sk-container-id-7 pre{padding: 0;}#sk-container-id-7 div.sk-toggleable {background-color: white;}#sk-container-id-7 label.sk-toggleable__label {cursor: pointer;display: block;width: 100%;margin-bottom: 0;padding: 0.3em;box-sizing: border-box;text-align: center;}#sk-container-id-7 label.sk-toggleable__label-arrow:before {content: \"▸\";float: left;margin-right: 0.25em;color: #696969;}#sk-container-id-7 label.sk-toggleable__label-arrow:hover:before {color: black;}#sk-container-id-7 div.sk-estimator:hover label.sk-toggleable__label-arrow:before {color: black;}#sk-container-id-7 div.sk-toggleable__content {max-height: 0;max-width: 0;overflow: hidden;text-align: left;background-color: #f0f8ff;}#sk-container-id-7 div.sk-toggleable__content pre {margin: 0.2em;color: black;border-radius: 0.25em;background-color: #f0f8ff;}#sk-container-id-7 input.sk-toggleable__control:checked~div.sk-toggleable__content {max-height: 200px;max-width: 100%;overflow: auto;}#sk-container-id-7 input.sk-toggleable__control:checked~label.sk-toggleable__label-arrow:before {content: \"▾\";}#sk-container-id-7 div.sk-estimator input.sk-toggleable__control:checked~label.sk-toggleable__label {background-color: #d4ebff;}#sk-container-id-7 div.sk-label input.sk-toggleable__control:checked~label.sk-toggleable__label {background-color: #d4ebff;}#sk-container-id-7 input.sk-hidden--visually {border: 0;clip: rect(1px 1px 1px 1px);clip: rect(1px, 1px, 1px, 1px);height: 1px;margin: -1px;overflow: hidden;padding: 0;position: absolute;width: 1px;}#sk-container-id-7 div.sk-estimator {font-family: monospace;background-color: #f0f8ff;border: 1px dotted black;border-radius: 0.25em;box-sizing: border-box;margin-bottom: 0.5em;}#sk-container-id-7 div.sk-estimator:hover {background-color: #d4ebff;}#sk-container-id-7 div.sk-parallel-item::after {content: \"\";width: 100%;border-bottom: 1px solid gray;flex-grow: 1;}#sk-container-id-7 div.sk-label:hover label.sk-toggleable__label {background-color: #d4ebff;}#sk-container-id-7 div.sk-serial::before {content: \"\";position: absolute;border-left: 1px solid gray;box-sizing: border-box;top: 0;bottom: 0;left: 50%;z-index: 0;}#sk-container-id-7 div.sk-serial {display: flex;flex-direction: column;align-items: center;background-color: white;padding-right: 0.2em;padding-left: 0.2em;position: relative;}#sk-container-id-7 div.sk-item {position: relative;z-index: 1;}#sk-container-id-7 div.sk-parallel {display: flex;align-items: stretch;justify-content: center;background-color: white;position: relative;}#sk-container-id-7 div.sk-item::before, #sk-container-id-7 div.sk-parallel-item::before {content: \"\";position: absolute;border-left: 1px solid gray;box-sizing: border-box;top: 0;bottom: 0;left: 50%;z-index: -1;}#sk-container-id-7 div.sk-parallel-item {display: flex;flex-direction: column;z-index: 1;position: relative;background-color: white;}#sk-container-id-7 div.sk-parallel-item:first-child::after {align-self: flex-end;width: 50%;}#sk-container-id-7 div.sk-parallel-item:last-child::after {align-self: flex-start;width: 50%;}#sk-container-id-7 div.sk-parallel-item:only-child::after {width: 0;}#sk-container-id-7 div.sk-dashed-wrapped {border: 1px dashed gray;margin: 0 0.4em 0.5em 0.4em;box-sizing: border-box;padding-bottom: 0.4em;background-color: white;}#sk-container-id-7 div.sk-label label {font-family: monospace;font-weight: bold;display: inline-block;line-height: 1.2em;}#sk-container-id-7 div.sk-label-container {text-align: center;}#sk-container-id-7 div.sk-container {/* jupyter's `normalize.less` sets `[hidden] { display: none; }` but bootstrap.min.css set `[hidden] { display: none !important; }` so we also need the `!important` here to be able to override the default hidden behavior on the sphinx rendered scikit-learn.org. See: https://github.com/scikit-learn/scikit-learn/issues/21755 */display: inline-block !important;position: relative;}#sk-container-id-7 div.sk-text-repr-fallback {display: none;}</style><div id=\"sk-container-id-7\" class=\"sk-top-container\"><div class=\"sk-text-repr-fallback\"><pre>RandomForestClassifier(max_depth=4, n_estimators=30)</pre><b>In a Jupyter environment, please rerun this cell to show the HTML representation or trust the notebook. <br />On GitHub, the HTML representation is unable to render, please try loading this page with nbviewer.org.</b></div><div class=\"sk-container\" hidden><div class=\"sk-item\"><div class=\"sk-estimator sk-toggleable\"><input class=\"sk-toggleable__control sk-hidden--visually\" id=\"sk-estimator-id-7\" type=\"checkbox\" checked><label for=\"sk-estimator-id-7\" class=\"sk-toggleable__label sk-toggleable__label-arrow\">RandomForestClassifier</label><div class=\"sk-toggleable__content\"><pre>RandomForestClassifier(max_depth=4, n_estimators=30)</pre></div></div></div></div></div>"
      ],
      "text/plain": [
       "RandomForestClassifier(max_depth=4, n_estimators=30)"
      ]
     },
     "execution_count": 95,
     "metadata": {},
     "output_type": "execute_result"
    }
   ],
   "source": [
    "# Fit Model\n",
    "rf.fit(x_nm,y_nm)"
   ]
  },
  {
   "cell_type": "code",
   "execution_count": 96,
   "id": "a578f4de",
   "metadata": {
    "scrolled": false
   },
   "outputs": [
    {
     "name": "stdout",
     "output_type": "stream",
     "text": [
      "              precision    recall  f1-score   support\n",
      "\n",
      "           0       0.87      0.84      0.85       324\n",
      "           1       0.84      0.87      0.85       316\n",
      "\n",
      "    accuracy                           0.85       640\n",
      "   macro avg       0.85      0.85      0.85       640\n",
      "weighted avg       0.85      0.85      0.85       640\n",
      "\n"
     ]
    }
   ],
   "source": [
    "y_pred=rf.predict(xnm_test)\n",
    "print(classification_report(ynm_test, ynm_pred))"
   ]
  },
  {
   "cell_type": "markdown",
   "id": "2f59652b",
   "metadata": {},
   "source": [
    "### Compare Original Under-Sampled to Optimized Under-Sampled"
   ]
  },
  {
   "cell_type": "markdown",
   "id": "cb7bfeb5",
   "metadata": {},
   "source": [
    "The results of the two random forest models, Original and Optimized, are identical based on the provided precision, recall, and f1-score metrics. \n",
    "\n",
    "Both models demonstrate consistent performance across the two classes (0 and 1), achieving an accuracy of 85%. The precision and recall values for both classes are also the same, indicating that both models have an equal ability to correctly identify instances of both classes. The macro and weighted averages for precision, recall, and f1-score are all consistent, reaffirming the balanced performance of both models across the entire dataset. \n",
    "\n",
    "Overall, there is no observable difference in performance between the Original and Optimized random forest models based on the given evaluation metrics."
   ]
  },
  {
   "cell_type": "markdown",
   "id": "39da19e1",
   "metadata": {},
   "source": [
    "## Compare Over-Sampled with Under-Sampled Random Forest models"
   ]
  },
  {
   "cell_type": "markdown",
   "id": "f3569824",
   "metadata": {},
   "source": [
    "The results of the two random forest models, Over-Sampled and Under-Sampled, indicate differences in performance due to the different sampling techniques employed:\n",
    "\n",
    "**Over-Sampled Model:**\n",
    "- Precision: The model exhibits high precision for both classes (0 and 1), with 93% for class 0 and 88% for class 1.\n",
    "- Recall: The model demonstrates high recall, particularly for class 1 (94%), indicating its ability to correctly identify instances of this minority class.\n",
    "- F1-Score: The balanced F1-scores of 90% for both classes suggest an overall well-rounded performance.\n",
    "- Accuracy: The overall accuracy is 90%, reflecting the model's effectiveness across the entire dataset.\n",
    "\n",
    "**Under-Sampled Model:**\n",
    "- Precision: The precision for both classes is slightly lower compared to the Over-Sampled model, with 87% for class 0 and 84% for class 1.\n",
    "- Recall: Similar to precision, recall is slightly lower for both classes, with 84% for class 0 and 87% for class 1.\n",
    "- F1-Score: The balanced F1-scores of 85% for both classes indicate a relatively balanced performance.\n",
    "- Accuracy: The overall accuracy is 85%, reflecting the model's effectiveness on the reduced dataset.\n",
    "\n",
    "**Comparison:**\n",
    "- The Over-Sampled model generally outperforms the Under-Sampled model in terms of precision, recall, and F1-score.\n",
    "- The Over-Sampled model achieves a higher accuracy of 90% compared to the Under-Sampled model's accuracy of 85%.\n",
    "- The choice between Over-Sampling and Under-Sampling depends on the specific goals and constraints of the problem at hand, as well as the trade-offs between performance metrics and computational resources."
   ]
  },
  {
   "cell_type": "markdown",
   "id": "ab3420cc",
   "metadata": {},
   "source": [
    "## XGBoost"
   ]
  },
  {
   "cell_type": "markdown",
   "id": "897d60e2",
   "metadata": {},
   "source": [
    "XGBoost (Extreme Gradient Boosting) is a popular machine learning algorithm that is particularly effective for structured/tabular data and is widely used for both classification and regression tasks. "
   ]
  },
  {
   "cell_type": "markdown",
   "id": "2cf2f1ff",
   "metadata": {},
   "source": [
    "### Wrangle Data"
   ]
  },
  {
   "cell_type": "markdown",
   "id": "6f3801e7",
   "metadata": {},
   "source": [
    "Convert Inpatient Psych Services back to numerical"
   ]
  },
  {
   "cell_type": "code",
   "execution_count": 98,
   "id": "73c2b40d",
   "metadata": {},
   "outputs": [],
   "source": [
    "label_encoder = LabelEncoder()\n",
    "y_encoded = label_encoder.fit_transform(y)"
   ]
  },
  {
   "cell_type": "markdown",
   "id": "4125e0f2",
   "metadata": {},
   "source": [
    "### Split Data"
   ]
  },
  {
   "cell_type": "code",
   "execution_count": 99,
   "id": "663c28b5",
   "metadata": {},
   "outputs": [],
   "source": [
    "xbst_train, xbst_test, ybst_train, ybst_test = train_test_split(x, y_encoded, test_size=0.2, random_state=37)"
   ]
  },
  {
   "cell_type": "markdown",
   "id": "be31323d",
   "metadata": {},
   "source": [
    "### Define XGBoost model"
   ]
  },
  {
   "cell_type": "code",
   "execution_count": 100,
   "id": "190a831e",
   "metadata": {},
   "outputs": [],
   "source": [
    "XGBmodel = xgb.XGBClassifier(\n",
    "    n_estimators=100,\n",
    "    max_depth=3,\n",
    "    learning_rate=0.1,\n",
    "    subsample=0.8,\n",
    "    colsample_bytree=0.8,\n",
    "    seed=37\n",
    ")"
   ]
  },
  {
   "cell_type": "markdown",
   "id": "4a1ce52a",
   "metadata": {},
   "source": [
    "### Train the model"
   ]
  },
  {
   "cell_type": "code",
   "execution_count": 101,
   "id": "b8cb360c",
   "metadata": {
    "scrolled": false
   },
   "outputs": [
    {
     "data": {
      "text/html": [
       "<style>#sk-container-id-8 {color: black;}#sk-container-id-8 pre{padding: 0;}#sk-container-id-8 div.sk-toggleable {background-color: white;}#sk-container-id-8 label.sk-toggleable__label {cursor: pointer;display: block;width: 100%;margin-bottom: 0;padding: 0.3em;box-sizing: border-box;text-align: center;}#sk-container-id-8 label.sk-toggleable__label-arrow:before {content: \"▸\";float: left;margin-right: 0.25em;color: #696969;}#sk-container-id-8 label.sk-toggleable__label-arrow:hover:before {color: black;}#sk-container-id-8 div.sk-estimator:hover label.sk-toggleable__label-arrow:before {color: black;}#sk-container-id-8 div.sk-toggleable__content {max-height: 0;max-width: 0;overflow: hidden;text-align: left;background-color: #f0f8ff;}#sk-container-id-8 div.sk-toggleable__content pre {margin: 0.2em;color: black;border-radius: 0.25em;background-color: #f0f8ff;}#sk-container-id-8 input.sk-toggleable__control:checked~div.sk-toggleable__content {max-height: 200px;max-width: 100%;overflow: auto;}#sk-container-id-8 input.sk-toggleable__control:checked~label.sk-toggleable__label-arrow:before {content: \"▾\";}#sk-container-id-8 div.sk-estimator input.sk-toggleable__control:checked~label.sk-toggleable__label {background-color: #d4ebff;}#sk-container-id-8 div.sk-label input.sk-toggleable__control:checked~label.sk-toggleable__label {background-color: #d4ebff;}#sk-container-id-8 input.sk-hidden--visually {border: 0;clip: rect(1px 1px 1px 1px);clip: rect(1px, 1px, 1px, 1px);height: 1px;margin: -1px;overflow: hidden;padding: 0;position: absolute;width: 1px;}#sk-container-id-8 div.sk-estimator {font-family: monospace;background-color: #f0f8ff;border: 1px dotted black;border-radius: 0.25em;box-sizing: border-box;margin-bottom: 0.5em;}#sk-container-id-8 div.sk-estimator:hover {background-color: #d4ebff;}#sk-container-id-8 div.sk-parallel-item::after {content: \"\";width: 100%;border-bottom: 1px solid gray;flex-grow: 1;}#sk-container-id-8 div.sk-label:hover label.sk-toggleable__label {background-color: #d4ebff;}#sk-container-id-8 div.sk-serial::before {content: \"\";position: absolute;border-left: 1px solid gray;box-sizing: border-box;top: 0;bottom: 0;left: 50%;z-index: 0;}#sk-container-id-8 div.sk-serial {display: flex;flex-direction: column;align-items: center;background-color: white;padding-right: 0.2em;padding-left: 0.2em;position: relative;}#sk-container-id-8 div.sk-item {position: relative;z-index: 1;}#sk-container-id-8 div.sk-parallel {display: flex;align-items: stretch;justify-content: center;background-color: white;position: relative;}#sk-container-id-8 div.sk-item::before, #sk-container-id-8 div.sk-parallel-item::before {content: \"\";position: absolute;border-left: 1px solid gray;box-sizing: border-box;top: 0;bottom: 0;left: 50%;z-index: -1;}#sk-container-id-8 div.sk-parallel-item {display: flex;flex-direction: column;z-index: 1;position: relative;background-color: white;}#sk-container-id-8 div.sk-parallel-item:first-child::after {align-self: flex-end;width: 50%;}#sk-container-id-8 div.sk-parallel-item:last-child::after {align-self: flex-start;width: 50%;}#sk-container-id-8 div.sk-parallel-item:only-child::after {width: 0;}#sk-container-id-8 div.sk-dashed-wrapped {border: 1px dashed gray;margin: 0 0.4em 0.5em 0.4em;box-sizing: border-box;padding-bottom: 0.4em;background-color: white;}#sk-container-id-8 div.sk-label label {font-family: monospace;font-weight: bold;display: inline-block;line-height: 1.2em;}#sk-container-id-8 div.sk-label-container {text-align: center;}#sk-container-id-8 div.sk-container {/* jupyter's `normalize.less` sets `[hidden] { display: none; }` but bootstrap.min.css set `[hidden] { display: none !important; }` so we also need the `!important` here to be able to override the default hidden behavior on the sphinx rendered scikit-learn.org. See: https://github.com/scikit-learn/scikit-learn/issues/21755 */display: inline-block !important;position: relative;}#sk-container-id-8 div.sk-text-repr-fallback {display: none;}</style><div id=\"sk-container-id-8\" class=\"sk-top-container\"><div class=\"sk-text-repr-fallback\"><pre>XGBClassifier(base_score=None, booster=None, callbacks=None,\n",
       "              colsample_bylevel=None, colsample_bynode=None,\n",
       "              colsample_bytree=0.8, device=None, early_stopping_rounds=None,\n",
       "              enable_categorical=False, eval_metric=None, feature_types=None,\n",
       "              gamma=None, grow_policy=None, importance_type=None,\n",
       "              interaction_constraints=None, learning_rate=0.1, max_bin=None,\n",
       "              max_cat_threshold=None, max_cat_to_onehot=None,\n",
       "              max_delta_step=None, max_depth=3, max_leaves=None,\n",
       "              min_child_weight=None, missing=nan, monotone_constraints=None,\n",
       "              multi_strategy=None, n_estimators=100, n_jobs=None,\n",
       "              num_parallel_tree=None, random_state=None, ...)</pre><b>In a Jupyter environment, please rerun this cell to show the HTML representation or trust the notebook. <br />On GitHub, the HTML representation is unable to render, please try loading this page with nbviewer.org.</b></div><div class=\"sk-container\" hidden><div class=\"sk-item\"><div class=\"sk-estimator sk-toggleable\"><input class=\"sk-toggleable__control sk-hidden--visually\" id=\"sk-estimator-id-8\" type=\"checkbox\" checked><label for=\"sk-estimator-id-8\" class=\"sk-toggleable__label sk-toggleable__label-arrow\">XGBClassifier</label><div class=\"sk-toggleable__content\"><pre>XGBClassifier(base_score=None, booster=None, callbacks=None,\n",
       "              colsample_bylevel=None, colsample_bynode=None,\n",
       "              colsample_bytree=0.8, device=None, early_stopping_rounds=None,\n",
       "              enable_categorical=False, eval_metric=None, feature_types=None,\n",
       "              gamma=None, grow_policy=None, importance_type=None,\n",
       "              interaction_constraints=None, learning_rate=0.1, max_bin=None,\n",
       "              max_cat_threshold=None, max_cat_to_onehot=None,\n",
       "              max_delta_step=None, max_depth=3, max_leaves=None,\n",
       "              min_child_weight=None, missing=nan, monotone_constraints=None,\n",
       "              multi_strategy=None, n_estimators=100, n_jobs=None,\n",
       "              num_parallel_tree=None, random_state=None, ...)</pre></div></div></div></div></div>"
      ],
      "text/plain": [
       "XGBClassifier(base_score=None, booster=None, callbacks=None,\n",
       "              colsample_bylevel=None, colsample_bynode=None,\n",
       "              colsample_bytree=0.8, device=None, early_stopping_rounds=None,\n",
       "              enable_categorical=False, eval_metric=None, feature_types=None,\n",
       "              gamma=None, grow_policy=None, importance_type=None,\n",
       "              interaction_constraints=None, learning_rate=0.1, max_bin=None,\n",
       "              max_cat_threshold=None, max_cat_to_onehot=None,\n",
       "              max_delta_step=None, max_depth=3, max_leaves=None,\n",
       "              min_child_weight=None, missing=nan, monotone_constraints=None,\n",
       "              multi_strategy=None, n_estimators=100, n_jobs=None,\n",
       "              num_parallel_tree=None, random_state=None, ...)"
      ]
     },
     "execution_count": 101,
     "metadata": {},
     "output_type": "execute_result"
    }
   ],
   "source": [
    "XGBmodel.fit(xbst_train, ybst_train)"
   ]
  },
  {
   "cell_type": "markdown",
   "id": "d8eaf312",
   "metadata": {},
   "source": [
    "### Make Predications"
   ]
  },
  {
   "cell_type": "code",
   "execution_count": 102,
   "id": "f9b4c64b",
   "metadata": {},
   "outputs": [],
   "source": [
    "ybst_pred = XGBmodel.predict(xbst_test)"
   ]
  },
  {
   "cell_type": "markdown",
   "id": "a2d798ec",
   "metadata": {},
   "source": [
    "### Evaluate Model"
   ]
  },
  {
   "cell_type": "code",
   "execution_count": 103,
   "id": "60e89ebc",
   "metadata": {},
   "outputs": [
    {
     "name": "stdout",
     "output_type": "stream",
     "text": [
      "Accuracy: 0.9807824296499656\n",
      "Classification Report:\n",
      "              precision    recall  f1-score   support\n",
      "\n",
      "           0       0.98      1.00      0.99     11405\n",
      "           1       0.64      0.24      0.35       251\n",
      "\n",
      "    accuracy                           0.98     11656\n",
      "   macro avg       0.81      0.62      0.67     11656\n",
      "weighted avg       0.98      0.98      0.98     11656\n",
      "\n"
     ]
    }
   ],
   "source": [
    "accuracy = accuracy_score(ybst_test, ybst_pred)\n",
    "report = classification_report(ybst_test, ybst_pred)\n",
    "print(f\"Accuracy: {accuracy}\")\n",
    "print(f\"Classification Report:\\n{report}\")"
   ]
  },
  {
   "cell_type": "markdown",
   "id": "fddabe29",
   "metadata": {},
   "source": [
    "Accuracy: 0.9808\n",
    "\n",
    "This metric represents the overall correctness of the model. In this case, the model achieves an accuracy of approximately 98.08%, indicating that it correctly predicted the class for 98.08% of the instances.\n",
    "Classification Report:\n",
    "\n",
    "Precision: Precision is the ratio of true positive predictions to the total predicted positives.\n",
    "\n",
    "Class 0: 98% precision, suggesting that when the model predicts class 0, it is correct 98% of the time.\n",
    "Class 1: 64% precision, indicating that the model's predictions for class 1 are correct 64% of the time.\n",
    "Recall: Recall is the ratio of true positive predictions to the total actual positives.\n",
    "\n",
    "Class 0: 100% recall, meaning the model correctly identifies all instances of class 0.\n",
    "Class 1: 24% recall, indicating that the model captures only 24% of the instances of class 1.\n",
    "F1-Score: The F1-score is the harmonic mean of precision and recall, providing a balanced measure of a classifier's performance.\n",
    "\n",
    "Class 0: 99% F1-score.\n",
    "Class 1: 35% F1-score.\n",
    "Support: The number of actual occurrences of each class in the test set.\n",
    "\n",
    "Class 0: 11,405 instances.\n",
    "Class 1: 251 instances.\n",
    "Summary:\n",
    "\n",
    "The high accuracy suggests that the model is performing well on the majority class (class 0), but it struggles with the minority class (class 1), as indicated by lower precision, recall, and F1-score for class 1. The imbalanced nature of the classes (with significantly more instances of class 0 than class 1) might be contributing to this behavior.\n",
    "\n",
    "Depending on the specific application and the importance of correctly predicting class 1 instances, further model tuning, data balancing techniques, or different evaluation metrics may be considered."
   ]
  },
  {
   "cell_type": "markdown",
   "id": "f957ef2a",
   "metadata": {},
   "source": [
    "### Feature Importance"
   ]
  },
  {
   "cell_type": "code",
   "execution_count": 104,
   "id": "6b42c7e9",
   "metadata": {},
   "outputs": [
    {
     "name": "stdout",
     "output_type": "stream",
     "text": [
      "                               feature  importance\n",
      "2            Alcohol_or_Drug_Diagnosis    0.396244\n",
      "1               Emergency_Dept_Service    0.283481\n",
      "3  Major_Depressive_Disorder_Diagnosis    0.222734\n",
      "0              Num_Social_Risk_Factors    0.058703\n",
      "4  Race_Black_Indigenous_PeopleOfColor    0.014979\n",
      "6                                Sex_M    0.011954\n",
      "5                             Employed    0.011906\n"
     ]
    }
   ],
   "source": [
    "feature_importance = pd.DataFrame({'feature': x.columns, 'importance': XGBmodel.feature_importances_})\n",
    "feature_importance = feature_importance.sort_values(by='importance', ascending=False)\n",
    "print(feature_importance)\n"
   ]
  },
  {
   "cell_type": "markdown",
   "id": "de52a2ca",
   "metadata": {},
   "source": [
    "The feature importance results provide insights into the contribution of each feature in the XGBoost model's decision-making process. In this context, the values in the \"importance\" column represent the relative importance of each feature in making predictions. Here's an interpretation of the results:\n",
    "\n",
    "Alcohol_or_Drug_Diagnosis (Importance: 39.62%):\n",
    "This feature has the highest importance, suggesting that it significantly influences the model's predictions. The presence or absence of Alcohol or Drug Diagnosis has a substantial impact on the model's decision-making.\n",
    "\n",
    "Emergency_Dept_Service (Importance: 28.35%):\n",
    "The Emergency Department Service feature is the second most important. This implies that whether a person received emergency department services is a crucial factor in predicting the target variable.\n",
    "\n",
    "Major_Depressive_Disorder_Diagnosis (Importance: 22.27%):\n",
    "This feature has a considerable importance level, indicating that the presence or absence of a Major Depressive Disorder Diagnosis is a significant predictor in the model.\n",
    "\n",
    "Num_Social_Risk_Factors (Importance: 5.87%):\n",
    "Although relatively less important compared to the top three features, the number of social risk factors still contributes to the model's predictions.\n",
    "\n",
    "Race_Black_Indigenous_PeopleOfColor (Importance: 1.50%):\n",
    "The racial category of Black or Indigenous People of Color has a lower importance compared to the top features but still contributes to the model.\n",
    "\n",
    "Sex_M (Importance: 1.20%):\n",
    "The gender (male) is a less influential feature compared to others but still plays a role in the model's decision-making.\n",
    "\n",
    "Employed (Importance: 1.19%):\n",
    "Employment status is the least important feature in this set, but it still adds some information to the model.\n",
    "\n",
    "These results suggest that the model relies heavily on the first three features, particularly \"Alcohol_or_Drug_Diagnosis\" and \"Emergency_Dept_Service,\" to make predictions. Understanding the importance of these features can help in interpreting the model's behavior and guide further investigation or decision-making based on the context of the problem you're addressing."
   ]
  },
  {
   "cell_type": "markdown",
   "id": "34da87f7",
   "metadata": {},
   "source": [
    "### Perform Cross Validation"
   ]
  },
  {
   "cell_type": "code",
   "execution_count": 105,
   "id": "1d5d1408",
   "metadata": {
    "scrolled": true
   },
   "outputs": [
    {
     "name": "stdout",
     "output_type": "stream",
     "text": [
      "Cross-Validation Accuracy: 0.9810 (±0.0010)\n"
     ]
    }
   ],
   "source": [
    "# Perform cross-validation\n",
    "kfold = StratifiedKFold(n_splits=5, \n",
    "                        shuffle=True, \n",
    "                        random_state=37)\n",
    "\n",
    "cv_results = cross_val_score(XGBmodel, \n",
    "                             xbst_test, \n",
    "                             ybst_test, \n",
    "                             cv=kfold, \n",
    "                             scoring='accuracy')\n",
    "\n",
    "# Print results\n",
    "print(f\"Cross-Validation Accuracy: {cv_results.mean():.4f} (±{cv_results.std():.4f})\")"
   ]
  },
  {
   "cell_type": "markdown",
   "id": "1cd40124",
   "metadata": {},
   "source": [
    "### Feature Importance Plot"
   ]
  },
  {
   "cell_type": "code",
   "execution_count": 106,
   "id": "3a4eb21e",
   "metadata": {},
   "outputs": [
    {
     "data": {
      "image/png": "[encoded data removed]",
      "text/plain": [
       "<Figure size 640x480 with 1 Axes>"
      ]
     },
     "metadata": {},
     "output_type": "display_data"
    }
   ],
   "source": [
    "xgb.plot_importance(XGBmodel, \n",
    "                    importance_type='weight', \n",
    "                    show_values=False)\n",
    "plt.errorbar(range(len(XGBmodel.feature_importances_)), \n",
    "             XGBmodel.feature_importances_, \n",
    "             yerr=cv_results.std(), \n",
    "             fmt='none', \n",
    "             ecolor='red', \n",
    "             lw=2)\n",
    "plt.show()"
   ]
  }
 ],
 "metadata": {
  "kernelspec": {
   "display_name": "Python 3 (ipykernel)",
   "language": "python",
   "name": "python3"
  },
  "language_info": {
   "codemirror_mode": {
    "name": "ipython",
    "version": 3
   },
   "file_extension": ".py",
   "mimetype": "text/x-python",
   "name": "python",
   "nbconvert_exporter": "python",
   "pygments_lexer": "ipython3",
   "version": "3.11.5"
  }
 },
 "nbformat": 4,
 "nbformat_minor": 5
}
