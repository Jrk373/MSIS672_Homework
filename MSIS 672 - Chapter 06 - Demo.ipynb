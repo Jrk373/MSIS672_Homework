{
 "cells": [
  {
   "cell_type": "markdown",
   "id": "1a150332",
   "metadata": {},
   "source": [
    "# Setup"
   ]
  },
  {
   "cell_type": "markdown",
   "id": "2dcf5de9",
   "metadata": {},
   "source": [
    "## Import libraries"
   ]
  },
  {
   "cell_type": "code",
   "execution_count": 238,
   "id": "3ce12570",
   "metadata": {},
   "outputs": [],
   "source": [
    "import pandas as pd\n",
    "from sklearn.model_selection import train_test_split\n",
    "from sklearn.linear_model import LinearRegression #, Lasso, Ridge, LassoCV,BayesianRidge\n",
    "import statsmodels.formula.api as sm\n",
    "#import matplotlib.pylab as plt\n",
    "\n",
    "## you need to install dmba library.if you get error message about dmba, \n",
    "##please see week 1 \"Getting Started with Python\" file, \n",
    "##Installing dmba in Anaconda Prompt, pip install dmba  \n",
    "\n",
    "from dmba import regressionSummary#, exhaustive_search\n",
    "from dmba import backward_elimination, forward_selection, stepwise_selection\n",
    "from dmba import AIC_score #, BIC_score, adjusted_r2_score"
   ]
  },
  {
   "cell_type": "markdown",
   "id": "5c8133a9",
   "metadata": {},
   "source": [
    "## Load data"
   ]
  },
  {
   "cell_type": "code",
   "execution_count": 239,
   "id": "afe11d90",
   "metadata": {},
   "outputs": [
    {
     "data": {
      "text/html": [
       "<div>\n",
       "<style scoped>\n",
       "    .dataframe tbody tr th:only-of-type {\n",
       "        vertical-align: middle;\n",
       "    }\n",
       "\n",
       "    .dataframe tbody tr th {\n",
       "        vertical-align: top;\n",
       "    }\n",
       "\n",
       "    .dataframe thead th {\n",
       "        text-align: right;\n",
       "    }\n",
       "</style>\n",
       "<table border=\"1\" class=\"dataframe\">\n",
       "  <thead>\n",
       "    <tr style=\"text-align: right;\">\n",
       "      <th></th>\n",
       "      <th>Unnamed: 0</th>\n",
       "      <th>ProviderName</th>\n",
       "      <th>Age</th>\n",
       "      <th>Sex</th>\n",
       "      <th>Social_Risk_Factor</th>\n",
       "      <th>Num_Social_Risk_Factors</th>\n",
       "      <th>Inpatient_Psych_Service</th>\n",
       "      <th>Num_IP_Facility_Days</th>\n",
       "      <th>Total_Cost_IP_Facility_Days</th>\n",
       "      <th>Avg_Cost_IP_Facility_Days</th>\n",
       "      <th>Emergency_Dept_Service</th>\n",
       "      <th>Num_Emergency_Dept_Services</th>\n",
       "      <th>Avg_Cost_Emergency_Dept_Services</th>\n",
       "      <th>Alcohol_or_Drug_Diagnosis</th>\n",
       "      <th>Major_Depressive_Disorder_Diagnosis</th>\n",
       "      <th>Race_Black_Indigenous_PeopleOfColor</th>\n",
       "      <th>Married</th>\n",
       "      <th>Employed</th>\n",
       "    </tr>\n",
       "  </thead>\n",
       "  <tbody>\n",
       "    <tr>\n",
       "      <th>0</th>\n",
       "      <td>1</td>\n",
       "      <td>Chewbacca</td>\n",
       "      <td>52</td>\n",
       "      <td>F</td>\n",
       "      <td>0</td>\n",
       "      <td>0</td>\n",
       "      <td>0</td>\n",
       "      <td>NaN</td>\n",
       "      <td>NaN</td>\n",
       "      <td>NaN</td>\n",
       "      <td>0</td>\n",
       "      <td>NaN</td>\n",
       "      <td>NaN</td>\n",
       "      <td>0</td>\n",
       "      <td>0</td>\n",
       "      <td>0.0</td>\n",
       "      <td>NaN</td>\n",
       "      <td>0</td>\n",
       "    </tr>\n",
       "    <tr>\n",
       "      <th>1</th>\n",
       "      <td>2</td>\n",
       "      <td>AhsokaTano</td>\n",
       "      <td>65</td>\n",
       "      <td>M</td>\n",
       "      <td>0</td>\n",
       "      <td>0</td>\n",
       "      <td>0</td>\n",
       "      <td>NaN</td>\n",
       "      <td>NaN</td>\n",
       "      <td>NaN</td>\n",
       "      <td>1</td>\n",
       "      <td>10.0</td>\n",
       "      <td>197.900</td>\n",
       "      <td>1</td>\n",
       "      <td>1</td>\n",
       "      <td>0.0</td>\n",
       "      <td>1.0</td>\n",
       "      <td>0</td>\n",
       "    </tr>\n",
       "    <tr>\n",
       "      <th>2</th>\n",
       "      <td>3</td>\n",
       "      <td>Omega</td>\n",
       "      <td>55</td>\n",
       "      <td>F</td>\n",
       "      <td>0</td>\n",
       "      <td>0</td>\n",
       "      <td>0</td>\n",
       "      <td>NaN</td>\n",
       "      <td>NaN</td>\n",
       "      <td>NaN</td>\n",
       "      <td>0</td>\n",
       "      <td>NaN</td>\n",
       "      <td>NaN</td>\n",
       "      <td>0</td>\n",
       "      <td>0</td>\n",
       "      <td>0.0</td>\n",
       "      <td>NaN</td>\n",
       "      <td>0</td>\n",
       "    </tr>\n",
       "    <tr>\n",
       "      <th>3</th>\n",
       "      <td>4</td>\n",
       "      <td>Chewbacca</td>\n",
       "      <td>46</td>\n",
       "      <td>F</td>\n",
       "      <td>1</td>\n",
       "      <td>1</td>\n",
       "      <td>0</td>\n",
       "      <td>NaN</td>\n",
       "      <td>NaN</td>\n",
       "      <td>NaN</td>\n",
       "      <td>0</td>\n",
       "      <td>NaN</td>\n",
       "      <td>NaN</td>\n",
       "      <td>1</td>\n",
       "      <td>0</td>\n",
       "      <td>0.0</td>\n",
       "      <td>NaN</td>\n",
       "      <td>0</td>\n",
       "    </tr>\n",
       "    <tr>\n",
       "      <th>4</th>\n",
       "      <td>5</td>\n",
       "      <td>AhsokaTano</td>\n",
       "      <td>58</td>\n",
       "      <td>F</td>\n",
       "      <td>0</td>\n",
       "      <td>0</td>\n",
       "      <td>0</td>\n",
       "      <td>NaN</td>\n",
       "      <td>NaN</td>\n",
       "      <td>NaN</td>\n",
       "      <td>1</td>\n",
       "      <td>4.0</td>\n",
       "      <td>152.595</td>\n",
       "      <td>0</td>\n",
       "      <td>0</td>\n",
       "      <td>0.0</td>\n",
       "      <td>NaN</td>\n",
       "      <td>0</td>\n",
       "    </tr>\n",
       "  </tbody>\n",
       "</table>\n",
       "</div>"
      ],
      "text/plain": [
       "   Unnamed: 0 ProviderName  Age Sex  Social_Risk_Factor  \\\n",
       "0           1    Chewbacca   52   F                   0   \n",
       "1           2   AhsokaTano   65   M                   0   \n",
       "2           3        Omega   55   F                   0   \n",
       "3           4    Chewbacca   46   F                   1   \n",
       "4           5   AhsokaTano   58   F                   0   \n",
       "\n",
       "   Num_Social_Risk_Factors  Inpatient_Psych_Service  Num_IP_Facility_Days  \\\n",
       "0                        0                        0                   NaN   \n",
       "1                        0                        0                   NaN   \n",
       "2                        0                        0                   NaN   \n",
       "3                        1                        0                   NaN   \n",
       "4                        0                        0                   NaN   \n",
       "\n",
       "   Total_Cost_IP_Facility_Days  Avg_Cost_IP_Facility_Days  \\\n",
       "0                          NaN                        NaN   \n",
       "1                          NaN                        NaN   \n",
       "2                          NaN                        NaN   \n",
       "3                          NaN                        NaN   \n",
       "4                          NaN                        NaN   \n",
       "\n",
       "   Emergency_Dept_Service  Num_Emergency_Dept_Services  \\\n",
       "0                       0                          NaN   \n",
       "1                       1                         10.0   \n",
       "2                       0                          NaN   \n",
       "3                       0                          NaN   \n",
       "4                       1                          4.0   \n",
       "\n",
       "   Avg_Cost_Emergency_Dept_Services  Alcohol_or_Drug_Diagnosis  \\\n",
       "0                               NaN                          0   \n",
       "1                           197.900                          1   \n",
       "2                               NaN                          0   \n",
       "3                               NaN                          1   \n",
       "4                           152.595                          0   \n",
       "\n",
       "   Major_Depressive_Disorder_Diagnosis  Race_Black_Indigenous_PeopleOfColor  \\\n",
       "0                                    0                                  0.0   \n",
       "1                                    1                                  0.0   \n",
       "2                                    0                                  0.0   \n",
       "3                                    0                                  0.0   \n",
       "4                                    0                                  0.0   \n",
       "\n",
       "   Married  Employed  \n",
       "0      NaN         0  \n",
       "1      1.0         0  \n",
       "2      NaN         0  \n",
       "3      NaN         0  \n",
       "4      NaN         0  "
      ]
     },
     "execution_count": 239,
     "metadata": {},
     "output_type": "execute_result"
    }
   ],
   "source": [
    "CHRoster_df_orig = pd.read_csv('CommunityHealthRoster_Demo.csv')\n",
    "CHRoster_df_orig.head()"
   ]
  },
  {
   "cell_type": "markdown",
   "id": "d5fbf4aa",
   "metadata": {},
   "source": [
    "# Method"
   ]
  },
  {
   "cell_type": "markdown",
   "id": "fbeeba83",
   "metadata": {},
   "source": [
    "## Select variables for analysis"
   ]
  },
  {
   "cell_type": "code",
   "execution_count": 240,
   "id": "c6649a57",
   "metadata": {},
   "outputs": [
    {
     "data": {
      "text/html": [
       "<div>\n",
       "<style scoped>\n",
       "    .dataframe tbody tr th:only-of-type {\n",
       "        vertical-align: middle;\n",
       "    }\n",
       "\n",
       "    .dataframe tbody tr th {\n",
       "        vertical-align: top;\n",
       "    }\n",
       "\n",
       "    .dataframe thead th {\n",
       "        text-align: right;\n",
       "    }\n",
       "</style>\n",
       "<table border=\"1\" class=\"dataframe\">\n",
       "  <thead>\n",
       "    <tr style=\"text-align: right;\">\n",
       "      <th></th>\n",
       "      <th>ProviderName</th>\n",
       "      <th>Age</th>\n",
       "      <th>Sex</th>\n",
       "      <th>Social_Risk_Factor</th>\n",
       "      <th>Num_Social_Risk_Factors</th>\n",
       "      <th>Inpatient_Psych_Service</th>\n",
       "      <th>Avg_Cost_IP_Facility_Days</th>\n",
       "      <th>Emergency_Dept_Service</th>\n",
       "      <th>Alcohol_or_Drug_Diagnosis</th>\n",
       "      <th>Major_Depressive_Disorder_Diagnosis</th>\n",
       "    </tr>\n",
       "  </thead>\n",
       "  <tbody>\n",
       "    <tr>\n",
       "      <th>0</th>\n",
       "      <td>Chewbacca</td>\n",
       "      <td>52</td>\n",
       "      <td>F</td>\n",
       "      <td>0</td>\n",
       "      <td>0</td>\n",
       "      <td>0</td>\n",
       "      <td>NaN</td>\n",
       "      <td>0</td>\n",
       "      <td>0</td>\n",
       "      <td>0</td>\n",
       "    </tr>\n",
       "    <tr>\n",
       "      <th>1</th>\n",
       "      <td>AhsokaTano</td>\n",
       "      <td>65</td>\n",
       "      <td>M</td>\n",
       "      <td>0</td>\n",
       "      <td>0</td>\n",
       "      <td>0</td>\n",
       "      <td>NaN</td>\n",
       "      <td>1</td>\n",
       "      <td>1</td>\n",
       "      <td>1</td>\n",
       "    </tr>\n",
       "    <tr>\n",
       "      <th>2</th>\n",
       "      <td>Omega</td>\n",
       "      <td>55</td>\n",
       "      <td>F</td>\n",
       "      <td>0</td>\n",
       "      <td>0</td>\n",
       "      <td>0</td>\n",
       "      <td>NaN</td>\n",
       "      <td>0</td>\n",
       "      <td>0</td>\n",
       "      <td>0</td>\n",
       "    </tr>\n",
       "    <tr>\n",
       "      <th>3</th>\n",
       "      <td>Chewbacca</td>\n",
       "      <td>46</td>\n",
       "      <td>F</td>\n",
       "      <td>1</td>\n",
       "      <td>1</td>\n",
       "      <td>0</td>\n",
       "      <td>NaN</td>\n",
       "      <td>0</td>\n",
       "      <td>1</td>\n",
       "      <td>0</td>\n",
       "    </tr>\n",
       "    <tr>\n",
       "      <th>4</th>\n",
       "      <td>AhsokaTano</td>\n",
       "      <td>58</td>\n",
       "      <td>F</td>\n",
       "      <td>0</td>\n",
       "      <td>0</td>\n",
       "      <td>0</td>\n",
       "      <td>NaN</td>\n",
       "      <td>1</td>\n",
       "      <td>0</td>\n",
       "      <td>0</td>\n",
       "    </tr>\n",
       "  </tbody>\n",
       "</table>\n",
       "</div>"
      ],
      "text/plain": [
       "  ProviderName  Age Sex  Social_Risk_Factor  Num_Social_Risk_Factors  \\\n",
       "0    Chewbacca   52   F                   0                        0   \n",
       "1   AhsokaTano   65   M                   0                        0   \n",
       "2        Omega   55   F                   0                        0   \n",
       "3    Chewbacca   46   F                   1                        1   \n",
       "4   AhsokaTano   58   F                   0                        0   \n",
       "\n",
       "   Inpatient_Psych_Service  Avg_Cost_IP_Facility_Days  Emergency_Dept_Service  \\\n",
       "0                        0                        NaN                       0   \n",
       "1                        0                        NaN                       1   \n",
       "2                        0                        NaN                       0   \n",
       "3                        0                        NaN                       0   \n",
       "4                        0                        NaN                       1   \n",
       "\n",
       "   Alcohol_or_Drug_Diagnosis  Major_Depressive_Disorder_Diagnosis  \n",
       "0                          0                                    0  \n",
       "1                          1                                    1  \n",
       "2                          0                                    0  \n",
       "3                          1                                    0  \n",
       "4                          0                                    0  "
      ]
     },
     "execution_count": 240,
     "metadata": {},
     "output_type": "execute_result"
    }
   ],
   "source": [
    "selected_columns = ['ProviderName', \n",
    "                    'Age', \n",
    "                    'Sex', \n",
    "                    'Social_Risk_Factor', \n",
    "                    'Num_Social_Risk_Factors',\n",
    "                    'Inpatient_Psych_Service',\n",
    "                    'Avg_Cost_IP_Facility_Days',\n",
    "                    'Emergency_Dept_Service',\n",
    "                    'Alcohol_or_Drug_Diagnosis',\n",
    "                    'Major_Depressive_Disorder_Diagnosis',\n",
    "                    #'Race_Black_Indigenous_PeopleOfColor',\n",
    "                    #'Employed'\n",
    "                   ]\n",
    "\n",
    "CHRoster_df = CHRoster_df_orig[selected_columns]\n",
    "\n",
    "CHRoster_df.head()"
   ]
  },
  {
   "cell_type": "markdown",
   "id": "b956342b",
   "metadata": {},
   "source": [
    "### Sample based on IP Services"
   ]
  },
  {
   "cell_type": "markdown",
   "id": "d719bc01",
   "metadata": {},
   "source": [
    "Select only Inpatient_Psych_Service == 1 becasue we are interested in the effect on IP copst amongst those who actually did have an inpatient stay."
   ]
  },
  {
   "cell_type": "code",
   "execution_count": 241,
   "id": "2c88459a",
   "metadata": {},
   "outputs": [
    {
     "data": {
      "text/html": [
       "<div>\n",
       "<style scoped>\n",
       "    .dataframe tbody tr th:only-of-type {\n",
       "        vertical-align: middle;\n",
       "    }\n",
       "\n",
       "    .dataframe tbody tr th {\n",
       "        vertical-align: top;\n",
       "    }\n",
       "\n",
       "    .dataframe thead th {\n",
       "        text-align: right;\n",
       "    }\n",
       "</style>\n",
       "<table border=\"1\" class=\"dataframe\">\n",
       "  <thead>\n",
       "    <tr style=\"text-align: right;\">\n",
       "      <th></th>\n",
       "      <th>ProviderName</th>\n",
       "      <th>Age</th>\n",
       "      <th>Sex</th>\n",
       "      <th>Social_Risk_Factor</th>\n",
       "      <th>Num_Social_Risk_Factors</th>\n",
       "      <th>Inpatient_Psych_Service</th>\n",
       "      <th>Avg_Cost_IP_Facility_Days</th>\n",
       "      <th>Emergency_Dept_Service</th>\n",
       "      <th>Alcohol_or_Drug_Diagnosis</th>\n",
       "      <th>Major_Depressive_Disorder_Diagnosis</th>\n",
       "    </tr>\n",
       "  </thead>\n",
       "  <tbody>\n",
       "    <tr>\n",
       "      <th>15</th>\n",
       "      <td>Omega</td>\n",
       "      <td>57</td>\n",
       "      <td>F</td>\n",
       "      <td>0</td>\n",
       "      <td>0</td>\n",
       "      <td>1</td>\n",
       "      <td>NaN</td>\n",
       "      <td>0</td>\n",
       "      <td>1</td>\n",
       "      <td>0</td>\n",
       "    </tr>\n",
       "    <tr>\n",
       "      <th>26</th>\n",
       "      <td>AhsokaTano</td>\n",
       "      <td>55</td>\n",
       "      <td>F</td>\n",
       "      <td>0</td>\n",
       "      <td>0</td>\n",
       "      <td>1</td>\n",
       "      <td>1212.339565</td>\n",
       "      <td>0</td>\n",
       "      <td>1</td>\n",
       "      <td>1</td>\n",
       "    </tr>\n",
       "    <tr>\n",
       "      <th>123</th>\n",
       "      <td>Yoda</td>\n",
       "      <td>42</td>\n",
       "      <td>M</td>\n",
       "      <td>1</td>\n",
       "      <td>1</td>\n",
       "      <td>1</td>\n",
       "      <td>739.870000</td>\n",
       "      <td>0</td>\n",
       "      <td>1</td>\n",
       "      <td>0</td>\n",
       "    </tr>\n",
       "    <tr>\n",
       "      <th>139</th>\n",
       "      <td>LukeSkywalker</td>\n",
       "      <td>37</td>\n",
       "      <td>F</td>\n",
       "      <td>0</td>\n",
       "      <td>0</td>\n",
       "      <td>1</td>\n",
       "      <td>655.210000</td>\n",
       "      <td>0</td>\n",
       "      <td>1</td>\n",
       "      <td>0</td>\n",
       "    </tr>\n",
       "    <tr>\n",
       "      <th>146</th>\n",
       "      <td>Omega</td>\n",
       "      <td>46</td>\n",
       "      <td>F</td>\n",
       "      <td>1</td>\n",
       "      <td>3</td>\n",
       "      <td>1</td>\n",
       "      <td>1212.338824</td>\n",
       "      <td>1</td>\n",
       "      <td>1</td>\n",
       "      <td>1</td>\n",
       "    </tr>\n",
       "  </tbody>\n",
       "</table>\n",
       "</div>"
      ],
      "text/plain": [
       "      ProviderName  Age Sex  Social_Risk_Factor  Num_Social_Risk_Factors  \\\n",
       "15           Omega   57   F                   0                        0   \n",
       "26      AhsokaTano   55   F                   0                        0   \n",
       "123           Yoda   42   M                   1                        1   \n",
       "139  LukeSkywalker   37   F                   0                        0   \n",
       "146          Omega   46   F                   1                        3   \n",
       "\n",
       "     Inpatient_Psych_Service  Avg_Cost_IP_Facility_Days  \\\n",
       "15                         1                        NaN   \n",
       "26                         1                1212.339565   \n",
       "123                        1                 739.870000   \n",
       "139                        1                 655.210000   \n",
       "146                        1                1212.338824   \n",
       "\n",
       "     Emergency_Dept_Service  Alcohol_or_Drug_Diagnosis  \\\n",
       "15                        0                          1   \n",
       "26                        0                          1   \n",
       "123                       0                          1   \n",
       "139                       0                          1   \n",
       "146                       1                          1   \n",
       "\n",
       "     Major_Depressive_Disorder_Diagnosis  \n",
       "15                                     0  \n",
       "26                                     1  \n",
       "123                                    0  \n",
       "139                                    0  \n",
       "146                                    1  "
      ]
     },
     "execution_count": 241,
     "metadata": {},
     "output_type": "execute_result"
    }
   ],
   "source": [
    "# Filter for Inpatient_Psych_Service == 1\n",
    "CHRoster_df = CHRoster_df[CHRoster_df['Inpatient_Psych_Service'] == 1]\n",
    "\n",
    "CHRoster_df.head()"
   ]
  },
  {
   "cell_type": "markdown",
   "id": "6d176b05",
   "metadata": {},
   "source": [
    "#### Remove NaN from Outcome Variable (Avg_Cost_IP_Facility_Days)"
   ]
  },
  {
   "cell_type": "code",
   "execution_count": 242,
   "id": "a51a7d70",
   "metadata": {},
   "outputs": [
    {
     "name": "stdout",
     "output_type": "stream",
     "text": [
      "Number of NaN values in 'Avg_Cost_IP_Facility_Days' Before: 172\n",
      "Number of NaN values in 'Avg_Cost_IP_Facility_Days' After: 0\n"
     ]
    }
   ],
   "source": [
    "# Count the number of NaN values in 'Avg_Cost_IP_Facility_Days' column\n",
    "nan_count = CHRoster_df['Avg_Cost_IP_Facility_Days'].isna().sum()\n",
    "\n",
    "# Display the count of NaN values\n",
    "print(f\"Number of NaN values in 'Avg_Cost_IP_Facility_Days' Before: {nan_count}\")\n",
    "\n",
    "# Remove rows with NaN values in 'Inpatient_Psych_Service' column\n",
    "CHRoster_df = CHRoster_df.dropna(subset=['Avg_Cost_IP_Facility_Days'])\n",
    "\n",
    "# Count the number of NaN values in 'Avg_Cost_IP_Facility_Days' column\n",
    "nan_count = CHRoster_df['Avg_Cost_IP_Facility_Days'].isna().sum()\n",
    "\n",
    "# Display the count of NaN values\n",
    "print(f\"Number of NaN values in 'Avg_Cost_IP_Facility_Days' After: {nan_count}\")"
   ]
  },
  {
   "cell_type": "markdown",
   "id": "e3a3081c",
   "metadata": {},
   "source": [
    "## Data Wrangling"
   ]
  },
  {
   "cell_type": "markdown",
   "id": "2f858bca",
   "metadata": {},
   "source": [
    "### Data Types"
   ]
  },
  {
   "cell_type": "code",
   "execution_count": 243,
   "id": "b46c6a14",
   "metadata": {},
   "outputs": [
    {
     "data": {
      "text/plain": [
       "ProviderName                            object\n",
       "Age                                      int64\n",
       "Sex                                     object\n",
       "Social_Risk_Factor                       int64\n",
       "Num_Social_Risk_Factors                  int64\n",
       "Inpatient_Psych_Service                  int64\n",
       "Avg_Cost_IP_Facility_Days              float64\n",
       "Emergency_Dept_Service                   int64\n",
       "Alcohol_or_Drug_Diagnosis                int64\n",
       "Major_Depressive_Disorder_Diagnosis      int64\n",
       "dtype: object"
      ]
     },
     "execution_count": 243,
     "metadata": {},
     "output_type": "execute_result"
    }
   ],
   "source": [
    "CHRoster_df.dtypes"
   ]
  },
  {
   "cell_type": "markdown",
   "id": "ecba5a1c",
   "metadata": {},
   "source": [
    "### Create age groups"
   ]
  },
  {
   "cell_type": "code",
   "execution_count": 244,
   "id": "773c0151",
   "metadata": {},
   "outputs": [
    {
     "data": {
      "text/plain": [
       "ProviderName                            object\n",
       "Age                                      int64\n",
       "Sex                                     object\n",
       "Social_Risk_Factor                       int64\n",
       "Num_Social_Risk_Factors                  int64\n",
       "Inpatient_Psych_Service                  int64\n",
       "Avg_Cost_IP_Facility_Days              float64\n",
       "Emergency_Dept_Service                   int64\n",
       "Alcohol_or_Drug_Diagnosis                int64\n",
       "Major_Depressive_Disorder_Diagnosis      int64\n",
       "AgeGroup                                object\n",
       "dtype: object"
      ]
     },
     "execution_count": 244,
     "metadata": {},
     "output_type": "execute_result"
    }
   ],
   "source": [
    "# Filter cases aged 16 and older\n",
    "CHRoster_df = CHRoster_df[CHRoster_df['Age'] >= 16]\n",
    "\n",
    "# Define age groups and labels\n",
    "age_bins = [16, 25, 35, 50, 65, float('inf')]\n",
    "age_labels = ['16to25', '26to35', '36to50', '51to65', '65_and_Up']\n",
    "\n",
    "# Create a new column 'AgeGroup' based on age groups\n",
    "CHRoster_df['AgeGroup'] = pd.cut(CHRoster_df['Age'], bins=age_bins, labels=age_labels, right=False)\n",
    "\n",
    "# Convert 'AgeGroup' column to object type\n",
    "CHRoster_df['AgeGroup'] = CHRoster_df['AgeGroup'].astype('object')\n",
    "\n",
    "CHRoster_df.dtypes"
   ]
  },
  {
   "cell_type": "markdown",
   "id": "3aed8dc2",
   "metadata": {},
   "source": [
    "### Create Social Risk Factors groups"
   ]
  },
  {
   "cell_type": "code",
   "execution_count": 245,
   "id": "a749f8e1",
   "metadata": {},
   "outputs": [
    {
     "name": "stdout",
     "output_type": "stream",
     "text": [
      "Distinct Values Count in 'Num_Social_Risk_Factors':\n",
      "Num_Social_Risk_Factors\n",
      "0    527\n",
      "1    268\n",
      "2    128\n",
      "3     69\n",
      "4     36\n",
      "5     17\n",
      "6      7\n",
      "7      1\n",
      "Name: count, dtype: int64\n"
     ]
    }
   ],
   "source": [
    "# Count distinct values in 'Num_Social_Risk_Factors' column\n",
    "distinct_values_count = CHRoster_df['Num_Social_Risk_Factors'].value_counts()\n",
    "\n",
    "# Display the count of distinct values\n",
    "print(\"Distinct Values Count in 'Num_Social_Risk_Factors':\")\n",
    "print(distinct_values_count)"
   ]
  },
  {
   "cell_type": "code",
   "execution_count": 246,
   "id": "6f085b3f",
   "metadata": {},
   "outputs": [
    {
     "data": {
      "text/plain": [
       "ProviderName                             object\n",
       "Age                                       int64\n",
       "Sex                                      object\n",
       "Social_Risk_Factor                        int64\n",
       "Num_Social_Risk_Factors                   int64\n",
       "Inpatient_Psych_Service                   int64\n",
       "Avg_Cost_IP_Facility_Days               float64\n",
       "Emergency_Dept_Service                    int64\n",
       "Alcohol_or_Drug_Diagnosis                 int64\n",
       "Major_Depressive_Disorder_Diagnosis       int64\n",
       "AgeGroup                                 object\n",
       "SocialRiskGroup                        category\n",
       "dtype: object"
      ]
     },
     "execution_count": 246,
     "metadata": {},
     "output_type": "execute_result"
    }
   ],
   "source": [
    "# Define social risk factor groups and labels\n",
    "risk_factor_bins = [0, 2, 4, 6, float('inf')]\n",
    "risk_factor_labels = ['0to2', '3to4', '5to6', '7_and_Up']\n",
    "\n",
    "# Create a new column 'SocialRiskGroup' based on risk factor groups\n",
    "CHRoster_df['SocialRiskGroup'] = pd.cut(CHRoster_df['Num_Social_Risk_Factors'], bins=risk_factor_bins, labels=risk_factor_labels, right=False)\n",
    "\n",
    "CHRoster_df.dtypes"
   ]
  },
  {
   "cell_type": "markdown",
   "id": "aed721ca",
   "metadata": {},
   "source": [
    "## Forge data set"
   ]
  },
  {
   "cell_type": "code",
   "execution_count": 247,
   "id": "3ad641a6",
   "metadata": {},
   "outputs": [
    {
     "data": {
      "text/html": [
       "<div>\n",
       "<style scoped>\n",
       "    .dataframe tbody tr th:only-of-type {\n",
       "        vertical-align: middle;\n",
       "    }\n",
       "\n",
       "    .dataframe tbody tr th {\n",
       "        vertical-align: top;\n",
       "    }\n",
       "\n",
       "    .dataframe thead th {\n",
       "        text-align: right;\n",
       "    }\n",
       "</style>\n",
       "<table border=\"1\" class=\"dataframe\">\n",
       "  <thead>\n",
       "    <tr style=\"text-align: right;\">\n",
       "      <th></th>\n",
       "      <th>ProviderName</th>\n",
       "      <th>Age</th>\n",
       "      <th>Sex</th>\n",
       "      <th>Social_Risk_Factor</th>\n",
       "      <th>Num_Social_Risk_Factors</th>\n",
       "      <th>Inpatient_Psych_Service</th>\n",
       "      <th>Avg_Cost_IP_Facility_Days</th>\n",
       "      <th>Emergency_Dept_Service</th>\n",
       "      <th>Alcohol_or_Drug_Diagnosis</th>\n",
       "      <th>Major_Depressive_Disorder_Diagnosis</th>\n",
       "      <th>AgeGroup</th>\n",
       "      <th>SocialRiskGroup</th>\n",
       "    </tr>\n",
       "  </thead>\n",
       "  <tbody>\n",
       "    <tr>\n",
       "      <th>26</th>\n",
       "      <td>AhsokaTano</td>\n",
       "      <td>55</td>\n",
       "      <td>F</td>\n",
       "      <td>0</td>\n",
       "      <td>0</td>\n",
       "      <td>1</td>\n",
       "      <td>1212.339565</td>\n",
       "      <td>0</td>\n",
       "      <td>1</td>\n",
       "      <td>1</td>\n",
       "      <td>51to65</td>\n",
       "      <td>0to2</td>\n",
       "    </tr>\n",
       "    <tr>\n",
       "      <th>123</th>\n",
       "      <td>Yoda</td>\n",
       "      <td>42</td>\n",
       "      <td>M</td>\n",
       "      <td>1</td>\n",
       "      <td>1</td>\n",
       "      <td>1</td>\n",
       "      <td>739.870000</td>\n",
       "      <td>0</td>\n",
       "      <td>1</td>\n",
       "      <td>0</td>\n",
       "      <td>36to50</td>\n",
       "      <td>0to2</td>\n",
       "    </tr>\n",
       "    <tr>\n",
       "      <th>139</th>\n",
       "      <td>LukeSkywalker</td>\n",
       "      <td>37</td>\n",
       "      <td>F</td>\n",
       "      <td>0</td>\n",
       "      <td>0</td>\n",
       "      <td>1</td>\n",
       "      <td>655.210000</td>\n",
       "      <td>0</td>\n",
       "      <td>1</td>\n",
       "      <td>0</td>\n",
       "      <td>36to50</td>\n",
       "      <td>0to2</td>\n",
       "    </tr>\n",
       "    <tr>\n",
       "      <th>146</th>\n",
       "      <td>Omega</td>\n",
       "      <td>46</td>\n",
       "      <td>F</td>\n",
       "      <td>1</td>\n",
       "      <td>3</td>\n",
       "      <td>1</td>\n",
       "      <td>1212.338824</td>\n",
       "      <td>1</td>\n",
       "      <td>1</td>\n",
       "      <td>1</td>\n",
       "      <td>36to50</td>\n",
       "      <td>3to4</td>\n",
       "    </tr>\n",
       "    <tr>\n",
       "      <th>266</th>\n",
       "      <td>AhsokaTano</td>\n",
       "      <td>37</td>\n",
       "      <td>F</td>\n",
       "      <td>0</td>\n",
       "      <td>0</td>\n",
       "      <td>1</td>\n",
       "      <td>655.210000</td>\n",
       "      <td>0</td>\n",
       "      <td>1</td>\n",
       "      <td>0</td>\n",
       "      <td>36to50</td>\n",
       "      <td>0to2</td>\n",
       "    </tr>\n",
       "  </tbody>\n",
       "</table>\n",
       "</div>"
      ],
      "text/plain": [
       "      ProviderName  Age Sex  Social_Risk_Factor  Num_Social_Risk_Factors  \\\n",
       "26      AhsokaTano   55   F                   0                        0   \n",
       "123           Yoda   42   M                   1                        1   \n",
       "139  LukeSkywalker   37   F                   0                        0   \n",
       "146          Omega   46   F                   1                        3   \n",
       "266     AhsokaTano   37   F                   0                        0   \n",
       "\n",
       "     Inpatient_Psych_Service  Avg_Cost_IP_Facility_Days  \\\n",
       "26                         1                1212.339565   \n",
       "123                        1                 739.870000   \n",
       "139                        1                 655.210000   \n",
       "146                        1                1212.338824   \n",
       "266                        1                 655.210000   \n",
       "\n",
       "     Emergency_Dept_Service  Alcohol_or_Drug_Diagnosis  \\\n",
       "26                        0                          1   \n",
       "123                       0                          1   \n",
       "139                       0                          1   \n",
       "146                       1                          1   \n",
       "266                       0                          1   \n",
       "\n",
       "     Major_Depressive_Disorder_Diagnosis AgeGroup SocialRiskGroup  \n",
       "26                                     1   51to65            0to2  \n",
       "123                                    0   36to50            0to2  \n",
       "139                                    0   36to50            0to2  \n",
       "146                                    1   36to50            3to4  \n",
       "266                                    0   36to50            0to2  "
      ]
     },
     "execution_count": 247,
     "metadata": {},
     "output_type": "execute_result"
    }
   ],
   "source": [
    "CHRoster_df.head()"
   ]
  },
  {
   "cell_type": "markdown",
   "id": "1d0f714f",
   "metadata": {},
   "source": [
    "### Define and make dummy variables"
   ]
  },
  {
   "cell_type": "code",
   "execution_count": 248,
   "id": "5e21e264",
   "metadata": {},
   "outputs": [
    {
     "name": "stdout",
     "output_type": "stream",
     "text": [
      "['Sex', 'AgeGroup', 'SocialRiskGroup', 'Major_Depressive_Disorder_Diagnosis']\n"
     ]
    }
   ],
   "source": [
    "# create a list containing predictors' name\n",
    "predictors = ['Sex',\n",
    "              'AgeGroup',\n",
    "              'SocialRiskGroup',\n",
    "              'Major_Depressive_Disorder_Diagnosis'\n",
    "             ] \n",
    "print(predictors)"
   ]
  },
  {
   "cell_type": "code",
   "execution_count": 249,
   "id": "3279442d",
   "metadata": {},
   "outputs": [
    {
     "name": "stdout",
     "output_type": "stream",
     "text": [
      "Avg_Cost_IP_Facility_Days\n"
     ]
    }
   ],
   "source": [
    "# define outcome/target variable\n",
    "outcome = 'Avg_Cost_IP_Facility_Days'\n",
    "print(outcome)"
   ]
  },
  {
   "cell_type": "code",
   "execution_count": 250,
   "id": "4dd4af18",
   "metadata": {},
   "outputs": [
    {
     "data": {
      "text/plain": [
       "Sex                                      object\n",
       "AgeGroup                                 object\n",
       "SocialRiskGroup                        category\n",
       "Major_Depressive_Disorder_Diagnosis       int64\n",
       "dtype: object"
      ]
     },
     "execution_count": 250,
     "metadata": {},
     "output_type": "execute_result"
    }
   ],
   "source": [
    "# check data type of the predictors\n",
    "#overview of pandas's data type https://pbpython.com/pandas_dtypes.html\n",
    "CHRoster_df[predictors].dtypes "
   ]
  },
  {
   "cell_type": "code",
   "execution_count": 251,
   "id": "15a23f87",
   "metadata": {},
   "outputs": [
    {
     "data": {
      "text/plain": [
       "Major_Depressive_Disorder_Diagnosis    int64\n",
       "Sex_M                                   bool\n",
       "AgeGroup_26to35                         bool\n",
       "AgeGroup_36to50                         bool\n",
       "AgeGroup_51to65                         bool\n",
       "AgeGroup_65_and_Up                      bool\n",
       "SocialRiskGroup_3to4                    bool\n",
       "SocialRiskGroup_5to6                    bool\n",
       "SocialRiskGroup_7_and_Up                bool\n",
       "dtype: object"
      ]
     },
     "execution_count": 251,
     "metadata": {},
     "output_type": "execute_result"
    }
   ],
   "source": [
    "#get k-1 dummies out of k categorical levels by removing the first level\n",
    "x = pd.get_dummies(CHRoster_df[predictors], drop_first=True)\n",
    "\n",
    "x.dtypes"
   ]
  },
  {
   "cell_type": "code",
   "execution_count": 252,
   "id": "ebb64e50",
   "metadata": {},
   "outputs": [
    {
     "data": {
      "text/plain": [
       "26     1212.339565\n",
       "123     739.870000\n",
       "139     655.210000\n",
       "146    1212.338824\n",
       "266     655.210000\n",
       "Name: Avg_Cost_IP_Facility_Days, dtype: float64"
      ]
     },
     "execution_count": 252,
     "metadata": {},
     "output_type": "execute_result"
    }
   ],
   "source": [
    "y = CHRoster_df[outcome]\n",
    "y.head()"
   ]
  },
  {
   "cell_type": "markdown",
   "id": "b3dac643",
   "metadata": {},
   "source": [
    "### Partition Data"
   ]
  },
  {
   "cell_type": "code",
   "execution_count": 253,
   "id": "259ef09c",
   "metadata": {},
   "outputs": [
    {
     "data": {
      "text/html": [
       "<div>\n",
       "<style scoped>\n",
       "    .dataframe tbody tr th:only-of-type {\n",
       "        vertical-align: middle;\n",
       "    }\n",
       "\n",
       "    .dataframe tbody tr th {\n",
       "        vertical-align: top;\n",
       "    }\n",
       "\n",
       "    .dataframe thead th {\n",
       "        text-align: right;\n",
       "    }\n",
       "</style>\n",
       "<table border=\"1\" class=\"dataframe\">\n",
       "  <thead>\n",
       "    <tr style=\"text-align: right;\">\n",
       "      <th></th>\n",
       "      <th>Major_Depressive_Disorder_Diagnosis</th>\n",
       "      <th>Sex_M</th>\n",
       "      <th>AgeGroup_26to35</th>\n",
       "      <th>AgeGroup_36to50</th>\n",
       "      <th>AgeGroup_51to65</th>\n",
       "      <th>AgeGroup_65_and_Up</th>\n",
       "      <th>SocialRiskGroup_3to4</th>\n",
       "      <th>SocialRiskGroup_5to6</th>\n",
       "      <th>SocialRiskGroup_7_and_Up</th>\n",
       "    </tr>\n",
       "  </thead>\n",
       "  <tbody>\n",
       "    <tr>\n",
       "      <th>48334</th>\n",
       "      <td>1</td>\n",
       "      <td>False</td>\n",
       "      <td>False</td>\n",
       "      <td>False</td>\n",
       "      <td>True</td>\n",
       "      <td>False</td>\n",
       "      <td>True</td>\n",
       "      <td>False</td>\n",
       "      <td>False</td>\n",
       "    </tr>\n",
       "    <tr>\n",
       "      <th>1945</th>\n",
       "      <td>1</td>\n",
       "      <td>False</td>\n",
       "      <td>False</td>\n",
       "      <td>True</td>\n",
       "      <td>False</td>\n",
       "      <td>False</td>\n",
       "      <td>True</td>\n",
       "      <td>False</td>\n",
       "      <td>False</td>\n",
       "    </tr>\n",
       "    <tr>\n",
       "      <th>3789</th>\n",
       "      <td>1</td>\n",
       "      <td>False</td>\n",
       "      <td>False</td>\n",
       "      <td>True</td>\n",
       "      <td>False</td>\n",
       "      <td>False</td>\n",
       "      <td>False</td>\n",
       "      <td>False</td>\n",
       "      <td>False</td>\n",
       "    </tr>\n",
       "    <tr>\n",
       "      <th>10026</th>\n",
       "      <td>1</td>\n",
       "      <td>True</td>\n",
       "      <td>False</td>\n",
       "      <td>False</td>\n",
       "      <td>True</td>\n",
       "      <td>False</td>\n",
       "      <td>False</td>\n",
       "      <td>False</td>\n",
       "      <td>False</td>\n",
       "    </tr>\n",
       "    <tr>\n",
       "      <th>49209</th>\n",
       "      <td>1</td>\n",
       "      <td>True</td>\n",
       "      <td>False</td>\n",
       "      <td>True</td>\n",
       "      <td>False</td>\n",
       "      <td>False</td>\n",
       "      <td>True</td>\n",
       "      <td>False</td>\n",
       "      <td>False</td>\n",
       "    </tr>\n",
       "  </tbody>\n",
       "</table>\n",
       "</div>"
      ],
      "text/plain": [
       "       Major_Depressive_Disorder_Diagnosis  Sex_M  AgeGroup_26to35  \\\n",
       "48334                                    1  False            False   \n",
       "1945                                     1  False            False   \n",
       "3789                                     1  False            False   \n",
       "10026                                    1   True            False   \n",
       "49209                                    1   True            False   \n",
       "\n",
       "       AgeGroup_36to50  AgeGroup_51to65  AgeGroup_65_and_Up  \\\n",
       "48334            False             True               False   \n",
       "1945              True            False               False   \n",
       "3789              True            False               False   \n",
       "10026            False             True               False   \n",
       "49209             True            False               False   \n",
       "\n",
       "       SocialRiskGroup_3to4  SocialRiskGroup_5to6  SocialRiskGroup_7_and_Up  \n",
       "48334                  True                 False                     False  \n",
       "1945                   True                 False                     False  \n",
       "3789                  False                 False                     False  \n",
       "10026                 False                 False                     False  \n",
       "49209                  True                 False                     False  "
      ]
     },
     "execution_count": 253,
     "metadata": {},
     "output_type": "execute_result"
    }
   ],
   "source": [
    "# partition data; split the data training (60%) vs. validation (40%)\n",
    "# random_state=1: Pass an int for reproducible output across multiple function calls\n",
    "train_x, valid_x, train_y, valid_y = train_test_split(x, y, test_size=0.4, random_state=1)\n",
    "\n",
    "train_x.head()"
   ]
  },
  {
   "cell_type": "code",
   "execution_count": 254,
   "id": "c60ab415",
   "metadata": {},
   "outputs": [
    {
     "data": {
      "text/html": [
       "<div>\n",
       "<style scoped>\n",
       "    .dataframe tbody tr th:only-of-type {\n",
       "        vertical-align: middle;\n",
       "    }\n",
       "\n",
       "    .dataframe tbody tr th {\n",
       "        vertical-align: top;\n",
       "    }\n",
       "\n",
       "    .dataframe thead th {\n",
       "        text-align: right;\n",
       "    }\n",
       "</style>\n",
       "<table border=\"1\" class=\"dataframe\">\n",
       "  <thead>\n",
       "    <tr style=\"text-align: right;\">\n",
       "      <th></th>\n",
       "      <th>Data Set</th>\n",
       "      <th>Shape</th>\n",
       "    </tr>\n",
       "  </thead>\n",
       "  <tbody>\n",
       "    <tr>\n",
       "      <th>0</th>\n",
       "      <td>train_x</td>\n",
       "      <td>(631, 9)</td>\n",
       "    </tr>\n",
       "    <tr>\n",
       "      <th>1</th>\n",
       "      <td>valid_x</td>\n",
       "      <td>(422, 9)</td>\n",
       "    </tr>\n",
       "    <tr>\n",
       "      <th>2</th>\n",
       "      <td>train_y</td>\n",
       "      <td>(631,)</td>\n",
       "    </tr>\n",
       "    <tr>\n",
       "      <th>3</th>\n",
       "      <td>valid_y</td>\n",
       "      <td>(422,)</td>\n",
       "    </tr>\n",
       "  </tbody>\n",
       "</table>\n",
       "</div>"
      ],
      "text/plain": [
       "  Data Set     Shape\n",
       "0  train_x  (631, 9)\n",
       "1  valid_x  (422, 9)\n",
       "2  train_y    (631,)\n",
       "3  valid_y    (422,)"
      ]
     },
     "execution_count": 254,
     "metadata": {},
     "output_type": "execute_result"
    }
   ],
   "source": [
    "# check training and validation data sets\n",
    "data={'Data Set':['train_x', 'valid_x', 'train_y', 'valid_y'], 'Shape':[train_x.shape, valid_x.shape, train_y.shape, valid_y.shape]}\n",
    "df=pd.DataFrame(data)\n",
    "df"
   ]
  },
  {
   "cell_type": "markdown",
   "id": "a080e06a",
   "metadata": {},
   "source": [
    "## Modeling"
   ]
  },
  {
   "cell_type": "markdown",
   "id": "e4ef45db",
   "metadata": {},
   "source": [
    "### With Pandas"
   ]
  },
  {
   "cell_type": "code",
   "execution_count": 255,
   "id": "f4c30cef",
   "metadata": {},
   "outputs": [
    {
     "data": {
      "text/html": [
       "<style>#sk-container-id-6 {color: black;}#sk-container-id-6 pre{padding: 0;}#sk-container-id-6 div.sk-toggleable {background-color: white;}#sk-container-id-6 label.sk-toggleable__label {cursor: pointer;display: block;width: 100%;margin-bottom: 0;padding: 0.3em;box-sizing: border-box;text-align: center;}#sk-container-id-6 label.sk-toggleable__label-arrow:before {content: \"▸\";float: left;margin-right: 0.25em;color: #696969;}#sk-container-id-6 label.sk-toggleable__label-arrow:hover:before {color: black;}#sk-container-id-6 div.sk-estimator:hover label.sk-toggleable__label-arrow:before {color: black;}#sk-container-id-6 div.sk-toggleable__content {max-height: 0;max-width: 0;overflow: hidden;text-align: left;background-color: #f0f8ff;}#sk-container-id-6 div.sk-toggleable__content pre {margin: 0.2em;color: black;border-radius: 0.25em;background-color: #f0f8ff;}#sk-container-id-6 input.sk-toggleable__control:checked~div.sk-toggleable__content {max-height: 200px;max-width: 100%;overflow: auto;}#sk-container-id-6 input.sk-toggleable__control:checked~label.sk-toggleable__label-arrow:before {content: \"▾\";}#sk-container-id-6 div.sk-estimator input.sk-toggleable__control:checked~label.sk-toggleable__label {background-color: #d4ebff;}#sk-container-id-6 div.sk-label input.sk-toggleable__control:checked~label.sk-toggleable__label {background-color: #d4ebff;}#sk-container-id-6 input.sk-hidden--visually {border: 0;clip: rect(1px 1px 1px 1px);clip: rect(1px, 1px, 1px, 1px);height: 1px;margin: -1px;overflow: hidden;padding: 0;position: absolute;width: 1px;}#sk-container-id-6 div.sk-estimator {font-family: monospace;background-color: #f0f8ff;border: 1px dotted black;border-radius: 0.25em;box-sizing: border-box;margin-bottom: 0.5em;}#sk-container-id-6 div.sk-estimator:hover {background-color: #d4ebff;}#sk-container-id-6 div.sk-parallel-item::after {content: \"\";width: 100%;border-bottom: 1px solid gray;flex-grow: 1;}#sk-container-id-6 div.sk-label:hover label.sk-toggleable__label {background-color: #d4ebff;}#sk-container-id-6 div.sk-serial::before {content: \"\";position: absolute;border-left: 1px solid gray;box-sizing: border-box;top: 0;bottom: 0;left: 50%;z-index: 0;}#sk-container-id-6 div.sk-serial {display: flex;flex-direction: column;align-items: center;background-color: white;padding-right: 0.2em;padding-left: 0.2em;position: relative;}#sk-container-id-6 div.sk-item {position: relative;z-index: 1;}#sk-container-id-6 div.sk-parallel {display: flex;align-items: stretch;justify-content: center;background-color: white;position: relative;}#sk-container-id-6 div.sk-item::before, #sk-container-id-6 div.sk-parallel-item::before {content: \"\";position: absolute;border-left: 1px solid gray;box-sizing: border-box;top: 0;bottom: 0;left: 50%;z-index: -1;}#sk-container-id-6 div.sk-parallel-item {display: flex;flex-direction: column;z-index: 1;position: relative;background-color: white;}#sk-container-id-6 div.sk-parallel-item:first-child::after {align-self: flex-end;width: 50%;}#sk-container-id-6 div.sk-parallel-item:last-child::after {align-self: flex-start;width: 50%;}#sk-container-id-6 div.sk-parallel-item:only-child::after {width: 0;}#sk-container-id-6 div.sk-dashed-wrapped {border: 1px dashed gray;margin: 0 0.4em 0.5em 0.4em;box-sizing: border-box;padding-bottom: 0.4em;background-color: white;}#sk-container-id-6 div.sk-label label {font-family: monospace;font-weight: bold;display: inline-block;line-height: 1.2em;}#sk-container-id-6 div.sk-label-container {text-align: center;}#sk-container-id-6 div.sk-container {/* jupyter's `normalize.less` sets `[hidden] { display: none; }` but bootstrap.min.css set `[hidden] { display: none !important; }` so we also need the `!important` here to be able to override the default hidden behavior on the sphinx rendered scikit-learn.org. See: https://github.com/scikit-learn/scikit-learn/issues/21755 */display: inline-block !important;position: relative;}#sk-container-id-6 div.sk-text-repr-fallback {display: none;}</style><div id=\"sk-container-id-6\" class=\"sk-top-container\"><div class=\"sk-text-repr-fallback\"><pre>LinearRegression()</pre><b>In a Jupyter environment, please rerun this cell to show the HTML representation or trust the notebook. <br />On GitHub, the HTML representation is unable to render, please try loading this page with nbviewer.org.</b></div><div class=\"sk-container\" hidden><div class=\"sk-item\"><div class=\"sk-estimator sk-toggleable\"><input class=\"sk-toggleable__control sk-hidden--visually\" id=\"sk-estimator-id-6\" type=\"checkbox\" checked><label for=\"sk-estimator-id-6\" class=\"sk-toggleable__label sk-toggleable__label-arrow\">LinearRegression</label><div class=\"sk-toggleable__content\"><pre>LinearRegression()</pre></div></div></div></div></div>"
      ],
      "text/plain": [
       "LinearRegression()"
      ]
     },
     "execution_count": 255,
     "metadata": {},
     "output_type": "execute_result"
    }
   ],
   "source": [
    "#build linear regression model using the training data\n",
    "CHRoster_lm = LinearRegression()\n",
    "CHRoster_lm.fit(train_x, train_y)"
   ]
  },
  {
   "cell_type": "code",
   "execution_count": 256,
   "id": "7d62ebc0",
   "metadata": {},
   "outputs": [
    {
     "name": "stdout",
     "output_type": "stream",
     "text": [
      "                             Predictor  Coefficient\n",
      "0  Major_Depressive_Disorder_Diagnosis    61.906036\n",
      "1                                Sex_M   -22.278988\n",
      "2                      AgeGroup_26to35    47.792657\n",
      "3                      AgeGroup_36to50    22.678281\n",
      "4                      AgeGroup_51to65    71.192433\n",
      "5                   AgeGroup_65_and_Up  -176.184264\n",
      "6                 SocialRiskGroup_3to4   -47.436814\n",
      "7                 SocialRiskGroup_5to6   -12.095099\n",
      "8             SocialRiskGroup_7_and_Up   -29.278893\n"
     ]
    }
   ],
   "source": [
    "# print coefficients\n",
    "print(pd.DataFrame({'Predictor': x.columns, 'Coefficient': CHRoster_lm.coef_}))"
   ]
  },
  {
   "cell_type": "code",
   "execution_count": 257,
   "id": "0d50d676",
   "metadata": {},
   "outputs": [
    {
     "data": {
      "text/plain": [
       "867.8918308251044"
      ]
     },
     "execution_count": 257,
     "metadata": {},
     "output_type": "execute_result"
    }
   ],
   "source": [
    "# Get the y intercept\n",
    "CHRoster_lm.intercept_"
   ]
  },
  {
   "cell_type": "code",
   "execution_count": 259,
   "id": "37c9b0b3",
   "metadata": {},
   "outputs": [
    {
     "name": "stdout",
     "output_type": "stream",
     "text": [
      "\n",
      "Regression statistics\n",
      "\n",
      "                      Mean Error (ME) : 0.0000\n",
      "       Root Mean Squared Error (RMSE) : 221.4398\n",
      "            Mean Absolute Error (MAE) : 173.3165\n",
      "          Mean Percentage Error (MPE) : -15.8803\n",
      "Mean Absolute Percentage Error (MAPE) : 30.1875\n"
     ]
    }
   ],
   "source": [
    "# print performance measures (training data)\n",
    "regressionSummary(train_y, CHRoster_lm.predict(train_x))"
   ]
  },
  {
   "cell_type": "code",
   "execution_count": 260,
   "id": "59f61018",
   "metadata": {},
   "outputs": [
    {
     "data": {
      "text/html": [
       "<div>\n",
       "<style scoped>\n",
       "    .dataframe tbody tr th:only-of-type {\n",
       "        vertical-align: middle;\n",
       "    }\n",
       "\n",
       "    .dataframe tbody tr th {\n",
       "        vertical-align: top;\n",
       "    }\n",
       "\n",
       "    .dataframe thead th {\n",
       "        text-align: right;\n",
       "    }\n",
       "</style>\n",
       "<table border=\"1\" class=\"dataframe\">\n",
       "  <thead>\n",
       "    <tr style=\"text-align: right;\">\n",
       "      <th></th>\n",
       "      <th>Predicted</th>\n",
       "      <th>Actual</th>\n",
       "      <th>Residual</th>\n",
       "    </tr>\n",
       "  </thead>\n",
       "  <tbody>\n",
       "    <tr>\n",
       "      <th>18544</th>\n",
       "      <td>955.311536</td>\n",
       "      <td>824.390000</td>\n",
       "      <td>-130.921536</td>\n",
       "    </tr>\n",
       "    <tr>\n",
       "      <th>13390</th>\n",
       "      <td>955.311536</td>\n",
       "      <td>1212.340000</td>\n",
       "      <td>257.028464</td>\n",
       "    </tr>\n",
       "    <tr>\n",
       "      <th>32297</th>\n",
       "      <td>868.291123</td>\n",
       "      <td>655.210000</td>\n",
       "      <td>-213.081123</td>\n",
       "    </tr>\n",
       "    <tr>\n",
       "      <th>16825</th>\n",
       "      <td>955.311536</td>\n",
       "      <td>127.010667</td>\n",
       "      <td>-828.300869</td>\n",
       "    </tr>\n",
       "    <tr>\n",
       "      <th>3476</th>\n",
       "      <td>890.570111</td>\n",
       "      <td>984.497273</td>\n",
       "      <td>93.927161</td>\n",
       "    </tr>\n",
       "    <tr>\n",
       "      <th>54089</th>\n",
       "      <td>915.684488</td>\n",
       "      <td>739.870000</td>\n",
       "      <td>-175.814488</td>\n",
       "    </tr>\n",
       "    <tr>\n",
       "      <th>57089</th>\n",
       "      <td>882.361052</td>\n",
       "      <td>569.307325</td>\n",
       "      <td>-313.053728</td>\n",
       "    </tr>\n",
       "    <tr>\n",
       "      <th>28876</th>\n",
       "      <td>977.590524</td>\n",
       "      <td>1249.078000</td>\n",
       "      <td>271.487476</td>\n",
       "    </tr>\n",
       "    <tr>\n",
       "      <th>17985</th>\n",
       "      <td>669.428579</td>\n",
       "      <td>836.400000</td>\n",
       "      <td>166.971421</td>\n",
       "    </tr>\n",
       "    <tr>\n",
       "      <th>57075</th>\n",
       "      <td>929.797867</td>\n",
       "      <td>750.000000</td>\n",
       "      <td>-179.797867</td>\n",
       "    </tr>\n",
       "    <tr>\n",
       "      <th>23357</th>\n",
       "      <td>952.476147</td>\n",
       "      <td>816.390000</td>\n",
       "      <td>-136.086147</td>\n",
       "    </tr>\n",
       "    <tr>\n",
       "      <th>44807</th>\n",
       "      <td>988.895201</td>\n",
       "      <td>1072.101538</td>\n",
       "      <td>83.206338</td>\n",
       "    </tr>\n",
       "    <tr>\n",
       "      <th>20680</th>\n",
       "      <td>955.311536</td>\n",
       "      <td>1212.340000</td>\n",
       "      <td>257.028464</td>\n",
       "    </tr>\n",
       "    <tr>\n",
       "      <th>24783</th>\n",
       "      <td>893.405500</td>\n",
       "      <td>754.670000</td>\n",
       "      <td>-138.735500</td>\n",
       "    </tr>\n",
       "    <tr>\n",
       "      <th>36661</th>\n",
       "      <td>907.518879</td>\n",
       "      <td>808.226667</td>\n",
       "      <td>-99.292212</td>\n",
       "    </tr>\n",
       "    <tr>\n",
       "      <th>19103</th>\n",
       "      <td>907.518879</td>\n",
       "      <td>267.275000</td>\n",
       "      <td>-640.243879</td>\n",
       "    </tr>\n",
       "    <tr>\n",
       "      <th>7245</th>\n",
       "      <td>916.805275</td>\n",
       "      <td>1279.080000</td>\n",
       "      <td>362.274725</td>\n",
       "    </tr>\n",
       "    <tr>\n",
       "      <th>27955</th>\n",
       "      <td>943.216437</td>\n",
       "      <td>685.995455</td>\n",
       "      <td>-257.220983</td>\n",
       "    </tr>\n",
       "    <tr>\n",
       "      <th>8216</th>\n",
       "      <td>890.570111</td>\n",
       "      <td>836.400000</td>\n",
       "      <td>-54.170111</td>\n",
       "    </tr>\n",
       "    <tr>\n",
       "      <th>22171</th>\n",
       "      <td>943.216437</td>\n",
       "      <td>853.127600</td>\n",
       "      <td>-90.088837</td>\n",
       "    </tr>\n",
       "  </tbody>\n",
       "</table>\n",
       "</div>"
      ],
      "text/plain": [
       "        Predicted       Actual    Residual\n",
       "18544  955.311536   824.390000 -130.921536\n",
       "13390  955.311536  1212.340000  257.028464\n",
       "32297  868.291123   655.210000 -213.081123\n",
       "16825  955.311536   127.010667 -828.300869\n",
       "3476   890.570111   984.497273   93.927161\n",
       "54089  915.684488   739.870000 -175.814488\n",
       "57089  882.361052   569.307325 -313.053728\n",
       "28876  977.590524  1249.078000  271.487476\n",
       "17985  669.428579   836.400000  166.971421\n",
       "57075  929.797867   750.000000 -179.797867\n",
       "23357  952.476147   816.390000 -136.086147\n",
       "44807  988.895201  1072.101538   83.206338\n",
       "20680  955.311536  1212.340000  257.028464\n",
       "24783  893.405500   754.670000 -138.735500\n",
       "36661  907.518879   808.226667  -99.292212\n",
       "19103  907.518879   267.275000 -640.243879\n",
       "7245   916.805275  1279.080000  362.274725\n",
       "27955  943.216437   685.995455 -257.220983\n",
       "8216   890.570111   836.400000  -54.170111\n",
       "22171  943.216437   853.127600  -90.088837"
      ]
     },
     "execution_count": 260,
     "metadata": {},
     "output_type": "execute_result"
    }
   ],
   "source": [
    "# Predicted Avg Costs (and Errors) for 20 cases in validation set and summary predictive measures for entire validation set \n",
    "# Use predict() to make predictions on a new set\n",
    "CHRoster_lm_pred = CHRoster_lm.predict(valid_x)\n",
    "result = pd.DataFrame({'Predicted': CHRoster_lm_pred, \n",
    "                       'Actual': valid_y,\n",
    "                       'Residual': valid_y - CHRoster_lm_pred})\n",
    "result.head(20)"
   ]
  },
  {
   "cell_type": "code",
   "execution_count": 261,
   "id": "2f9dc53e",
   "metadata": {},
   "outputs": [
    {
     "name": "stdout",
     "output_type": "stream",
     "text": [
      "\n",
      "Regression statistics\n",
      "\n",
      "                      Mean Error (ME) : -26.3517\n",
      "       Root Mean Squared Error (RMSE) : 236.6875\n",
      "            Mean Absolute Error (MAE) : 180.0706\n",
      "          Mean Percentage Error (MPE) : -30.5036\n",
      "Mean Absolute Percentage Error (MAPE) : 43.2124\n"
     ]
    }
   ],
   "source": [
    "# Print performance measures (vaildation data)\n",
    "regressionSummary(valid_y, CHRoster_lm_pred)"
   ]
  },
  {
   "cell_type": "markdown",
   "id": "d58f810a",
   "metadata": {},
   "source": [
    "### With Statmodels"
   ]
  },
  {
   "cell_type": "code",
   "execution_count": 262,
   "id": "4eb85eb5",
   "metadata": {},
   "outputs": [
    {
     "data": {
      "text/html": [
       "<div>\n",
       "<style scoped>\n",
       "    .dataframe tbody tr th:only-of-type {\n",
       "        vertical-align: middle;\n",
       "    }\n",
       "\n",
       "    .dataframe tbody tr th {\n",
       "        vertical-align: top;\n",
       "    }\n",
       "\n",
       "    .dataframe thead th {\n",
       "        text-align: right;\n",
       "    }\n",
       "</style>\n",
       "<table border=\"1\" class=\"dataframe\">\n",
       "  <thead>\n",
       "    <tr style=\"text-align: right;\">\n",
       "      <th></th>\n",
       "      <th>Major_Depressive_Disorder_Diagnosis</th>\n",
       "      <th>Sex_M</th>\n",
       "      <th>AgeGroup_26to35</th>\n",
       "      <th>AgeGroup_36to50</th>\n",
       "      <th>AgeGroup_51to65</th>\n",
       "      <th>AgeGroup_65_and_Up</th>\n",
       "      <th>SocialRiskGroup_3to4</th>\n",
       "      <th>SocialRiskGroup_5to6</th>\n",
       "      <th>SocialRiskGroup_7_and_Up</th>\n",
       "      <th>Avg_Cost_IP_Facility_Days</th>\n",
       "    </tr>\n",
       "  </thead>\n",
       "  <tbody>\n",
       "    <tr>\n",
       "      <th>48334</th>\n",
       "      <td>1</td>\n",
       "      <td>False</td>\n",
       "      <td>False</td>\n",
       "      <td>False</td>\n",
       "      <td>True</td>\n",
       "      <td>False</td>\n",
       "      <td>True</td>\n",
       "      <td>False</td>\n",
       "      <td>False</td>\n",
       "      <td>938.410000</td>\n",
       "    </tr>\n",
       "    <tr>\n",
       "      <th>1945</th>\n",
       "      <td>1</td>\n",
       "      <td>False</td>\n",
       "      <td>False</td>\n",
       "      <td>True</td>\n",
       "      <td>False</td>\n",
       "      <td>False</td>\n",
       "      <td>True</td>\n",
       "      <td>False</td>\n",
       "      <td>False</td>\n",
       "      <td>1116.766364</td>\n",
       "    </tr>\n",
       "    <tr>\n",
       "      <th>3789</th>\n",
       "      <td>1</td>\n",
       "      <td>False</td>\n",
       "      <td>False</td>\n",
       "      <td>True</td>\n",
       "      <td>False</td>\n",
       "      <td>False</td>\n",
       "      <td>False</td>\n",
       "      <td>False</td>\n",
       "      <td>False</td>\n",
       "      <td>1212.338333</td>\n",
       "    </tr>\n",
       "    <tr>\n",
       "      <th>10026</th>\n",
       "      <td>1</td>\n",
       "      <td>True</td>\n",
       "      <td>False</td>\n",
       "      <td>False</td>\n",
       "      <td>True</td>\n",
       "      <td>False</td>\n",
       "      <td>False</td>\n",
       "      <td>False</td>\n",
       "      <td>False</td>\n",
       "      <td>1218.398750</td>\n",
       "    </tr>\n",
       "    <tr>\n",
       "      <th>49209</th>\n",
       "      <td>1</td>\n",
       "      <td>True</td>\n",
       "      <td>False</td>\n",
       "      <td>True</td>\n",
       "      <td>False</td>\n",
       "      <td>False</td>\n",
       "      <td>True</td>\n",
       "      <td>False</td>\n",
       "      <td>False</td>\n",
       "      <td>919.117500</td>\n",
       "    </tr>\n",
       "  </tbody>\n",
       "</table>\n",
       "</div>"
      ],
      "text/plain": [
       "       Major_Depressive_Disorder_Diagnosis  Sex_M  AgeGroup_26to35  \\\n",
       "48334                                    1  False            False   \n",
       "1945                                     1  False            False   \n",
       "3789                                     1  False            False   \n",
       "10026                                    1   True            False   \n",
       "49209                                    1   True            False   \n",
       "\n",
       "       AgeGroup_36to50  AgeGroup_51to65  AgeGroup_65_and_Up  \\\n",
       "48334            False             True               False   \n",
       "1945              True            False               False   \n",
       "3789              True            False               False   \n",
       "10026            False             True               False   \n",
       "49209             True            False               False   \n",
       "\n",
       "       SocialRiskGroup_3to4  SocialRiskGroup_5to6  SocialRiskGroup_7_and_Up  \\\n",
       "48334                  True                 False                     False   \n",
       "1945                   True                 False                     False   \n",
       "3789                  False                 False                     False   \n",
       "10026                 False                 False                     False   \n",
       "49209                  True                 False                     False   \n",
       "\n",
       "       Avg_Cost_IP_Facility_Days  \n",
       "48334                 938.410000  \n",
       "1945                 1116.766364  \n",
       "3789                 1212.338333  \n",
       "10026                1218.398750  \n",
       "49209                 919.117500  "
      ]
     },
     "execution_count": 262,
     "metadata": {},
     "output_type": "execute_result"
    }
   ],
   "source": [
    "train_df = train_x.join(train_y)\n",
    "train_df.head()"
   ]
  },
  {
   "cell_type": "code",
   "execution_count": 263,
   "id": "53393103",
   "metadata": {},
   "outputs": [
    {
     "data": {
      "text/plain": [
       "Index(['Major_Depressive_Disorder_Diagnosis', 'Sex_M', 'AgeGroup_26to35',\n",
       "       'AgeGroup_36to50', 'AgeGroup_51to65', 'AgeGroup_65_and_Up',\n",
       "       'SocialRiskGroup_3to4', 'SocialRiskGroup_5to6',\n",
       "       'SocialRiskGroup_7_and_Up'],\n",
       "      dtype='object')"
      ]
     },
     "execution_count": 263,
     "metadata": {},
     "output_type": "execute_result"
    }
   ],
   "source": [
    "predictors = train_x.columns\n",
    "predictors"
   ]
  },
  {
   "cell_type": "code",
   "execution_count": 264,
   "id": "bdc015d1",
   "metadata": {},
   "outputs": [
    {
     "data": {
      "text/plain": [
       "'Avg_Cost_IP_Facility_Days ~Major_Depressive_Disorder_Diagnosis+Sex_M+AgeGroup_26to35+AgeGroup_36to50+AgeGroup_51to65+AgeGroup_65_and_Up+SocialRiskGroup_3to4+SocialRiskGroup_5to6+SocialRiskGroup_7_and_Up'"
      ]
     },
     "execution_count": 264,
     "metadata": {},
     "output_type": "execute_result"
    }
   ],
   "source": [
    "# create the linear model formula\n",
    "#string_name.join(iterable); returns a string concatenated with the elements of iterable\n",
    "formula = 'Avg_Cost_IP_Facility_Days ~' + '+'.join(predictors)\n",
    "\n",
    "# Specify the formula for the linear model\n",
    "# formula = \"Avg_Cost_IP_Facility_Days ~ Major_Depressive_Disorder_Diagnosis + Sex_M + AgeGroup_26-35 + AgeGroup_36-50 + AgeGroup_51-65 + AgeGroup_65_and_Up + Q('SocialRiskGroup_3to4') + Q('SocialRiskGroup_5to6') + Q('SocialRiskGroup_7_and_Up')\"\n",
    "\n",
    "formula"
   ]
  },
  {
   "cell_type": "code",
   "execution_count": 265,
   "id": "6be96f40",
   "metadata": {},
   "outputs": [
    {
     "name": "stdout",
     "output_type": "stream",
     "text": [
      "                                OLS Regression Results                               \n",
      "=====================================================================================\n",
      "Dep. Variable:     Avg_Cost_IP_Facility_Days   R-squared:                       0.049\n",
      "Model:                                   OLS   Adj. R-squared:                  0.035\n",
      "Method:                        Least Squares   F-statistic:                     3.568\n",
      "Date:                       Mon, 26 Feb 2024   Prob (F-statistic):           0.000245\n",
      "Time:                               15:51:56   Log-Likelihood:                -4302.8\n",
      "No. Observations:                        631   AIC:                             8626.\n",
      "Df Residuals:                            621   BIC:                             8670.\n",
      "Df Model:                                  9                                         \n",
      "Covariance Type:                   nonrobust                                         \n",
      "=======================================================================================================\n",
      "                                          coef    std err          t      P>|t|      [0.025      0.975]\n",
      "-------------------------------------------------------------------------------------------------------\n",
      "Intercept                             867.8918     26.631     32.589      0.000     815.593     920.190\n",
      "Sex_M[T.True]                         -22.2790     18.004     -1.237      0.216     -57.636      13.078\n",
      "AgeGroup_26to35[T.True]                47.7927     25.561      1.870      0.062      -2.404      97.989\n",
      "AgeGroup_36to50[T.True]                22.6783     24.570      0.923      0.356     -25.571      70.928\n",
      "AgeGroup_51to65[T.True]                71.1924     29.971      2.375      0.018      12.335     130.050\n",
      "AgeGroup_65_and_Up[T.True]           -176.1843     82.059     -2.147      0.032    -337.330     -15.038\n",
      "SocialRiskGroup_3to4[T.True]          -47.4368     22.686     -2.091      0.037     -91.987      -2.887\n",
      "SocialRiskGroup_5to6[T.True]          -12.0951     39.874     -0.303      0.762     -90.399      66.209\n",
      "SocialRiskGroup_7_and_Up[T.True]      -29.2789     91.898     -0.319      0.750    -209.746     151.189\n",
      "Major_Depressive_Disorder_Diagnosis    61.9060     18.995      3.259      0.001      24.604      99.209\n",
      "==============================================================================\n",
      "Omnibus:                       14.623   Durbin-Watson:                   2.038\n",
      "Prob(Omnibus):                  0.001   Jarque-Bera (JB):               26.524\n",
      "Skew:                          -0.096   Prob(JB):                     1.74e-06\n",
      "Kurtosis:                       3.986   Cond. No.                         14.8\n",
      "==============================================================================\n",
      "\n",
      "Notes:\n",
      "[1] Standard Errors assume that the covariance matrix of the errors is correctly specified.\n"
     ]
    }
   ],
   "source": [
    "# Build the linear model\n",
    "CHRoster_sm_lm = sm.ols(formula=formula, data=train_df).fit()\n",
    "\n",
    "# Display the summary of the linear model\n",
    "print(CHRoster_sm_lm.summary())"
   ]
  },
  {
   "cell_type": "code",
   "execution_count": 267,
   "id": "a947401a",
   "metadata": {},
   "outputs": [
    {
     "name": "stdout",
     "output_type": "stream",
     "text": [
      "\n",
      "Regression statistics\n",
      "\n",
      "                      Mean Error (ME) : -0.0000\n",
      "       Root Mean Squared Error (RMSE) : 221.4398\n",
      "            Mean Absolute Error (MAE) : 173.3165\n",
      "          Mean Percentage Error (MPE) : -15.8803\n",
      "Mean Absolute Percentage Error (MAPE) : 30.1875\n"
     ]
    }
   ],
   "source": [
    "## check model's accuracy on the training and validation data set\n",
    "## Training\n",
    "regressionSummary(train_y, CHRoster_sm_lm.predict (train_x))"
   ]
  },
  {
   "cell_type": "code",
   "execution_count": 268,
   "id": "ee5fbcf0",
   "metadata": {},
   "outputs": [
    {
     "name": "stdout",
     "output_type": "stream",
     "text": [
      "\n",
      "Regression statistics\n",
      "\n",
      "                      Mean Error (ME) : -26.3517\n",
      "       Root Mean Squared Error (RMSE) : 236.6875\n",
      "            Mean Absolute Error (MAE) : 180.0706\n",
      "          Mean Percentage Error (MPE) : -30.5036\n",
      "Mean Absolute Percentage Error (MAPE) : 43.2124\n"
     ]
    }
   ],
   "source": [
    "## Validation\n",
    "CHRoster_sm_lm_pred_stat = CHRoster_sm_lm.predict(valid_x)\n",
    "\n",
    "# print performance measures (validation data)\n",
    "regressionSummary(valid_y, CHRoster_sm_lm_pred_stat)"
   ]
  },
  {
   "cell_type": "markdown",
   "id": "c05057b6",
   "metadata": {},
   "source": [
    "### Backward elimination for reducing predictors in CHRoster example"
   ]
  },
  {
   "cell_type": "code",
   "execution_count": 269,
   "id": "b7164079",
   "metadata": {},
   "outputs": [
    {
     "data": {
      "text/plain": [
       "Index(['Major_Depressive_Disorder_Diagnosis', 'Sex_M', 'AgeGroup_26to35',\n",
       "       'AgeGroup_36to50', 'AgeGroup_51to65', 'AgeGroup_65_and_Up',\n",
       "       'SocialRiskGroup_3to4', 'SocialRiskGroup_5to6',\n",
       "       'SocialRiskGroup_7_and_Up'],\n",
       "      dtype='object')"
      ]
     },
     "execution_count": 269,
     "metadata": {},
     "output_type": "execute_result"
    }
   ],
   "source": [
    "def train_model(variables):\n",
    "    model = LinearRegression()\n",
    "    model.fit(train_x[variables], train_y)\n",
    "    return model\n",
    "def score_model(model, variables):\n",
    "    return AIC_score(train_y, model.predict(train_x[variables]), model)\n",
    "\n",
    "allVariables = train_x.columns\n",
    "allVariables"
   ]
  },
  {
   "cell_type": "code",
   "execution_count": 270,
   "id": "852edc02",
   "metadata": {},
   "outputs": [
    {
     "name": "stdout",
     "output_type": "stream",
     "text": [
      "Variables: Major_Depressive_Disorder_Diagnosis, Sex_M, AgeGroup_26to35, AgeGroup_36to50, AgeGroup_51to65, AgeGroup_65_and_Up, SocialRiskGroup_3to4, SocialRiskGroup_5to6, SocialRiskGroup_7_and_Up\n",
      "Start: score=8627.69\n",
      "Step: score=8625.78, remove SocialRiskGroup_5to6\n",
      "Step: score=8623.88, remove SocialRiskGroup_7_and_Up\n",
      "Step: score=8622.78, remove AgeGroup_36to50\n",
      "Step: score=8622.42, remove Sex_M\n",
      "Step: score=8622.42, remove None\n"
     ]
    },
    {
     "data": {
      "text/plain": [
       "['Major_Depressive_Disorder_Diagnosis',\n",
       " 'AgeGroup_26to35',\n",
       " 'AgeGroup_51to65',\n",
       " 'AgeGroup_65_and_Up',\n",
       " 'SocialRiskGroup_3to4']"
      ]
     },
     "execution_count": 270,
     "metadata": {},
     "output_type": "execute_result"
    }
   ],
   "source": [
    "# backward_elimination is from dmba library provided by the textbook\n",
    "best_model, best_variables = backward_elimination(allVariables, train_model, score_model, verbose=True)\n",
    "\n",
    "best_variables"
   ]
  },
  {
   "cell_type": "code",
   "execution_count": 271,
   "id": "376796ca",
   "metadata": {},
   "outputs": [
    {
     "name": "stdout",
     "output_type": "stream",
     "text": [
      "                             Predictor  Coefficient\n",
      "0  Major_Depressive_Disorder_Diagnosis    59.337637\n",
      "1                      AgeGroup_26to35    33.790982\n",
      "2                      AgeGroup_51to65    56.280130\n",
      "3                   AgeGroup_65_and_Up  -197.166619\n",
      "4                 SocialRiskGroup_3to4   -48.536672\n"
     ]
    }
   ],
   "source": [
    "print(pd.DataFrame({'Predictor': best_variables, 'Coefficient': best_model.coef_}))"
   ]
  },
  {
   "cell_type": "code",
   "execution_count": 272,
   "id": "2ac204d1",
   "metadata": {},
   "outputs": [
    {
     "data": {
      "text/plain": [
       "870.4346178048928"
      ]
     },
     "execution_count": 272,
     "metadata": {},
     "output_type": "execute_result"
    }
   ],
   "source": [
    "best_model.intercept_"
   ]
  },
  {
   "cell_type": "code",
   "execution_count": 273,
   "id": "6e97f682",
   "metadata": {},
   "outputs": [
    {
     "name": "stdout",
     "output_type": "stream",
     "text": [
      "\n",
      "Regression statistics\n",
      "\n",
      "                      Mean Error (ME) : -24.5149\n",
      "       Root Mean Squared Error (RMSE) : 237.5805\n",
      "            Mean Absolute Error (MAE) : 180.1430\n",
      "          Mean Percentage Error (MPE) : -30.6612\n",
      "Mean Absolute Percentage Error (MAPE) : 43.5376\n"
     ]
    }
   ],
   "source": [
    "regressionSummary(valid_y, best_model.predict(valid_x[best_variables]))"
   ]
  }
 ],
 "metadata": {
  "kernelspec": {
   "display_name": "Python 3 (ipykernel)",
   "language": "python",
   "name": "python3"
  },
  "language_info": {
   "codemirror_mode": {
    "name": "ipython",
    "version": 3
   },
   "file_extension": ".py",
   "mimetype": "text/x-python",
   "name": "python",
   "nbconvert_exporter": "python",
   "pygments_lexer": "ipython3",
   "version": "3.11.5"
  }
 },
 "nbformat": 4,
 "nbformat_minor": 5
}
