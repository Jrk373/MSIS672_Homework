{
 "cells": [
  {
   "cell_type": "code",
   "execution_count": 1,
   "id": "34461e71",
   "metadata": {},
   "outputs": [],
   "source": [
    "import pandas as pd\n",
    "import numpy as np\n",
    "from sklearn.model_selection import train_test_split, cross_val_score, GridSearchCV, RandomizedSearchCV\n",
    "from sklearn.neural_network import MLPClassifier\n",
    "from sklearn.metrics import accuracy_score, precision_score, recall_score, f1_score, confusion_matrix, classification_report\n",
    "from sklearn.preprocessing import StandardScaler, LabelEncoder\n",
    "import time\n",
    "import matplotlib.pyplot as plt"
   ]
  },
  {
   "cell_type": "code",
   "execution_count": 2,
   "id": "f65f3b83",
   "metadata": {},
   "outputs": [],
   "source": [
    "# Load the data\n",
    "df_hot = pd.read_csv(\"Kivela - Final Exam PreProcessed.csv\")"
   ]
  },
  {
   "cell_type": "code",
   "execution_count": 3,
   "id": "4195fc0f",
   "metadata": {},
   "outputs": [],
   "source": [
    "# Convert categorical variables to numerical\n",
    "le = LabelEncoder()\n",
    "df_hot['Credit_Mix'] = le.fit_transform(df_hot['Credit_Mix'])\n",
    "\n",
    "# Split the data into features (X) and target variable (y)\n",
    "X = df_hot.drop(columns=['Credit_Mix'])  # Features\n",
    "y = df_hot['Credit_Mix']  # Target variable"
   ]
  },
  {
   "cell_type": "code",
   "execution_count": 4,
   "id": "d4536429",
   "metadata": {},
   "outputs": [],
   "source": [
    "# Split data into training and testing sets\n",
    "train_X, valid_X, train_y, valid_y = train_test_split(X, \n",
    "                                                      y, \n",
    "                                                      test_size=0.2, \n",
    "                                                      random_state=42)"
   ]
  },
  {
   "cell_type": "code",
   "execution_count": 5,
   "id": "13046b2a",
   "metadata": {},
   "outputs": [],
   "source": [
    "# Standardize features by scaling\n",
    "scaler = StandardScaler()\n",
    "train_X_scaled = scaler.fit_transform(train_X)\n",
    "valid_X_scaled = scaler.transform(valid_X)"
   ]
  },
  {
   "cell_type": "code",
   "execution_count": 6,
   "id": "bdd7d1d0",
   "metadata": {},
   "outputs": [],
   "source": [
    "# Initialize/instantiate MLPClassifier\n",
    "clf_mlp = MLPClassifier(hidden_layer_sizes=(100,), \n",
    "                        activation='relu', \n",
    "                        solver='adam', \n",
    "                        max_iter=1000,\n",
    "                       )"
   ]
  },
  {
   "cell_type": "code",
   "execution_count": 7,
   "id": "baeefa3d",
   "metadata": {},
   "outputs": [
    {
     "data": {
      "text/html": [
       "<style>#sk-container-id-1 {color: black;}#sk-container-id-1 pre{padding: 0;}#sk-container-id-1 div.sk-toggleable {background-color: white;}#sk-container-id-1 label.sk-toggleable__label {cursor: pointer;display: block;width: 100%;margin-bottom: 0;padding: 0.3em;box-sizing: border-box;text-align: center;}#sk-container-id-1 label.sk-toggleable__label-arrow:before {content: \"▸\";float: left;margin-right: 0.25em;color: #696969;}#sk-container-id-1 label.sk-toggleable__label-arrow:hover:before {color: black;}#sk-container-id-1 div.sk-estimator:hover label.sk-toggleable__label-arrow:before {color: black;}#sk-container-id-1 div.sk-toggleable__content {max-height: 0;max-width: 0;overflow: hidden;text-align: left;background-color: #f0f8ff;}#sk-container-id-1 div.sk-toggleable__content pre {margin: 0.2em;color: black;border-radius: 0.25em;background-color: #f0f8ff;}#sk-container-id-1 input.sk-toggleable__control:checked~div.sk-toggleable__content {max-height: 200px;max-width: 100%;overflow: auto;}#sk-container-id-1 input.sk-toggleable__control:checked~label.sk-toggleable__label-arrow:before {content: \"▾\";}#sk-container-id-1 div.sk-estimator input.sk-toggleable__control:checked~label.sk-toggleable__label {background-color: #d4ebff;}#sk-container-id-1 div.sk-label input.sk-toggleable__control:checked~label.sk-toggleable__label {background-color: #d4ebff;}#sk-container-id-1 input.sk-hidden--visually {border: 0;clip: rect(1px 1px 1px 1px);clip: rect(1px, 1px, 1px, 1px);height: 1px;margin: -1px;overflow: hidden;padding: 0;position: absolute;width: 1px;}#sk-container-id-1 div.sk-estimator {font-family: monospace;background-color: #f0f8ff;border: 1px dotted black;border-radius: 0.25em;box-sizing: border-box;margin-bottom: 0.5em;}#sk-container-id-1 div.sk-estimator:hover {background-color: #d4ebff;}#sk-container-id-1 div.sk-parallel-item::after {content: \"\";width: 100%;border-bottom: 1px solid gray;flex-grow: 1;}#sk-container-id-1 div.sk-label:hover label.sk-toggleable__label {background-color: #d4ebff;}#sk-container-id-1 div.sk-serial::before {content: \"\";position: absolute;border-left: 1px solid gray;box-sizing: border-box;top: 0;bottom: 0;left: 50%;z-index: 0;}#sk-container-id-1 div.sk-serial {display: flex;flex-direction: column;align-items: center;background-color: white;padding-right: 0.2em;padding-left: 0.2em;position: relative;}#sk-container-id-1 div.sk-item {position: relative;z-index: 1;}#sk-container-id-1 div.sk-parallel {display: flex;align-items: stretch;justify-content: center;background-color: white;position: relative;}#sk-container-id-1 div.sk-item::before, #sk-container-id-1 div.sk-parallel-item::before {content: \"\";position: absolute;border-left: 1px solid gray;box-sizing: border-box;top: 0;bottom: 0;left: 50%;z-index: -1;}#sk-container-id-1 div.sk-parallel-item {display: flex;flex-direction: column;z-index: 1;position: relative;background-color: white;}#sk-container-id-1 div.sk-parallel-item:first-child::after {align-self: flex-end;width: 50%;}#sk-container-id-1 div.sk-parallel-item:last-child::after {align-self: flex-start;width: 50%;}#sk-container-id-1 div.sk-parallel-item:only-child::after {width: 0;}#sk-container-id-1 div.sk-dashed-wrapped {border: 1px dashed gray;margin: 0 0.4em 0.5em 0.4em;box-sizing: border-box;padding-bottom: 0.4em;background-color: white;}#sk-container-id-1 div.sk-label label {font-family: monospace;font-weight: bold;display: inline-block;line-height: 1.2em;}#sk-container-id-1 div.sk-label-container {text-align: center;}#sk-container-id-1 div.sk-container {/* jupyter's `normalize.less` sets `[hidden] { display: none; }` but bootstrap.min.css set `[hidden] { display: none !important; }` so we also need the `!important` here to be able to override the default hidden behavior on the sphinx rendered scikit-learn.org. See: https://github.com/scikit-learn/scikit-learn/issues/21755 */display: inline-block !important;position: relative;}#sk-container-id-1 div.sk-text-repr-fallback {display: none;}</style><div id=\"sk-container-id-1\" class=\"sk-top-container\"><div class=\"sk-text-repr-fallback\"><pre>MLPClassifier(max_iter=1000)</pre><b>In a Jupyter environment, please rerun this cell to show the HTML representation or trust the notebook. <br />On GitHub, the HTML representation is unable to render, please try loading this page with nbviewer.org.</b></div><div class=\"sk-container\" hidden><div class=\"sk-item\"><div class=\"sk-estimator sk-toggleable\"><input class=\"sk-toggleable__control sk-hidden--visually\" id=\"sk-estimator-id-1\" type=\"checkbox\" checked><label for=\"sk-estimator-id-1\" class=\"sk-toggleable__label sk-toggleable__label-arrow\">MLPClassifier</label><div class=\"sk-toggleable__content\"><pre>MLPClassifier(max_iter=1000)</pre></div></div></div></div></div>"
      ],
      "text/plain": [
       "MLPClassifier(max_iter=1000)"
      ]
     },
     "execution_count": 7,
     "metadata": {},
     "output_type": "execute_result"
    }
   ],
   "source": [
    "# Train the model\n",
    "clf_mlp.fit(X = train_X_scaled, \n",
    "            y = train_y)"
   ]
  },
  {
   "cell_type": "code",
   "execution_count": 8,
   "id": "17b65270",
   "metadata": {},
   "outputs": [],
   "source": [
    "# Set some names\n",
    "FeatureNames = list(valid_X.columns)\n",
    "ClassNames = list(clf_mlp.classes_)"
   ]
  },
  {
   "cell_type": "code",
   "execution_count": 9,
   "id": "74e1bcd2",
   "metadata": {},
   "outputs": [
    {
     "name": "stdout",
     "output_type": "stream",
     "text": [
      "Number of Layers: 3\n",
      "Number of Nodes in Each Hidden Layer: (100,)\n"
     ]
    }
   ],
   "source": [
    "# Number of layers and nodes\n",
    "num_layers = clf_mlp.n_layers_\n",
    "num_nodes = clf_mlp.hidden_layer_sizes\n",
    "\n",
    "print(\"Number of Layers:\", num_layers)\n",
    "print(\"Number of Nodes in Each Hidden Layer:\", num_nodes)"
   ]
  },
  {
   "cell_type": "code",
   "execution_count": 10,
   "id": "4ece8bfa",
   "metadata": {},
   "outputs": [
    {
     "name": "stdout",
     "output_type": "stream",
     "text": [
      "Cross-validation scores on training set: [0.53389725 0.63963179 0.63826347 0.58552059 0.53825103]\n",
      "Mean CV accuracy on training set: 0.5871128249782311\n"
     ]
    }
   ],
   "source": [
    "# Cross-validation on the training set\n",
    "cv_scores = cross_val_score(clf_mlp, X, y, cv=5)\n",
    "\n",
    "print(\"Cross-validation scores on training set:\", cv_scores)\n",
    "print(\"Mean CV accuracy on training set:\", cv_scores.mean())\n",
    "# CV accuracy = estimate of how well the model generalizes to new data."
   ]
  },
  {
   "cell_type": "code",
   "execution_count": 11,
   "id": "d23960db",
   "metadata": {},
   "outputs": [],
   "source": [
    "# Feature importances are not directly assessed in MLP like they are in other classifiers"
   ]
  },
  {
   "cell_type": "code",
   "execution_count": 12,
   "id": "10b07bc5",
   "metadata": {},
   "outputs": [],
   "source": [
    "# Define hyperparamters:\n",
    "param_grid = {\n",
    "    'hidden_layer_sizes': [(50,), (100,), (150,)],  # Number of neurons\n",
    "    'activation': ['relu', 'tanh', 'logistic'], \n",
    "    'solver': ['adam', 'sgd'],  # Optimization\n",
    "    'learning_rate': ['constant', 'adaptive'], \n",
    "}"
   ]
  },
  {
   "cell_type": "code",
   "execution_count": 13,
   "id": "ab9d01ae",
   "metadata": {},
   "outputs": [
    {
     "name": "stdout",
     "output_type": "stream",
     "text": [
      "Initial score:  0.5671600785299441\n",
      "Initial parameters:  {'solver': 'adam', 'learning_rate': 'constant', 'hidden_layer_sizes': (50,), 'activation': 'logistic'}\n"
     ]
    }
   ],
   "source": [
    "# Went with randomized because of compute needs\n",
    "rand = RandomizedSearchCV(clf_mlp,\n",
    "                         param_grid,\n",
    "                         n_iter = 10,\n",
    "                         cv = 3,\n",
    "                         scoring = 'accuracy',\n",
    "                         random_state = 373)\n",
    "\n",
    "# Fit the randomized cv\n",
    "rand.fit(X, y)\n",
    "\n",
    "# Print best parameters and best score\n",
    "print('Initial score: ', rand.best_score_)\n",
    "print('Initial parameters: ', rand.best_params_)"
   ]
  },
  {
   "cell_type": "code",
   "execution_count": 14,
   "id": "9d8be148",
   "metadata": {},
   "outputs": [],
   "source": [
    "# Update parameters (wash, rinse, repeat)\n",
    "# Define hyperparamters:\n",
    "param_grid = {\n",
    "    'hidden_layer_sizes': [(10, ), (50, ), (100)],  # Number of neurons in the layer\n",
    "    'activation': ['relu'], \n",
    "    'solver': ['adam'],  # Optimization\n",
    "    'learning_rate': ['constant'], \n",
    "}"
   ]
  },
  {
   "cell_type": "code",
   "execution_count": 15,
   "id": "af4bcccf",
   "metadata": {},
   "outputs": [
    {
     "name": "stdout",
     "output_type": "stream",
     "text": [
      "Best score:  0.6193307625326534\n",
      "Best parameters:  {'solver': 'adam', 'learning_rate': 'constant', 'hidden_layer_sizes': (50,), 'activation': 'relu'}\n"
     ]
    }
   ],
   "source": [
    "# Updated Randomized Search (wash, rinse, repeat)\n",
    "rand = RandomizedSearchCV(clf_mlp,\n",
    "                         param_grid,\n",
    "                         n_iter = 3,\n",
    "                         cv = 5,\n",
    "                         scoring = 'accuracy',\n",
    "                         random_state = 373)\n",
    "\n",
    "# Fit the randomized cv\n",
    "rand.fit(X, y)\n",
    "\n",
    "# Print best parameters and best score\n",
    "print('Best score: ', rand.best_score_)\n",
    "print('Best parameters: ', rand.best_params_)\n"
   ]
  },
  {
   "cell_type": "code",
   "execution_count": 16,
   "id": "49aa9a46",
   "metadata": {},
   "outputs": [
    {
     "name": "stdout",
     "output_type": "stream",
     "text": [
      "Accuracy on validation set: 0.5780569722602313\n"
     ]
    }
   ],
   "source": [
    "# Evaluate the final model on validatoipn data\n",
    "best_clf = rand.best_estimator_\n",
    "\n",
    "# Predict on validation data\n",
    "y_pred = best_clf.predict(valid_X)\n",
    "\n",
    "# Validation Score\n",
    "valid_accuracy = best_clf.score(valid_X, valid_y)\n",
    "\n",
    "print(\"Accuracy on validation set:\", valid_accuracy)"
   ]
  },
  {
   "cell_type": "code",
   "execution_count": 17,
   "id": "1cca393e",
   "metadata": {},
   "outputs": [
    {
     "name": "stdout",
     "output_type": "stream",
     "text": [
      "Accuracy: 0.5780569722602313\n",
      "Precision: 0.6760638326825712\n",
      "Recall: 0.5780569722602313\n",
      "F1-score: 0.5040410482467288\n",
      "Confusion Matrix:\n",
      " [[ 927    1 1009]\n",
      " [   1  193 2240]\n",
      " [  60   81 3527]]\n",
      "[[ 927    1 1009]\n",
      " [   1  193 2240]\n",
      " [  60   81 3527]]\n"
     ]
    },
    {
     "data": {
      "image/png": "[encoded data removed]",
      "text/plain": [
       "<Figure size 800x600 with 2 Axes>"
      ]
     },
     "metadata": {},
     "output_type": "display_data"
    }
   ],
   "source": [
    "# Calculate evaluation metrics (Classification Report)\n",
    "accuracy = accuracy_score(valid_y, y_pred)\n",
    "precision = precision_score(valid_y, y_pred, average='weighted')\n",
    "recall = recall_score(valid_y, y_pred, average='weighted')\n",
    "f1 = f1_score(valid_y, y_pred, average='weighted')\n",
    "conf_matrix = confusion_matrix(valid_y, y_pred)\n",
    "\n",
    "print(\"Accuracy:\", accuracy)\n",
    "print(\"Precision:\", precision)\n",
    "print(\"Recall:\", recall)\n",
    "print(\"F1-score:\", f1)\n",
    "print(\"Confusion Matrix:\\n\", conf_matrix)\n",
    "\n",
    "conf_mat = confusion_matrix(valid_y, y_pred)\n",
    "print(conf_mat)\n",
    "\n",
    "# Plot confusion matrix\n",
    "plt.figure(figsize=(8, 6))\n",
    "plt.imshow(conf_mat, interpolation='nearest', cmap=plt.cm.Blues)\n",
    "plt.title('Confusion Matrix')\n",
    "plt.colorbar()\n",
    "plt.xlabel('Predicted label')\n",
    "plt.ylabel('True label')\n",
    "plt.tight_layout()\n",
    "\n",
    "# Store confusion matrix in variable conf_mat\n",
    "conf_mat = plt\n",
    "\n",
    "plt.show()"
   ]
  }
 ],
 "metadata": {
  "kernelspec": {
   "display_name": "Python 3 (ipykernel)",
   "language": "python",
   "name": "python3"
  },
  "language_info": {
   "codemirror_mode": {
    "name": "ipython",
    "version": 3
   },
   "file_extension": ".py",
   "mimetype": "text/x-python",
   "name": "python",
   "nbconvert_exporter": "python",
   "pygments_lexer": "ipython3",
   "version": "3.11.5"
  }
 },
 "nbformat": 4,
 "nbformat_minor": 5
}
