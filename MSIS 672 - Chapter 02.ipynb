{
 "cells": [
  {
   "cell_type": "markdown",
   "id": "351f52c0",
   "metadata": {},
   "source": [
    "# Import required packages"
   ]
  },
  {
   "cell_type": "code",
   "execution_count": 1,
   "id": "5b55f426",
   "metadata": {},
   "outputs": [],
   "source": [
    "import pandas as pd"
   ]
  },
  {
   "cell_type": "markdown",
   "id": "d278a34d",
   "metadata": {},
   "source": [
    "# Load data"
   ]
  },
  {
   "cell_type": "code",
   "execution_count": 34,
   "id": "a74376e6",
   "metadata": {},
   "outputs": [
    {
     "data": {
      "text/plain": [
       "(5802, 14)"
      ]
     },
     "execution_count": 34,
     "metadata": {},
     "output_type": "execute_result"
    }
   ],
   "source": [
    "housing_df = pd.read_csv('WestRoxbury.csv')\n",
    "\n",
    "housing_df.shape # find the dimension of data frame"
   ]
  },
  {
   "cell_type": "markdown",
   "id": "4d31a8c7",
   "metadata": {},
   "source": [
    "# Import packages"
   ]
  },
  {
   "cell_type": "code",
   "execution_count": 35,
   "id": "d4a18c1f",
   "metadata": {},
   "outputs": [],
   "source": [
    "import numpy as np\n",
    "from sklearn.model_selection import train_test_split\n",
    "from sklearn.metrics import r2_score\n",
    "from sklearn.linear_model import LinearRegression"
   ]
  },
  {
   "cell_type": "markdown",
   "id": "c02798e4",
   "metadata": {},
   "source": [
    "# Explore data"
   ]
  },
  {
   "cell_type": "code",
   "execution_count": 36,
   "id": "c146ec17",
   "metadata": {},
   "outputs": [
    {
     "name": "stdout",
     "output_type": "stream",
     "text": [
      "      TOTAL VALUE    TAX  LOT SQFT   YR BUILT  GROSS AREA   LIVING AREA  \\\n",
      "0            344.2  4330       9965      1880         2436         1352   \n",
      "1            412.6  5190       6590      1945         3108         1976   \n",
      "2            330.1  4152       7500      1890         2294         1371   \n",
      "3            498.6  6272      13773      1957         5032         2608   \n",
      "4            331.5  4170       5000      1910         2370         1438   \n",
      "...            ...   ...        ...       ...          ...          ...   \n",
      "5797         404.8  5092       6762      1938         2594         1714   \n",
      "5798         407.9  5131       9408      1950         2414         1333   \n",
      "5799         406.5  5113       7198      1987         2480         1674   \n",
      "5800         308.7  3883       6890      1946         2000         1000   \n",
      "5801         447.6  5630       7406      1950         2510         1600   \n",
      "\n",
      "      FLOORS   ROOMS  BEDROOMS   FULL BATH  HALF BATH  KITCHEN  FIREPLACE  \\\n",
      "0         2.0      6          3          1          1        1          0   \n",
      "1         2.0     10          4          2          1        1          0   \n",
      "2         2.0      8          4          1          1        1          0   \n",
      "3         1.0      9          5          1          1        1          1   \n",
      "4         2.0      7          3          2          0        1          0   \n",
      "...       ...    ...        ...        ...        ...      ...        ...   \n",
      "5797      2.0      9          3          2          1        1          1   \n",
      "5798      2.0      6          3          1          1        1          1   \n",
      "5799      2.0      7          3          1          1        1          1   \n",
      "5800      1.0      5          2          1          0        1          0   \n",
      "5801      2.0      7          3          1          1        1          1   \n",
      "\n",
      "     REMODEL  \n",
      "0        NaN  \n",
      "1     Recent  \n",
      "2        NaN  \n",
      "3        NaN  \n",
      "4        NaN  \n",
      "...      ...  \n",
      "5797  Recent  \n",
      "5798     NaN  \n",
      "5799     NaN  \n",
      "5800     NaN  \n",
      "5801     NaN  \n",
      "\n",
      "[5802 rows x 14 columns]\n"
     ]
    }
   ],
   "source": [
    "housing_df.head() # show the first five rows, the row index starts with 0\n",
    "\n",
    "pd.options.display.max_columns = None #show all columns in Console\n",
    "\n",
    "housing_df.head()\n",
    "\n",
    "print(housing_df) # show all the data"
   ]
  },
  {
   "cell_type": "markdown",
   "id": "aa1a6a7e",
   "metadata": {},
   "source": [
    "# add _ to all columns\n",
    "\n",
    "for loop in Python https://www.datacamp.com/tutorial/for-loops-in-python\n",
    "\n",
    "s.strip()... removes any white space\n",
    "...replace('thing to replace', 'thing that will replace')\n",
    "for s... s means run through all of the things\n",
    "housing_df.columns...the things that are going to be run through"
   ]
  },
  {
   "cell_type": "code",
   "execution_count": 37,
   "id": "d2a5824d",
   "metadata": {},
   "outputs": [
    {
     "data": {
      "text/plain": [
       "Index(['TOTAL_VALUE', 'TAX', 'LOT_SQFT', 'YR_BUILT', 'GROSS_AREA',\n",
       "       'LIVING_AREA', 'FLOORS', 'ROOMS', 'BEDROOMS', 'FULL_BATH', 'HALF_BATH',\n",
       "       'KITCHEN', 'FIREPLACE', 'REMODEL'],\n",
       "      dtype='object')"
      ]
     },
     "execution_count": 37,
     "metadata": {},
     "output_type": "execute_result"
    }
   ],
   "source": [
    "housing_df.columns\n",
    "\n",
    "housing_df.columns = [s.strip().replace(' ', '_') for s in housing_df.columns]\n",
    "\n",
    "housing_df.columns"
   ]
  },
  {
   "cell_type": "markdown",
   "id": "4e2392a7",
   "metadata": {},
   "source": [
    "# Practice showing the first four rows of the data"
   ]
  },
  {
   "cell_type": "code",
   "execution_count": 38,
   "id": "bdcfd046",
   "metadata": {},
   "outputs": [
    {
     "data": {
      "text/html": [
       "<div>\n",
       "<style scoped>\n",
       "    .dataframe tbody tr th:only-of-type {\n",
       "        vertical-align: middle;\n",
       "    }\n",
       "\n",
       "    .dataframe tbody tr th {\n",
       "        vertical-align: top;\n",
       "    }\n",
       "\n",
       "    .dataframe thead th {\n",
       "        text-align: right;\n",
       "    }\n",
       "</style>\n",
       "<table border=\"1\" class=\"dataframe\">\n",
       "  <thead>\n",
       "    <tr style=\"text-align: right;\">\n",
       "      <th></th>\n",
       "      <th>TOTAL_VALUE</th>\n",
       "      <th>TAX</th>\n",
       "      <th>LOT_SQFT</th>\n",
       "      <th>YR_BUILT</th>\n",
       "      <th>GROSS_AREA</th>\n",
       "      <th>LIVING_AREA</th>\n",
       "      <th>FLOORS</th>\n",
       "      <th>ROOMS</th>\n",
       "      <th>BEDROOMS</th>\n",
       "      <th>FULL_BATH</th>\n",
       "      <th>HALF_BATH</th>\n",
       "      <th>KITCHEN</th>\n",
       "      <th>FIREPLACE</th>\n",
       "      <th>REMODEL</th>\n",
       "    </tr>\n",
       "  </thead>\n",
       "  <tbody>\n",
       "    <tr>\n",
       "      <th>0</th>\n",
       "      <td>344.2</td>\n",
       "      <td>4330</td>\n",
       "      <td>9965</td>\n",
       "      <td>1880</td>\n",
       "      <td>2436</td>\n",
       "      <td>1352</td>\n",
       "      <td>2.0</td>\n",
       "      <td>6</td>\n",
       "      <td>3</td>\n",
       "      <td>1</td>\n",
       "      <td>1</td>\n",
       "      <td>1</td>\n",
       "      <td>0</td>\n",
       "      <td>NaN</td>\n",
       "    </tr>\n",
       "    <tr>\n",
       "      <th>1</th>\n",
       "      <td>412.6</td>\n",
       "      <td>5190</td>\n",
       "      <td>6590</td>\n",
       "      <td>1945</td>\n",
       "      <td>3108</td>\n",
       "      <td>1976</td>\n",
       "      <td>2.0</td>\n",
       "      <td>10</td>\n",
       "      <td>4</td>\n",
       "      <td>2</td>\n",
       "      <td>1</td>\n",
       "      <td>1</td>\n",
       "      <td>0</td>\n",
       "      <td>Recent</td>\n",
       "    </tr>\n",
       "    <tr>\n",
       "      <th>2</th>\n",
       "      <td>330.1</td>\n",
       "      <td>4152</td>\n",
       "      <td>7500</td>\n",
       "      <td>1890</td>\n",
       "      <td>2294</td>\n",
       "      <td>1371</td>\n",
       "      <td>2.0</td>\n",
       "      <td>8</td>\n",
       "      <td>4</td>\n",
       "      <td>1</td>\n",
       "      <td>1</td>\n",
       "      <td>1</td>\n",
       "      <td>0</td>\n",
       "      <td>NaN</td>\n",
       "    </tr>\n",
       "    <tr>\n",
       "      <th>3</th>\n",
       "      <td>498.6</td>\n",
       "      <td>6272</td>\n",
       "      <td>13773</td>\n",
       "      <td>1957</td>\n",
       "      <td>5032</td>\n",
       "      <td>2608</td>\n",
       "      <td>1.0</td>\n",
       "      <td>9</td>\n",
       "      <td>5</td>\n",
       "      <td>1</td>\n",
       "      <td>1</td>\n",
       "      <td>1</td>\n",
       "      <td>1</td>\n",
       "      <td>NaN</td>\n",
       "    </tr>\n",
       "  </tbody>\n",
       "</table>\n",
       "</div>"
      ],
      "text/plain": [
       "   TOTAL_VALUE   TAX  LOT_SQFT  YR_BUILT  GROSS_AREA  LIVING_AREA  FLOORS  \\\n",
       "0        344.2  4330      9965      1880        2436         1352     2.0   \n",
       "1        412.6  5190      6590      1945        3108         1976     2.0   \n",
       "2        330.1  4152      7500      1890        2294         1371     2.0   \n",
       "3        498.6  6272     13773      1957        5032         2608     1.0   \n",
       "\n",
       "   ROOMS  BEDROOMS  FULL_BATH  HALF_BATH  KITCHEN  FIREPLACE REMODEL  \n",
       "0      6         3          1          1        1          0     NaN  \n",
       "1     10         4          2          1        1          0  Recent  \n",
       "2      8         4          1          1        1          0     NaN  \n",
       "3      9         5          1          1        1          1     NaN  "
      ]
     },
     "execution_count": 38,
     "metadata": {},
     "output_type": "execute_result"
    }
   ],
   "source": [
    "housing_df.loc[0:3] # loc[a:b] gives rows a to b, inclusive"
   ]
  },
  {
   "cell_type": "code",
   "execution_count": 39,
   "id": "498b1f9a",
   "metadata": {},
   "outputs": [
    {
     "data": {
      "text/html": [
       "<div>\n",
       "<style scoped>\n",
       "    .dataframe tbody tr th:only-of-type {\n",
       "        vertical-align: middle;\n",
       "    }\n",
       "\n",
       "    .dataframe tbody tr th {\n",
       "        vertical-align: top;\n",
       "    }\n",
       "\n",
       "    .dataframe thead th {\n",
       "        text-align: right;\n",
       "    }\n",
       "</style>\n",
       "<table border=\"1\" class=\"dataframe\">\n",
       "  <thead>\n",
       "    <tr style=\"text-align: right;\">\n",
       "      <th></th>\n",
       "      <th>TOTAL_VALUE</th>\n",
       "      <th>TAX</th>\n",
       "      <th>LOT_SQFT</th>\n",
       "      <th>YR_BUILT</th>\n",
       "      <th>GROSS_AREA</th>\n",
       "      <th>LIVING_AREA</th>\n",
       "      <th>FLOORS</th>\n",
       "      <th>ROOMS</th>\n",
       "      <th>BEDROOMS</th>\n",
       "      <th>FULL_BATH</th>\n",
       "      <th>HALF_BATH</th>\n",
       "      <th>KITCHEN</th>\n",
       "      <th>FIREPLACE</th>\n",
       "      <th>REMODEL</th>\n",
       "    </tr>\n",
       "  </thead>\n",
       "  <tbody>\n",
       "    <tr>\n",
       "      <th>0</th>\n",
       "      <td>344.2</td>\n",
       "      <td>4330</td>\n",
       "      <td>9965</td>\n",
       "      <td>1880</td>\n",
       "      <td>2436</td>\n",
       "      <td>1352</td>\n",
       "      <td>2.0</td>\n",
       "      <td>6</td>\n",
       "      <td>3</td>\n",
       "      <td>1</td>\n",
       "      <td>1</td>\n",
       "      <td>1</td>\n",
       "      <td>0</td>\n",
       "      <td>NaN</td>\n",
       "    </tr>\n",
       "    <tr>\n",
       "      <th>1</th>\n",
       "      <td>412.6</td>\n",
       "      <td>5190</td>\n",
       "      <td>6590</td>\n",
       "      <td>1945</td>\n",
       "      <td>3108</td>\n",
       "      <td>1976</td>\n",
       "      <td>2.0</td>\n",
       "      <td>10</td>\n",
       "      <td>4</td>\n",
       "      <td>2</td>\n",
       "      <td>1</td>\n",
       "      <td>1</td>\n",
       "      <td>0</td>\n",
       "      <td>Recent</td>\n",
       "    </tr>\n",
       "    <tr>\n",
       "      <th>2</th>\n",
       "      <td>330.1</td>\n",
       "      <td>4152</td>\n",
       "      <td>7500</td>\n",
       "      <td>1890</td>\n",
       "      <td>2294</td>\n",
       "      <td>1371</td>\n",
       "      <td>2.0</td>\n",
       "      <td>8</td>\n",
       "      <td>4</td>\n",
       "      <td>1</td>\n",
       "      <td>1</td>\n",
       "      <td>1</td>\n",
       "      <td>0</td>\n",
       "      <td>NaN</td>\n",
       "    </tr>\n",
       "    <tr>\n",
       "      <th>3</th>\n",
       "      <td>498.6</td>\n",
       "      <td>6272</td>\n",
       "      <td>13773</td>\n",
       "      <td>1957</td>\n",
       "      <td>5032</td>\n",
       "      <td>2608</td>\n",
       "      <td>1.0</td>\n",
       "      <td>9</td>\n",
       "      <td>5</td>\n",
       "      <td>1</td>\n",
       "      <td>1</td>\n",
       "      <td>1</td>\n",
       "      <td>1</td>\n",
       "      <td>NaN</td>\n",
       "    </tr>\n",
       "  </tbody>\n",
       "</table>\n",
       "</div>"
      ],
      "text/plain": [
       "   TOTAL_VALUE   TAX  LOT_SQFT  YR_BUILT  GROSS_AREA  LIVING_AREA  FLOORS  \\\n",
       "0        344.2  4330      9965      1880        2436         1352     2.0   \n",
       "1        412.6  5190      6590      1945        3108         1976     2.0   \n",
       "2        330.1  4152      7500      1890        2294         1371     2.0   \n",
       "3        498.6  6272     13773      1957        5032         2608     1.0   \n",
       "\n",
       "   ROOMS  BEDROOMS  FULL_BATH  HALF_BATH  KITCHEN  FIREPLACE REMODEL  \n",
       "0      6         3          1          1        1          0     NaN  \n",
       "1     10         4          2          1        1          0  Recent  \n",
       "2      8         4          1          1        1          0     NaN  \n",
       "3      9         5          1          1        1          1     NaN  "
      ]
     },
     "execution_count": 39,
     "metadata": {},
     "output_type": "execute_result"
    }
   ],
   "source": [
    "housing_df.iloc[0:4] # iloc[a:b] gives rows a to b-1"
   ]
  },
  {
   "cell_type": "markdown",
   "id": "762512ac",
   "metadata": {},
   "source": [
    "# Different ways of showing the first 10 values in column TOTAL_VALUE"
   ]
  },
  {
   "cell_type": "code",
   "execution_count": 40,
   "id": "8506e66e",
   "metadata": {},
   "outputs": [
    {
     "data": {
      "text/plain": [
       "0    344.2\n",
       "1    412.6\n",
       "2    330.1\n",
       "3    498.6\n",
       "4    331.5\n",
       "5    337.4\n",
       "6    359.4\n",
       "7    320.4\n",
       "8    333.5\n",
       "9    409.4\n",
       "Name: TOTAL_VALUE, dtype: float64"
      ]
     },
     "execution_count": 40,
     "metadata": {},
     "output_type": "execute_result"
    }
   ],
   "source": [
    "housing_df['TOTAL_VALUE'].iloc[0:10]"
   ]
  },
  {
   "cell_type": "code",
   "execution_count": 41,
   "id": "6ffb2e5e",
   "metadata": {},
   "outputs": [
    {
     "data": {
      "text/plain": [
       "0    344.2\n",
       "1    412.6\n",
       "2    330.1\n",
       "3    498.6\n",
       "4    331.5\n",
       "5    337.4\n",
       "6    359.4\n",
       "7    320.4\n",
       "8    333.5\n",
       "9    409.4\n",
       "Name: TOTAL_VALUE, dtype: float64"
      ]
     },
     "execution_count": 41,
     "metadata": {},
     "output_type": "execute_result"
    }
   ],
   "source": [
    "housing_df.iloc[0:10]['TOTAL_VALUE']"
   ]
  },
  {
   "cell_type": "code",
   "execution_count": 42,
   "id": "d024130b",
   "metadata": {},
   "outputs": [
    {
     "data": {
      "text/plain": [
       "0    344.2\n",
       "1    412.6\n",
       "2    330.1\n",
       "3    498.6\n",
       "4    331.5\n",
       "5    337.4\n",
       "6    359.4\n",
       "7    320.4\n",
       "8    333.5\n",
       "9    409.4\n",
       "Name: TOTAL_VALUE, dtype: float64"
      ]
     },
     "execution_count": 42,
     "metadata": {},
     "output_type": "execute_result"
    }
   ],
   "source": [
    "housing_df.iloc[0:10].TOTAL_VALUE # use dot notation if the column name has no spaces"
   ]
  },
  {
   "cell_type": "markdown",
   "id": "40bdd192",
   "metadata": {},
   "source": [
    "# Show the fifth row of the first 10 columns, zero-indexed"
   ]
  },
  {
   "cell_type": "code",
   "execution_count": 43,
   "id": "c0c1589c",
   "metadata": {},
   "outputs": [
    {
     "data": {
      "text/plain": [
       "TOTAL_VALUE    331.5\n",
       "TAX             4170\n",
       "LOT_SQFT        5000\n",
       "YR_BUILT        1910\n",
       "GROSS_AREA      2370\n",
       "LIVING_AREA     1438\n",
       "FLOORS           2.0\n",
       "ROOMS              7\n",
       "BEDROOMS           3\n",
       "FULL_BATH          2\n",
       "Name: 4, dtype: object"
      ]
     },
     "execution_count": 43,
     "metadata": {},
     "output_type": "execute_result"
    }
   ],
   "source": [
    "housing_df.iloc[4][0:10]"
   ]
  },
  {
   "cell_type": "code",
   "execution_count": 44,
   "id": "3969db5f",
   "metadata": {},
   "outputs": [
    {
     "data": {
      "text/plain": [
       "TOTAL_VALUE    331.5\n",
       "TAX             4170\n",
       "LOT_SQFT        5000\n",
       "YR_BUILT        1910\n",
       "GROSS_AREA      2370\n",
       "LIVING_AREA     1438\n",
       "FLOORS           2.0\n",
       "ROOMS              7\n",
       "BEDROOMS           3\n",
       "FULL_BATH          2\n",
       "Name: 4, dtype: object"
      ]
     },
     "execution_count": 44,
     "metadata": {},
     "output_type": "execute_result"
    }
   ],
   "source": [
    "housing_df.iloc[4, 0:10]"
   ]
  },
  {
   "cell_type": "markdown",
   "id": "9c8fcc6a",
   "metadata": {},
   "source": [
    "# Use a slice to return a data frame"
   ]
  },
  {
   "cell_type": "code",
   "execution_count": 45,
   "id": "379e2196",
   "metadata": {
    "scrolled": true
   },
   "outputs": [
    {
     "data": {
      "text/html": [
       "<div>\n",
       "<style scoped>\n",
       "    .dataframe tbody tr th:only-of-type {\n",
       "        vertical-align: middle;\n",
       "    }\n",
       "\n",
       "    .dataframe tbody tr th {\n",
       "        vertical-align: top;\n",
       "    }\n",
       "\n",
       "    .dataframe thead th {\n",
       "        text-align: right;\n",
       "    }\n",
       "</style>\n",
       "<table border=\"1\" class=\"dataframe\">\n",
       "  <thead>\n",
       "    <tr style=\"text-align: right;\">\n",
       "      <th></th>\n",
       "      <th>TOTAL_VALUE</th>\n",
       "      <th>TAX</th>\n",
       "      <th>LOT_SQFT</th>\n",
       "      <th>YR_BUILT</th>\n",
       "      <th>GROSS_AREA</th>\n",
       "      <th>LIVING_AREA</th>\n",
       "      <th>FLOORS</th>\n",
       "      <th>ROOMS</th>\n",
       "      <th>BEDROOMS</th>\n",
       "      <th>FULL_BATH</th>\n",
       "    </tr>\n",
       "  </thead>\n",
       "  <tbody>\n",
       "    <tr>\n",
       "      <th>4</th>\n",
       "      <td>331.5</td>\n",
       "      <td>4170</td>\n",
       "      <td>5000</td>\n",
       "      <td>1910</td>\n",
       "      <td>2370</td>\n",
       "      <td>1438</td>\n",
       "      <td>2.0</td>\n",
       "      <td>7</td>\n",
       "      <td>3</td>\n",
       "      <td>2</td>\n",
       "    </tr>\n",
       "  </tbody>\n",
       "</table>\n",
       "</div>"
      ],
      "text/plain": [
       "   TOTAL_VALUE   TAX  LOT_SQFT  YR_BUILT  GROSS_AREA  LIVING_AREA  FLOORS  \\\n",
       "4        331.5  4170      5000      1910        2370         1438     2.0   \n",
       "\n",
       "   ROOMS  BEDROOMS  FULL_BATH  \n",
       "4      7         3          2  "
      ]
     },
     "execution_count": 45,
     "metadata": {},
     "output_type": "execute_result"
    }
   ],
   "source": [
    "housing_df.iloc[4:5, 0:10]"
   ]
  },
  {
   "cell_type": "markdown",
   "id": "c463abc5",
   "metadata": {},
   "source": [
    "Use pd.concat to combine non-consecutive columns into a new data frame.\n",
    "\n",
    "The axis argument specifies the dimension along which the # concatenation happens, 0=rows, 1=columns."
   ]
  },
  {
   "cell_type": "code",
   "execution_count": 46,
   "id": "52b672d1",
   "metadata": {},
   "outputs": [
    {
     "data": {
      "text/html": [
       "<div>\n",
       "<style scoped>\n",
       "    .dataframe tbody tr th:only-of-type {\n",
       "        vertical-align: middle;\n",
       "    }\n",
       "\n",
       "    .dataframe tbody tr th {\n",
       "        vertical-align: top;\n",
       "    }\n",
       "\n",
       "    .dataframe thead th {\n",
       "        text-align: right;\n",
       "    }\n",
       "</style>\n",
       "<table border=\"1\" class=\"dataframe\">\n",
       "  <thead>\n",
       "    <tr style=\"text-align: right;\">\n",
       "      <th></th>\n",
       "      <th>TOTAL_VALUE</th>\n",
       "      <th>TAX</th>\n",
       "      <th>GROSS_AREA</th>\n",
       "      <th>LIVING_AREA</th>\n",
       "    </tr>\n",
       "  </thead>\n",
       "  <tbody>\n",
       "    <tr>\n",
       "      <th>4</th>\n",
       "      <td>331.5</td>\n",
       "      <td>4170</td>\n",
       "      <td>2370</td>\n",
       "      <td>1438</td>\n",
       "    </tr>\n",
       "    <tr>\n",
       "      <th>5</th>\n",
       "      <td>337.4</td>\n",
       "      <td>4244</td>\n",
       "      <td>2124</td>\n",
       "      <td>1060</td>\n",
       "    </tr>\n",
       "  </tbody>\n",
       "</table>\n",
       "</div>"
      ],
      "text/plain": [
       "   TOTAL_VALUE   TAX  GROSS_AREA  LIVING_AREA\n",
       "4        331.5  4170        2370         1438\n",
       "5        337.4  4244        2124         1060"
      ]
     },
     "execution_count": 46,
     "metadata": {},
     "output_type": "execute_result"
    }
   ],
   "source": [
    "pd.concat([housing_df.iloc[4:6,0:2], \n",
    "           housing_df.iloc[4:6,4:6]], \n",
    "           axis=1)"
   ]
  },
  {
   "cell_type": "markdown",
   "id": "ee8636e3",
   "metadata": {},
   "source": [
    "# To specify a full column, use:"
   ]
  },
  {
   "cell_type": "code",
   "execution_count": 47,
   "id": "851ee785",
   "metadata": {},
   "outputs": [
    {
     "data": {
      "text/html": [
       "<div>\n",
       "<style scoped>\n",
       "    .dataframe tbody tr th:only-of-type {\n",
       "        vertical-align: middle;\n",
       "    }\n",
       "\n",
       "    .dataframe tbody tr th {\n",
       "        vertical-align: top;\n",
       "    }\n",
       "\n",
       "    .dataframe thead th {\n",
       "        text-align: right;\n",
       "    }\n",
       "</style>\n",
       "<table border=\"1\" class=\"dataframe\">\n",
       "  <thead>\n",
       "    <tr style=\"text-align: right;\">\n",
       "      <th></th>\n",
       "      <th>TOTAL_VALUE</th>\n",
       "    </tr>\n",
       "  </thead>\n",
       "  <tbody>\n",
       "    <tr>\n",
       "      <th>0</th>\n",
       "      <td>344.2</td>\n",
       "    </tr>\n",
       "    <tr>\n",
       "      <th>1</th>\n",
       "      <td>412.6</td>\n",
       "    </tr>\n",
       "    <tr>\n",
       "      <th>2</th>\n",
       "      <td>330.1</td>\n",
       "    </tr>\n",
       "    <tr>\n",
       "      <th>3</th>\n",
       "      <td>498.6</td>\n",
       "    </tr>\n",
       "    <tr>\n",
       "      <th>4</th>\n",
       "      <td>331.5</td>\n",
       "    </tr>\n",
       "    <tr>\n",
       "      <th>...</th>\n",
       "      <td>...</td>\n",
       "    </tr>\n",
       "    <tr>\n",
       "      <th>5797</th>\n",
       "      <td>404.8</td>\n",
       "    </tr>\n",
       "    <tr>\n",
       "      <th>5798</th>\n",
       "      <td>407.9</td>\n",
       "    </tr>\n",
       "    <tr>\n",
       "      <th>5799</th>\n",
       "      <td>406.5</td>\n",
       "    </tr>\n",
       "    <tr>\n",
       "      <th>5800</th>\n",
       "      <td>308.7</td>\n",
       "    </tr>\n",
       "    <tr>\n",
       "      <th>5801</th>\n",
       "      <td>447.6</td>\n",
       "    </tr>\n",
       "  </tbody>\n",
       "</table>\n",
       "<p>5802 rows × 1 columns</p>\n",
       "</div>"
      ],
      "text/plain": [
       "      TOTAL_VALUE\n",
       "0           344.2\n",
       "1           412.6\n",
       "2           330.1\n",
       "3           498.6\n",
       "4           331.5\n",
       "...           ...\n",
       "5797        404.8\n",
       "5798        407.9\n",
       "5799        406.5\n",
       "5800        308.7\n",
       "5801        447.6\n",
       "\n",
       "[5802 rows x 1 columns]"
      ]
     },
     "execution_count": 47,
     "metadata": {},
     "output_type": "execute_result"
    }
   ],
   "source": [
    "housing_df.iloc[:,0:1]"
   ]
  },
  {
   "cell_type": "code",
   "execution_count": 48,
   "id": "a98ab058",
   "metadata": {},
   "outputs": [
    {
     "data": {
      "text/plain": [
       "0       344.2\n",
       "1       412.6\n",
       "2       330.1\n",
       "3       498.6\n",
       "4       331.5\n",
       "        ...  \n",
       "5797    404.8\n",
       "5798    407.9\n",
       "5799    406.5\n",
       "5800    308.7\n",
       "5801    447.6\n",
       "Name: TOTAL_VALUE, Length: 5802, dtype: float64"
      ]
     },
     "execution_count": 48,
     "metadata": {},
     "output_type": "execute_result"
    }
   ],
   "source": [
    "housing_df.TOTAL_VALUE"
   ]
  },
  {
   "cell_type": "code",
   "execution_count": 49,
   "id": "13b109ff",
   "metadata": {},
   "outputs": [
    {
     "data": {
      "text/plain": [
       "0    344.2\n",
       "1    412.6\n",
       "2    330.1\n",
       "3    498.6\n",
       "4    331.5\n",
       "5    337.4\n",
       "6    359.4\n",
       "7    320.4\n",
       "8    333.5\n",
       "9    409.4\n",
       "Name: TOTAL_VALUE, dtype: float64"
      ]
     },
     "execution_count": 49,
     "metadata": {},
     "output_type": "execute_result"
    }
   ],
   "source": [
    "housing_df['TOTAL_VALUE'][0:10] # show the first 10 rows of the first column"
   ]
  },
  {
   "cell_type": "markdown",
   "id": "ef880ade",
   "metadata": {},
   "source": [
    "# Descriptive statistics"
   ]
  },
  {
   "cell_type": "code",
   "execution_count": 50,
   "id": "daee6508",
   "metadata": {},
   "outputs": [
    {
     "name": "stdout",
     "output_type": "stream",
     "text": [
      "Number of rows  5802\n"
     ]
    }
   ],
   "source": [
    "print('Number of rows ', len(housing_df['TOTAL_VALUE'])) # show length of first column"
   ]
  },
  {
   "cell_type": "code",
   "execution_count": 51,
   "id": "220930af",
   "metadata": {},
   "outputs": [
    {
     "name": "stdout",
     "output_type": "stream",
     "text": [
      "Mean of TOTAL_VALUE  392.6857149258877\n"
     ]
    }
   ],
   "source": [
    "print('Mean of TOTAL_VALUE ', housing_df['TOTAL_VALUE'].mean()) # show mean of column"
   ]
  },
  {
   "cell_type": "code",
   "execution_count": 52,
   "id": "8bc43116",
   "metadata": {
    "scrolled": true
   },
   "outputs": [
    {
     "data": {
      "text/html": [
       "<div>\n",
       "<style scoped>\n",
       "    .dataframe tbody tr th:only-of-type {\n",
       "        vertical-align: middle;\n",
       "    }\n",
       "\n",
       "    .dataframe tbody tr th {\n",
       "        vertical-align: top;\n",
       "    }\n",
       "\n",
       "    .dataframe thead th {\n",
       "        text-align: right;\n",
       "    }\n",
       "</style>\n",
       "<table border=\"1\" class=\"dataframe\">\n",
       "  <thead>\n",
       "    <tr style=\"text-align: right;\">\n",
       "      <th></th>\n",
       "      <th>TOTAL_VALUE</th>\n",
       "      <th>TAX</th>\n",
       "      <th>LOT_SQFT</th>\n",
       "      <th>YR_BUILT</th>\n",
       "      <th>GROSS_AREA</th>\n",
       "      <th>LIVING_AREA</th>\n",
       "      <th>FLOORS</th>\n",
       "      <th>ROOMS</th>\n",
       "      <th>BEDROOMS</th>\n",
       "      <th>FULL_BATH</th>\n",
       "      <th>HALF_BATH</th>\n",
       "      <th>KITCHEN</th>\n",
       "      <th>FIREPLACE</th>\n",
       "    </tr>\n",
       "  </thead>\n",
       "  <tbody>\n",
       "    <tr>\n",
       "      <th>count</th>\n",
       "      <td>5802.000000</td>\n",
       "      <td>5802.000000</td>\n",
       "      <td>5802.000000</td>\n",
       "      <td>5802.000000</td>\n",
       "      <td>5802.000000</td>\n",
       "      <td>5802.000000</td>\n",
       "      <td>5802.000000</td>\n",
       "      <td>5802.000000</td>\n",
       "      <td>5802.000000</td>\n",
       "      <td>5802.000000</td>\n",
       "      <td>5802.000000</td>\n",
       "      <td>5802.00000</td>\n",
       "      <td>5802.000000</td>\n",
       "    </tr>\n",
       "    <tr>\n",
       "      <th>mean</th>\n",
       "      <td>392.685715</td>\n",
       "      <td>4939.485867</td>\n",
       "      <td>6278.083764</td>\n",
       "      <td>1936.744916</td>\n",
       "      <td>2924.842123</td>\n",
       "      <td>1657.065322</td>\n",
       "      <td>1.683730</td>\n",
       "      <td>6.994829</td>\n",
       "      <td>3.230093</td>\n",
       "      <td>1.296794</td>\n",
       "      <td>0.613926</td>\n",
       "      <td>1.01534</td>\n",
       "      <td>0.739917</td>\n",
       "    </tr>\n",
       "    <tr>\n",
       "      <th>std</th>\n",
       "      <td>99.177414</td>\n",
       "      <td>1247.649118</td>\n",
       "      <td>2669.707974</td>\n",
       "      <td>35.989910</td>\n",
       "      <td>883.984726</td>\n",
       "      <td>540.456726</td>\n",
       "      <td>0.444884</td>\n",
       "      <td>1.437657</td>\n",
       "      <td>0.846607</td>\n",
       "      <td>0.522040</td>\n",
       "      <td>0.533839</td>\n",
       "      <td>0.12291</td>\n",
       "      <td>0.565108</td>\n",
       "    </tr>\n",
       "    <tr>\n",
       "      <th>min</th>\n",
       "      <td>105.000000</td>\n",
       "      <td>1320.000000</td>\n",
       "      <td>997.000000</td>\n",
       "      <td>0.000000</td>\n",
       "      <td>821.000000</td>\n",
       "      <td>504.000000</td>\n",
       "      <td>1.000000</td>\n",
       "      <td>3.000000</td>\n",
       "      <td>1.000000</td>\n",
       "      <td>1.000000</td>\n",
       "      <td>0.000000</td>\n",
       "      <td>1.00000</td>\n",
       "      <td>0.000000</td>\n",
       "    </tr>\n",
       "    <tr>\n",
       "      <th>25%</th>\n",
       "      <td>325.125000</td>\n",
       "      <td>4089.500000</td>\n",
       "      <td>4772.000000</td>\n",
       "      <td>1920.000000</td>\n",
       "      <td>2347.000000</td>\n",
       "      <td>1308.000000</td>\n",
       "      <td>1.000000</td>\n",
       "      <td>6.000000</td>\n",
       "      <td>3.000000</td>\n",
       "      <td>1.000000</td>\n",
       "      <td>0.000000</td>\n",
       "      <td>1.00000</td>\n",
       "      <td>0.000000</td>\n",
       "    </tr>\n",
       "    <tr>\n",
       "      <th>50%</th>\n",
       "      <td>375.900000</td>\n",
       "      <td>4728.000000</td>\n",
       "      <td>5683.000000</td>\n",
       "      <td>1935.000000</td>\n",
       "      <td>2700.000000</td>\n",
       "      <td>1548.500000</td>\n",
       "      <td>2.000000</td>\n",
       "      <td>7.000000</td>\n",
       "      <td>3.000000</td>\n",
       "      <td>1.000000</td>\n",
       "      <td>1.000000</td>\n",
       "      <td>1.00000</td>\n",
       "      <td>1.000000</td>\n",
       "    </tr>\n",
       "    <tr>\n",
       "      <th>75%</th>\n",
       "      <td>438.775000</td>\n",
       "      <td>5519.500000</td>\n",
       "      <td>7022.250000</td>\n",
       "      <td>1955.000000</td>\n",
       "      <td>3239.000000</td>\n",
       "      <td>1873.750000</td>\n",
       "      <td>2.000000</td>\n",
       "      <td>8.000000</td>\n",
       "      <td>4.000000</td>\n",
       "      <td>2.000000</td>\n",
       "      <td>1.000000</td>\n",
       "      <td>1.00000</td>\n",
       "      <td>1.000000</td>\n",
       "    </tr>\n",
       "    <tr>\n",
       "      <th>max</th>\n",
       "      <td>1217.800000</td>\n",
       "      <td>15319.000000</td>\n",
       "      <td>46411.000000</td>\n",
       "      <td>2011.000000</td>\n",
       "      <td>8154.000000</td>\n",
       "      <td>5289.000000</td>\n",
       "      <td>3.000000</td>\n",
       "      <td>14.000000</td>\n",
       "      <td>9.000000</td>\n",
       "      <td>5.000000</td>\n",
       "      <td>3.000000</td>\n",
       "      <td>2.00000</td>\n",
       "      <td>4.000000</td>\n",
       "    </tr>\n",
       "  </tbody>\n",
       "</table>\n",
       "</div>"
      ],
      "text/plain": [
       "       TOTAL_VALUE           TAX      LOT_SQFT     YR_BUILT   GROSS_AREA  \\\n",
       "count  5802.000000   5802.000000   5802.000000  5802.000000  5802.000000   \n",
       "mean    392.685715   4939.485867   6278.083764  1936.744916  2924.842123   \n",
       "std      99.177414   1247.649118   2669.707974    35.989910   883.984726   \n",
       "min     105.000000   1320.000000    997.000000     0.000000   821.000000   \n",
       "25%     325.125000   4089.500000   4772.000000  1920.000000  2347.000000   \n",
       "50%     375.900000   4728.000000   5683.000000  1935.000000  2700.000000   \n",
       "75%     438.775000   5519.500000   7022.250000  1955.000000  3239.000000   \n",
       "max    1217.800000  15319.000000  46411.000000  2011.000000  8154.000000   \n",
       "\n",
       "       LIVING_AREA       FLOORS        ROOMS     BEDROOMS    FULL_BATH  \\\n",
       "count  5802.000000  5802.000000  5802.000000  5802.000000  5802.000000   \n",
       "mean   1657.065322     1.683730     6.994829     3.230093     1.296794   \n",
       "std     540.456726     0.444884     1.437657     0.846607     0.522040   \n",
       "min     504.000000     1.000000     3.000000     1.000000     1.000000   \n",
       "25%    1308.000000     1.000000     6.000000     3.000000     1.000000   \n",
       "50%    1548.500000     2.000000     7.000000     3.000000     1.000000   \n",
       "75%    1873.750000     2.000000     8.000000     4.000000     2.000000   \n",
       "max    5289.000000     3.000000    14.000000     9.000000     5.000000   \n",
       "\n",
       "         HALF_BATH     KITCHEN    FIREPLACE  \n",
       "count  5802.000000  5802.00000  5802.000000  \n",
       "mean      0.613926     1.01534     0.739917  \n",
       "std       0.533839     0.12291     0.565108  \n",
       "min       0.000000     1.00000     0.000000  \n",
       "25%       0.000000     1.00000     0.000000  \n",
       "50%       1.000000     1.00000     1.000000  \n",
       "75%       1.000000     1.00000     1.000000  \n",
       "max       3.000000     2.00000     4.000000  "
      ]
     },
     "execution_count": 52,
     "metadata": {},
     "output_type": "execute_result"
    }
   ],
   "source": [
    "housing_df.describe() # show summary statistics for each column"
   ]
  },
  {
   "cell_type": "markdown",
   "id": "e2c20649",
   "metadata": {},
   "source": [
    "# Sampling in pandas"
   ]
  },
  {
   "cell_type": "markdown",
   "id": "5db5aebb",
   "metadata": {},
   "source": [
    "## random sample of 5 observations"
   ]
  },
  {
   "cell_type": "code",
   "execution_count": 53,
   "id": "1c4b3e44",
   "metadata": {},
   "outputs": [
    {
     "data": {
      "text/html": [
       "<div>\n",
       "<style scoped>\n",
       "    .dataframe tbody tr th:only-of-type {\n",
       "        vertical-align: middle;\n",
       "    }\n",
       "\n",
       "    .dataframe tbody tr th {\n",
       "        vertical-align: top;\n",
       "    }\n",
       "\n",
       "    .dataframe thead th {\n",
       "        text-align: right;\n",
       "    }\n",
       "</style>\n",
       "<table border=\"1\" class=\"dataframe\">\n",
       "  <thead>\n",
       "    <tr style=\"text-align: right;\">\n",
       "      <th></th>\n",
       "      <th>TOTAL_VALUE</th>\n",
       "      <th>TAX</th>\n",
       "      <th>LOT_SQFT</th>\n",
       "      <th>YR_BUILT</th>\n",
       "      <th>GROSS_AREA</th>\n",
       "      <th>LIVING_AREA</th>\n",
       "      <th>FLOORS</th>\n",
       "      <th>ROOMS</th>\n",
       "      <th>BEDROOMS</th>\n",
       "      <th>FULL_BATH</th>\n",
       "      <th>HALF_BATH</th>\n",
       "      <th>KITCHEN</th>\n",
       "      <th>FIREPLACE</th>\n",
       "      <th>REMODEL</th>\n",
       "    </tr>\n",
       "  </thead>\n",
       "  <tbody>\n",
       "    <tr>\n",
       "      <th>3638</th>\n",
       "      <td>324.2</td>\n",
       "      <td>4078</td>\n",
       "      <td>5000</td>\n",
       "      <td>1930</td>\n",
       "      <td>3384</td>\n",
       "      <td>1383</td>\n",
       "      <td>1.0</td>\n",
       "      <td>5</td>\n",
       "      <td>2</td>\n",
       "      <td>1</td>\n",
       "      <td>0</td>\n",
       "      <td>1</td>\n",
       "      <td>1</td>\n",
       "      <td>NaN</td>\n",
       "    </tr>\n",
       "    <tr>\n",
       "      <th>2071</th>\n",
       "      <td>404.1</td>\n",
       "      <td>5083</td>\n",
       "      <td>6688</td>\n",
       "      <td>1938</td>\n",
       "      <td>2510</td>\n",
       "      <td>1350</td>\n",
       "      <td>2.0</td>\n",
       "      <td>6</td>\n",
       "      <td>3</td>\n",
       "      <td>1</td>\n",
       "      <td>1</td>\n",
       "      <td>1</td>\n",
       "      <td>1</td>\n",
       "      <td>NaN</td>\n",
       "    </tr>\n",
       "    <tr>\n",
       "      <th>2121</th>\n",
       "      <td>471.4</td>\n",
       "      <td>5930</td>\n",
       "      <td>8119</td>\n",
       "      <td>1938</td>\n",
       "      <td>2854</td>\n",
       "      <td>1600</td>\n",
       "      <td>2.0</td>\n",
       "      <td>6</td>\n",
       "      <td>3</td>\n",
       "      <td>1</td>\n",
       "      <td>1</td>\n",
       "      <td>1</td>\n",
       "      <td>1</td>\n",
       "      <td>NaN</td>\n",
       "    </tr>\n",
       "    <tr>\n",
       "      <th>3454</th>\n",
       "      <td>417.1</td>\n",
       "      <td>5247</td>\n",
       "      <td>6285</td>\n",
       "      <td>1975</td>\n",
       "      <td>2664</td>\n",
       "      <td>1720</td>\n",
       "      <td>2.0</td>\n",
       "      <td>7</td>\n",
       "      <td>3</td>\n",
       "      <td>2</td>\n",
       "      <td>0</td>\n",
       "      <td>1</td>\n",
       "      <td>1</td>\n",
       "      <td>NaN</td>\n",
       "    </tr>\n",
       "    <tr>\n",
       "      <th>3715</th>\n",
       "      <td>411.0</td>\n",
       "      <td>5170</td>\n",
       "      <td>5387</td>\n",
       "      <td>1920</td>\n",
       "      <td>2823</td>\n",
       "      <td>1932</td>\n",
       "      <td>2.0</td>\n",
       "      <td>11</td>\n",
       "      <td>4</td>\n",
       "      <td>1</td>\n",
       "      <td>1</td>\n",
       "      <td>1</td>\n",
       "      <td>1</td>\n",
       "      <td>Recent</td>\n",
       "    </tr>\n",
       "  </tbody>\n",
       "</table>\n",
       "</div>"
      ],
      "text/plain": [
       "      TOTAL_VALUE   TAX  LOT_SQFT  YR_BUILT  GROSS_AREA  LIVING_AREA  FLOORS  \\\n",
       "3638        324.2  4078      5000      1930        3384         1383     1.0   \n",
       "2071        404.1  5083      6688      1938        2510         1350     2.0   \n",
       "2121        471.4  5930      8119      1938        2854         1600     2.0   \n",
       "3454        417.1  5247      6285      1975        2664         1720     2.0   \n",
       "3715        411.0  5170      5387      1920        2823         1932     2.0   \n",
       "\n",
       "      ROOMS  BEDROOMS  FULL_BATH  HALF_BATH  KITCHEN  FIREPLACE REMODEL  \n",
       "3638      5         2          1          0        1          1     NaN  \n",
       "2071      6         3          1          1        1          1     NaN  \n",
       "2121      6         3          1          1        1          1     NaN  \n",
       "3454      7         3          2          0        1          1     NaN  \n",
       "3715     11         4          1          1        1          1  Recent  "
      ]
     },
     "execution_count": 53,
     "metadata": {},
     "output_type": "execute_result"
    }
   ],
   "source": [
    "housing_df.sample(5)"
   ]
  },
  {
   "cell_type": "markdown",
   "id": "58068c5b",
   "metadata": {},
   "source": [
    "## oversample houses with over 10 rooms"
   ]
  },
  {
   "cell_type": "markdown",
   "id": "ce53a1c8",
   "metadata": {},
   "source": [
    "### weights"
   ]
  },
  {
   "cell_type": "code",
   "execution_count": 54,
   "id": "8ee4efec",
   "metadata": {},
   "outputs": [
    {
     "data": {
      "text/plain": [
       "ROOMS\n",
       "7     1769\n",
       "6     1669\n",
       "8      936\n",
       "5      578\n",
       "9      450\n",
       "10     200\n",
       "4       71\n",
       "11      66\n",
       "12      45\n",
       "13      10\n",
       "14       5\n",
       "3        3\n",
       "Name: count, dtype: int64"
      ]
     },
     "execution_count": 54,
     "metadata": {},
     "output_type": "execute_result"
    }
   ],
   "source": [
    "# Counts of each distinct value in a colum\n",
    "housing_df.ROOMS.value_counts()"
   ]
  },
  {
   "cell_type": "code",
   "execution_count": 55,
   "id": "32751cf3",
   "metadata": {},
   "outputs": [
    {
     "data": {
      "text/plain": [
       "[0.01, 0.01, 0.01, 0.01, 0.01, 0.01, 0.01, 0.01, 0.01, 0.01]"
      ]
     },
     "execution_count": 55,
     "metadata": {},
     "output_type": "execute_result"
    }
   ],
   "source": [
    "# what to do\n",
    "# named variable (choose any name)\n",
    "# The column to do it to\n",
    "weights = [0.9 if rooms > 10 else 0.01 \n",
    "           for rooms in \n",
    "           housing_df.ROOMS]\n",
    "\n",
    "weights[0:10]"
   ]
  },
  {
   "cell_type": "markdown",
   "id": "d124b532",
   "metadata": {},
   "source": [
    "## oversample"
   ]
  },
  {
   "cell_type": "markdown",
   "id": "52750cc1",
   "metadata": {},
   "source": [
    "### sample 5 rows based on weights"
   ]
  },
  {
   "cell_type": "code",
   "execution_count": 56,
   "id": "1465fbab",
   "metadata": {},
   "outputs": [
    {
     "data": {
      "text/html": [
       "<div>\n",
       "<style scoped>\n",
       "    .dataframe tbody tr th:only-of-type {\n",
       "        vertical-align: middle;\n",
       "    }\n",
       "\n",
       "    .dataframe tbody tr th {\n",
       "        vertical-align: top;\n",
       "    }\n",
       "\n",
       "    .dataframe thead th {\n",
       "        text-align: right;\n",
       "    }\n",
       "</style>\n",
       "<table border=\"1\" class=\"dataframe\">\n",
       "  <thead>\n",
       "    <tr style=\"text-align: right;\">\n",
       "      <th></th>\n",
       "      <th>TOTAL_VALUE</th>\n",
       "      <th>TAX</th>\n",
       "      <th>LOT_SQFT</th>\n",
       "      <th>YR_BUILT</th>\n",
       "      <th>GROSS_AREA</th>\n",
       "      <th>LIVING_AREA</th>\n",
       "      <th>FLOORS</th>\n",
       "      <th>ROOMS</th>\n",
       "      <th>BEDROOMS</th>\n",
       "      <th>FULL_BATH</th>\n",
       "      <th>HALF_BATH</th>\n",
       "      <th>KITCHEN</th>\n",
       "      <th>FIREPLACE</th>\n",
       "      <th>REMODEL</th>\n",
       "    </tr>\n",
       "  </thead>\n",
       "  <tbody>\n",
       "    <tr>\n",
       "      <th>1611</th>\n",
       "      <td>313.4</td>\n",
       "      <td>3942</td>\n",
       "      <td>6036</td>\n",
       "      <td>1945</td>\n",
       "      <td>2244</td>\n",
       "      <td>1028</td>\n",
       "      <td>1.0</td>\n",
       "      <td>5</td>\n",
       "      <td>2</td>\n",
       "      <td>1</td>\n",
       "      <td>0</td>\n",
       "      <td>1</td>\n",
       "      <td>1</td>\n",
       "      <td>Old</td>\n",
       "    </tr>\n",
       "    <tr>\n",
       "      <th>1565</th>\n",
       "      <td>284.9</td>\n",
       "      <td>3584</td>\n",
       "      <td>4144</td>\n",
       "      <td>1960</td>\n",
       "      <td>2368</td>\n",
       "      <td>1306</td>\n",
       "      <td>1.5</td>\n",
       "      <td>6</td>\n",
       "      <td>3</td>\n",
       "      <td>2</td>\n",
       "      <td>0</td>\n",
       "      <td>1</td>\n",
       "      <td>0</td>\n",
       "      <td>NaN</td>\n",
       "    </tr>\n",
       "    <tr>\n",
       "      <th>4603</th>\n",
       "      <td>742.4</td>\n",
       "      <td>9339</td>\n",
       "      <td>12600</td>\n",
       "      <td>1884</td>\n",
       "      <td>6224</td>\n",
       "      <td>3298</td>\n",
       "      <td>2.0</td>\n",
       "      <td>11</td>\n",
       "      <td>7</td>\n",
       "      <td>2</td>\n",
       "      <td>1</td>\n",
       "      <td>1</td>\n",
       "      <td>2</td>\n",
       "      <td>Recent</td>\n",
       "    </tr>\n",
       "    <tr>\n",
       "      <th>4199</th>\n",
       "      <td>701.8</td>\n",
       "      <td>8828</td>\n",
       "      <td>9716</td>\n",
       "      <td>1940</td>\n",
       "      <td>5140</td>\n",
       "      <td>3446</td>\n",
       "      <td>2.0</td>\n",
       "      <td>11</td>\n",
       "      <td>4</td>\n",
       "      <td>2</td>\n",
       "      <td>1</td>\n",
       "      <td>1</td>\n",
       "      <td>2</td>\n",
       "      <td>Recent</td>\n",
       "    </tr>\n",
       "    <tr>\n",
       "      <th>1850</th>\n",
       "      <td>505.6</td>\n",
       "      <td>6360</td>\n",
       "      <td>7205</td>\n",
       "      <td>1954</td>\n",
       "      <td>4996</td>\n",
       "      <td>2375</td>\n",
       "      <td>1.5</td>\n",
       "      <td>11</td>\n",
       "      <td>6</td>\n",
       "      <td>3</td>\n",
       "      <td>0</td>\n",
       "      <td>2</td>\n",
       "      <td>0</td>\n",
       "      <td>NaN</td>\n",
       "    </tr>\n",
       "  </tbody>\n",
       "</table>\n",
       "</div>"
      ],
      "text/plain": [
       "      TOTAL_VALUE   TAX  LOT_SQFT  YR_BUILT  GROSS_AREA  LIVING_AREA  FLOORS  \\\n",
       "1611        313.4  3942      6036      1945        2244         1028     1.0   \n",
       "1565        284.9  3584      4144      1960        2368         1306     1.5   \n",
       "4603        742.4  9339     12600      1884        6224         3298     2.0   \n",
       "4199        701.8  8828      9716      1940        5140         3446     2.0   \n",
       "1850        505.6  6360      7205      1954        4996         2375     1.5   \n",
       "\n",
       "      ROOMS  BEDROOMS  FULL_BATH  HALF_BATH  KITCHEN  FIREPLACE REMODEL  \n",
       "1611      5         2          1          0        1          1     Old  \n",
       "1565      6         3          2          0        1          0     NaN  \n",
       "4603     11         7          2          1        1          2  Recent  \n",
       "4199     11         4          2          1        1          2  Recent  \n",
       "1850     11         6          3          0        2          0     NaN  "
      ]
     },
     "execution_count": 56,
     "metadata": {},
     "output_type": "execute_result"
    }
   ],
   "source": [
    "housing_df.sample(5, weights=weights)"
   ]
  },
  {
   "cell_type": "markdown",
   "id": "6bf4ec10",
   "metadata": {},
   "source": [
    "# Reviewing variables in pandas"
   ]
  },
  {
   "cell_type": "code",
   "execution_count": 57,
   "id": "53f2dd5d",
   "metadata": {},
   "outputs": [
    {
     "data": {
      "text/plain": [
       "Index(['TOTAL_VALUE', 'TAX', 'LOT_SQFT', 'YR_BUILT', 'GROSS_AREA',\n",
       "       'LIVING_AREA', 'FLOORS', 'ROOMS', 'BEDROOMS', 'FULL_BATH', 'HALF_BATH',\n",
       "       'KITCHEN', 'FIREPLACE', 'REMODEL'],\n",
       "      dtype='object')"
      ]
     },
     "execution_count": 57,
     "metadata": {},
     "output_type": "execute_result"
    }
   ],
   "source": [
    "housing_df.columns # print a list of variables"
   ]
  },
  {
   "cell_type": "code",
   "execution_count": 58,
   "id": "ab735f57",
   "metadata": {},
   "outputs": [
    {
     "data": {
      "text/plain": [
       "TOTAL_VALUE    float64\n",
       "TAX              int64\n",
       "LOT_SQFT         int64\n",
       "YR_BUILT         int64\n",
       "GROSS_AREA       int64\n",
       "LIVING_AREA      int64\n",
       "FLOORS         float64\n",
       "ROOMS            int64\n",
       "BEDROOMS         int64\n",
       "FULL_BATH        int64\n",
       "HALF_BATH        int64\n",
       "KITCHEN          int64\n",
       "FIREPLACE        int64\n",
       "REMODEL         object\n",
       "dtype: object"
      ]
     },
     "execution_count": 58,
     "metadata": {},
     "output_type": "execute_result"
    }
   ],
   "source": [
    "housing_df.dtypes #show the type of variables"
   ]
  },
  {
   "cell_type": "code",
   "execution_count": 59,
   "id": "05b2b7f6",
   "metadata": {},
   "outputs": [
    {
     "data": {
      "text/plain": [
       "{'TOTAL_VALUE': dtype('float64'),\n",
       " 'TAX': dtype('int64'),\n",
       " 'LOT_SQFT': dtype('int64'),\n",
       " 'YR_BUILT': dtype('int64'),\n",
       " 'GROSS_AREA': dtype('int64'),\n",
       " 'LIVING_AREA': dtype('int64'),\n",
       " 'FLOORS': dtype('float64'),\n",
       " 'ROOMS': dtype('int64'),\n",
       " 'BEDROOMS': dtype('int64'),\n",
       " 'FULL_BATH': dtype('int64'),\n",
       " 'HALF_BATH': dtype('int64'),\n",
       " 'KITCHEN': dtype('int64'),\n",
       " 'FIREPLACE': dtype('int64'),\n",
       " 'REMODEL': dtype('O')}"
      ]
     },
     "execution_count": 59,
     "metadata": {},
     "output_type": "execute_result"
    }
   ],
   "source": [
    "# Save the data type information as a dictionary object\n",
    "# The first character specifies the kind of data, \n",
    "# and the remaining characters specify the number of bytes per item\n",
    "# 'O'     (Python) objects/Python type string\n",
    "DataTypeDict = dict(housing_df.dtypes) # check column data type\n",
    "\n",
    "DataTypeDict"
   ]
  },
  {
   "cell_type": "code",
   "execution_count": 60,
   "id": "3f4e3f58",
   "metadata": {},
   "outputs": [
    {
     "data": {
      "text/plain": [
       "TOTAL_VALUE    float64\n",
       "TAX              int64\n",
       "LOT_SQFT         int64\n",
       "YR_BUILT         int64\n",
       "GROSS_AREA       int64\n",
       "LIVING_AREA      int64\n",
       "FLOORS         float64\n",
       "ROOMS            int64\n",
       "BEDROOMS         int64\n",
       "FULL_BATH        int64\n",
       "HALF_BATH        int64\n",
       "KITCHEN          int64\n",
       "FIREPLACE        int64\n",
       "REMODEL         object\n",
       "dtype: object"
      ]
     },
     "execution_count": 60,
     "metadata": {},
     "output_type": "execute_result"
    }
   ],
   "source": [
    "housing_df.dtypes"
   ]
  },
  {
   "cell_type": "code",
   "execution_count": 61,
   "id": "7b005a95",
   "metadata": {},
   "outputs": [
    {
     "data": {
      "text/plain": [
       "Index(['Old', 'Recent'], dtype='object')"
      ]
     },
     "execution_count": 61,
     "metadata": {},
     "output_type": "execute_result"
    }
   ],
   "source": [
    "# REMODEL needs to be converted to a categorical variable\n",
    "housing_df.REMODEL = housing_df.REMODEL.astype('category')\n",
    "\n",
    "housing_df.REMODEL.cat.categories # Show categories\n"
   ]
  },
  {
   "cell_type": "code",
   "execution_count": 62,
   "id": "0fd72238",
   "metadata": {},
   "outputs": [
    {
     "data": {
      "text/plain": [
       "CategoricalDtype(categories=['Old', 'Recent'], ordered=False)"
      ]
     },
     "execution_count": 62,
     "metadata": {},
     "output_type": "execute_result"
    }
   ],
   "source": [
    "housing_df.REMODEL.dtype # Check type of converted variable"
   ]
  },
  {
   "cell_type": "markdown",
   "id": "ce3d1b09",
   "metadata": {},
   "source": [
    "# Creating Dummy Variables in pandas"
   ]
  },
  {
   "cell_type": "markdown",
   "id": "cfe106da",
   "metadata": {},
   "source": [
    "## use drop_first=True to drop the first dummy variable"
   ]
  },
  {
   "cell_type": "code",
   "execution_count": 63,
   "id": "7696db70",
   "metadata": {},
   "outputs": [
    {
     "data": {
      "text/plain": [
       "Index(['TOTAL_VALUE', 'TAX', 'LOT_SQFT', 'YR_BUILT', 'GROSS_AREA',\n",
       "       'LIVING_AREA', 'FLOORS', 'ROOMS', 'BEDROOMS', 'FULL_BATH', 'HALF_BATH',\n",
       "       'KITCHEN', 'FIREPLACE', 'REMODEL'],\n",
       "      dtype='object')"
      ]
     },
     "execution_count": 63,
     "metadata": {},
     "output_type": "execute_result"
    }
   ],
   "source": [
    "housing_df.columns"
   ]
  },
  {
   "cell_type": "code",
   "execution_count": 64,
   "id": "6efdc3b8",
   "metadata": {},
   "outputs": [
    {
     "data": {
      "text/plain": [
       "Index(['TOTAL_VALUE', 'TAX', 'LOT_SQFT', 'YR_BUILT', 'GROSS_AREA',\n",
       "       'LIVING_AREA', 'FLOORS', 'ROOMS', 'BEDROOMS', 'FULL_BATH', 'HALF_BATH',\n",
       "       'KITCHEN', 'FIREPLACE', 'REMODEL_Recent'],\n",
       "      dtype='object')"
      ]
     },
     "execution_count": 64,
     "metadata": {},
     "output_type": "execute_result"
    }
   ],
   "source": [
    "housing_df = pd.get_dummies(housing_df, prefix_sep='_', drop_first=True)\n",
    "housing_df.columns\n",
    "# housing_df.loc[:, 'REMODEL_Old':'REMODEL_Recent'].head(5)"
   ]
  },
  {
   "cell_type": "markdown",
   "id": "5ea5a954",
   "metadata": {},
   "source": [
    "# Missing Data"
   ]
  },
  {
   "cell_type": "markdown",
   "id": "1151734e",
   "metadata": {},
   "source": [
    "## To illustrate missing data procedures, we first convert a few entries for bedrooms to NA's. \n",
    "## Then we impute these missing values using the median of the remaining values."
   ]
  },
  {
   "cell_type": "code",
   "execution_count": 67,
   "id": "d8a950a6",
   "metadata": {},
   "outputs": [
    {
     "data": {
      "text/plain": [
       "Index([2243, 3128, 4109, 2444, 623, 2334, 144, 1386, 2847, 3941], dtype='int64')"
      ]
     },
     "execution_count": 67,
     "metadata": {},
     "output_type": "execute_result"
    }
   ],
   "source": [
    "missingRows = housing_df.sample(10).index\n",
    "missingRows"
   ]
  },
  {
   "cell_type": "code",
   "execution_count": 69,
   "id": "ae4e9df4",
   "metadata": {},
   "outputs": [
    {
     "data": {
      "text/plain": [
       "5802"
      ]
     },
     "execution_count": 69,
     "metadata": {},
     "output_type": "execute_result"
    }
   ],
   "source": [
    "housing_df.loc[missingRows, 'BEDROOMS'] = np.nan # not a number indicate missing\n",
    "len(housing_df['BEDROOMS'])"
   ]
  },
  {
   "cell_type": "code",
   "execution_count": 70,
   "id": "8e652383",
   "metadata": {},
   "outputs": [
    {
     "name": "stdout",
     "output_type": "stream",
     "text": [
      "Number of rows with valid BEDROOMS values after setting to NAN:  5792\n"
     ]
    }
   ],
   "source": [
    "print('Number of rows with valid BEDROOMS values after setting to NAN: ', housing_df['BEDROOMS'].count())"
   ]
  },
  {
   "cell_type": "code",
   "execution_count": 71,
   "id": "4a67a40b",
   "metadata": {},
   "outputs": [
    {
     "name": "stdout",
     "output_type": "stream",
     "text": [
      "Number of rows after removing rows with missing values:  5792\n"
     ]
    }
   ],
   "source": [
    "# remove rows with missing values\n",
    "reduced_df = housing_df.dropna()\n",
    "\n",
    "print('Number of rows after removing rows with missing values: ', len(reduced_df))"
   ]
  },
  {
   "cell_type": "markdown",
   "id": "5bbbfcde",
   "metadata": {},
   "source": [
    "## Impute values"
   ]
  },
  {
   "cell_type": "code",
   "execution_count": 72,
   "id": "70bc4ef1",
   "metadata": {},
   "outputs": [
    {
     "data": {
      "text/plain": [
       "3.0"
      ]
     },
     "execution_count": 72,
     "metadata": {},
     "output_type": "execute_result"
    }
   ],
   "source": [
    "# replace the missing values using the median of the remaining values.\n",
    "#calculate median value \n",
    "medianBedrooms = housing_df['BEDROOMS'].median() \n",
    "medianBedrooms"
   ]
  },
  {
   "cell_type": "code",
   "execution_count": 73,
   "id": "77e0a52b",
   "metadata": {},
   "outputs": [
    {
     "name": "stdout",
     "output_type": "stream",
     "text": [
      "Number of rows with valid BEDROOMS values after filling NA values:  5802\n"
     ]
    }
   ],
   "source": [
    "# replace the missing values with the median value\n",
    "housing_df.BEDROOMS = housing_df.BEDROOMS.fillna(value=medianBedrooms) \n",
    "\n",
    "print('Number of rows with valid BEDROOMS values after filling NA values: ', housing_df['BEDROOMS'].count())"
   ]
  },
  {
   "cell_type": "markdown",
   "id": "ea288ae6",
   "metadata": {},
   "source": [
    "# Table 2.8: Normalizing and rescaling data"
   ]
  },
  {
   "cell_type": "code",
   "execution_count": 74,
   "id": "fe5b8a02",
   "metadata": {},
   "outputs": [],
   "source": [
    "from sklearn.preprocessing import MinMaxScaler, StandardScaler\n",
    "\n",
    "# Copy of housing data\n",
    "df = housing_df.copy()"
   ]
  },
  {
   "cell_type": "markdown",
   "id": "f0b67151",
   "metadata": {},
   "source": [
    "## Normalizing a data frame"
   ]
  },
  {
   "cell_type": "markdown",
   "id": "e19d5e23",
   "metadata": {},
   "source": [
    "### pandas:"
   ]
  },
  {
   "cell_type": "code",
   "execution_count": null,
   "id": "a52ad9b2",
   "metadata": {},
   "outputs": [],
   "source": [
    "#housing_df.head() #original values # original values\n",
    "#norm_df = (housing_df - housing_df.mean()) / housing_df.std() #normalized values\n",
    "#norm_df.head() #normalized values"
   ]
  },
  {
   "cell_type": "markdown",
   "id": "d476627c",
   "metadata": {},
   "source": [
    "### scikit-learn:"
   ]
  },
  {
   "cell_type": "code",
   "execution_count": 75,
   "id": "ae70372b",
   "metadata": {},
   "outputs": [
    {
     "data": {
      "text/html": [
       "<div>\n",
       "<style scoped>\n",
       "    .dataframe tbody tr th:only-of-type {\n",
       "        vertical-align: middle;\n",
       "    }\n",
       "\n",
       "    .dataframe tbody tr th {\n",
       "        vertical-align: top;\n",
       "    }\n",
       "\n",
       "    .dataframe thead th {\n",
       "        text-align: right;\n",
       "    }\n",
       "</style>\n",
       "<table border=\"1\" class=\"dataframe\">\n",
       "  <thead>\n",
       "    <tr style=\"text-align: right;\">\n",
       "      <th></th>\n",
       "      <th>TOTAL_VALUE</th>\n",
       "      <th>TAX</th>\n",
       "      <th>LOT_SQFT</th>\n",
       "      <th>YR_BUILT</th>\n",
       "      <th>GROSS_AREA</th>\n",
       "      <th>LIVING_AREA</th>\n",
       "      <th>FLOORS</th>\n",
       "      <th>ROOMS</th>\n",
       "      <th>BEDROOMS</th>\n",
       "      <th>FULL_BATH</th>\n",
       "      <th>HALF_BATH</th>\n",
       "      <th>KITCHEN</th>\n",
       "      <th>FIREPLACE</th>\n",
       "      <th>REMODEL_Recent</th>\n",
       "    </tr>\n",
       "  </thead>\n",
       "  <tbody>\n",
       "    <tr>\n",
       "      <th>0</th>\n",
       "      <td>0.214953</td>\n",
       "      <td>0.215015</td>\n",
       "      <td>0.197472</td>\n",
       "      <td>0.934858</td>\n",
       "      <td>0.220237</td>\n",
       "      <td>0.177220</td>\n",
       "      <td>0.5</td>\n",
       "      <td>0.272727</td>\n",
       "      <td>0.250</td>\n",
       "      <td>0.00</td>\n",
       "      <td>0.333333</td>\n",
       "      <td>0.0</td>\n",
       "      <td>0.00</td>\n",
       "      <td>0.0</td>\n",
       "    </tr>\n",
       "    <tr>\n",
       "      <th>1</th>\n",
       "      <td>0.276420</td>\n",
       "      <td>0.276448</td>\n",
       "      <td>0.123156</td>\n",
       "      <td>0.967181</td>\n",
       "      <td>0.311878</td>\n",
       "      <td>0.307628</td>\n",
       "      <td>0.5</td>\n",
       "      <td>0.636364</td>\n",
       "      <td>0.375</td>\n",
       "      <td>0.25</td>\n",
       "      <td>0.333333</td>\n",
       "      <td>0.0</td>\n",
       "      <td>0.00</td>\n",
       "      <td>1.0</td>\n",
       "    </tr>\n",
       "    <tr>\n",
       "      <th>2</th>\n",
       "      <td>0.202283</td>\n",
       "      <td>0.202300</td>\n",
       "      <td>0.143194</td>\n",
       "      <td>0.939831</td>\n",
       "      <td>0.200873</td>\n",
       "      <td>0.181191</td>\n",
       "      <td>0.5</td>\n",
       "      <td>0.454545</td>\n",
       "      <td>0.375</td>\n",
       "      <td>0.00</td>\n",
       "      <td>0.333333</td>\n",
       "      <td>0.0</td>\n",
       "      <td>0.00</td>\n",
       "      <td>0.0</td>\n",
       "    </tr>\n",
       "    <tr>\n",
       "      <th>3</th>\n",
       "      <td>0.353702</td>\n",
       "      <td>0.353740</td>\n",
       "      <td>0.281323</td>\n",
       "      <td>0.973148</td>\n",
       "      <td>0.574253</td>\n",
       "      <td>0.439707</td>\n",
       "      <td>0.0</td>\n",
       "      <td>0.545455</td>\n",
       "      <td>0.500</td>\n",
       "      <td>0.00</td>\n",
       "      <td>0.333333</td>\n",
       "      <td>0.0</td>\n",
       "      <td>0.25</td>\n",
       "      <td>0.0</td>\n",
       "    </tr>\n",
       "    <tr>\n",
       "      <th>4</th>\n",
       "      <td>0.203541</td>\n",
       "      <td>0.203586</td>\n",
       "      <td>0.088145</td>\n",
       "      <td>0.949776</td>\n",
       "      <td>0.211237</td>\n",
       "      <td>0.195193</td>\n",
       "      <td>0.5</td>\n",
       "      <td>0.363636</td>\n",
       "      <td>0.250</td>\n",
       "      <td>0.25</td>\n",
       "      <td>0.000000</td>\n",
       "      <td>0.0</td>\n",
       "      <td>0.00</td>\n",
       "      <td>0.0</td>\n",
       "    </tr>\n",
       "  </tbody>\n",
       "</table>\n",
       "</div>"
      ],
      "text/plain": [
       "   TOTAL_VALUE       TAX  LOT_SQFT  YR_BUILT  GROSS_AREA  LIVING_AREA  FLOORS  \\\n",
       "0     0.214953  0.215015  0.197472  0.934858    0.220237     0.177220     0.5   \n",
       "1     0.276420  0.276448  0.123156  0.967181    0.311878     0.307628     0.5   \n",
       "2     0.202283  0.202300  0.143194  0.939831    0.200873     0.181191     0.5   \n",
       "3     0.353702  0.353740  0.281323  0.973148    0.574253     0.439707     0.0   \n",
       "4     0.203541  0.203586  0.088145  0.949776    0.211237     0.195193     0.5   \n",
       "\n",
       "      ROOMS  BEDROOMS  FULL_BATH  HALF_BATH  KITCHEN  FIREPLACE  \\\n",
       "0  0.272727     0.250       0.00   0.333333      0.0       0.00   \n",
       "1  0.636364     0.375       0.25   0.333333      0.0       0.00   \n",
       "2  0.454545     0.375       0.00   0.333333      0.0       0.00   \n",
       "3  0.545455     0.500       0.00   0.333333      0.0       0.25   \n",
       "4  0.363636     0.250       0.25   0.000000      0.0       0.00   \n",
       "\n",
       "   REMODEL_Recent  \n",
       "0             0.0  \n",
       "1             1.0  \n",
       "2             0.0  \n",
       "3             0.0  \n",
       "4             0.0  "
      ]
     },
     "execution_count": 75,
     "metadata": {},
     "output_type": "execute_result"
    }
   ],
   "source": [
    "scaler = MinMaxScaler()\n",
    "\n",
    "norm_df = pd.DataFrame(scaler.fit_transform(housing_df), \n",
    "                       index=housing_df.index, \n",
    "                       columns=housing_df.columns)\n",
    "\n",
    "norm_df.head()"
   ]
  },
  {
   "cell_type": "markdown",
   "id": "32ca62ff",
   "metadata": {},
   "source": [
    "# Data Partitioning in Python"
   ]
  },
  {
   "cell_type": "code",
   "execution_count": 76,
   "id": "4ce3e7c3",
   "metadata": {},
   "outputs": [
    {
     "name": "stdout",
     "output_type": "stream",
     "text": [
      "Training :  (3481, 14)\n",
      "Validation :  (2321, 14)\n"
     ]
    }
   ],
   "source": [
    "# random_state is set to a defined value to get the same partitions when re-running\n",
    "# Pass an int for reproducible output across multiple function calls\n",
    "# training 60% and validation 40%\n",
    "trainData, validData = train_test_split(housing_df, \n",
    "                                        test_size=0.40, \n",
    "                                        random_state=1)\n",
    "print('Training : ', trainData.shape)\n",
    "print('Validation : ', validData.shape)"
   ]
  },
  {
   "cell_type": "code",
   "execution_count": null,
   "id": "334d380d",
   "metadata": {},
   "outputs": [],
   "source": []
  },
  {
   "cell_type": "code",
   "execution_count": null,
   "id": "a0d90b9c",
   "metadata": {},
   "outputs": [],
   "source": []
  }
 ],
 "metadata": {
  "kernelspec": {
   "display_name": "Python 3 (ipykernel)",
   "language": "python",
   "name": "python3"
  },
  "language_info": {
   "codemirror_mode": {
    "name": "ipython",
    "version": 3
   },
   "file_extension": ".py",
   "mimetype": "text/x-python",
   "name": "python",
   "nbconvert_exporter": "python",
   "pygments_lexer": "ipython3",
   "version": "3.11.5"
  }
 },
 "nbformat": 4,
 "nbformat_minor": 5
}
