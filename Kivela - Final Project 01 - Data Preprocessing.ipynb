{
 "cells": [
  {
   "cell_type": "markdown",
   "id": "e0cd3368",
   "metadata": {},
   "source": [
    "John Ryan Kivela, MA\n",
    "\n",
    "UMass Boston\n",
    "\n",
    "College of Management\n",
    "\n",
    "MSIS - 672 Final Project\n",
    "\n",
    "Data Preprocessing\n",
    "\n",
    "4/20/24"
   ]
  },
  {
   "cell_type": "code",
   "execution_count": 1,
   "id": "a6ecc516",
   "metadata": {},
   "outputs": [],
   "source": [
    "# Import Libraries\n",
    "import pandas as pd\n",
    "import numpy as np\n",
    "import matplotlib.pyplot as plt\n",
    "import seaborn as sns\n",
    "\n",
    "\n",
    "from sklearn.model_selection import train_test_split, cross_val_score, GridSearchCV\n",
    "from sklearn.tree import DecisionTreeClassifier, plot_tree\n",
    "from sklearn.metrics import accuracy_score, classification_report, confusion_matrix, roc_auc_score\n",
    "from sklearn.impute import SimpleImputer"
   ]
  },
  {
   "cell_type": "code",
   "execution_count": 2,
   "id": "f77bfbce",
   "metadata": {},
   "outputs": [],
   "source": [
    "## Load data\n",
    "df = pd.read_csv('output_file.csv')"
   ]
  },
  {
   "cell_type": "code",
   "execution_count": 3,
   "id": "5698ec28",
   "metadata": {},
   "outputs": [
    {
     "data": {
      "text/html": [
       "<div>\n",
       "<style scoped>\n",
       "    .dataframe tbody tr th:only-of-type {\n",
       "        vertical-align: middle;\n",
       "    }\n",
       "\n",
       "    .dataframe tbody tr th {\n",
       "        vertical-align: top;\n",
       "    }\n",
       "\n",
       "    .dataframe thead th {\n",
       "        text-align: right;\n",
       "    }\n",
       "</style>\n",
       "<table border=\"1\" class=\"dataframe\">\n",
       "  <thead>\n",
       "    <tr style=\"text-align: right;\">\n",
       "      <th></th>\n",
       "      <th>ID</th>\n",
       "      <th>Customer_ID</th>\n",
       "      <th>Month</th>\n",
       "      <th>Age</th>\n",
       "      <th>Occupation</th>\n",
       "      <th>Annual_Income</th>\n",
       "      <th>Monthly_Inhand_Salary</th>\n",
       "      <th>Num_Bank_Accounts</th>\n",
       "      <th>Num_Credit_Card</th>\n",
       "      <th>Interest_Rate</th>\n",
       "      <th>...</th>\n",
       "      <th>Num_Credit_Inquiries</th>\n",
       "      <th>Credit_Mix</th>\n",
       "      <th>Outstanding_Debt</th>\n",
       "      <th>Credit_Utilization_Ratio</th>\n",
       "      <th>Credit_History_Age</th>\n",
       "      <th>Payment_of_Min_Amount</th>\n",
       "      <th>Total_EMI_per_month</th>\n",
       "      <th>Amount_invested_monthly</th>\n",
       "      <th>Payment_Behaviour</th>\n",
       "      <th>Monthly_Balance</th>\n",
       "    </tr>\n",
       "  </thead>\n",
       "  <tbody>\n",
       "    <tr>\n",
       "      <th>0</th>\n",
       "      <td>0x160a</td>\n",
       "      <td>CUS_0xd40</td>\n",
       "      <td>September</td>\n",
       "      <td>23</td>\n",
       "      <td>Scientist</td>\n",
       "      <td>19114.12</td>\n",
       "      <td>1824.843333</td>\n",
       "      <td>3</td>\n",
       "      <td>4</td>\n",
       "      <td>3</td>\n",
       "      <td>...</td>\n",
       "      <td>2022.0</td>\n",
       "      <td>Good</td>\n",
       "      <td>809.98</td>\n",
       "      <td>35.030402</td>\n",
       "      <td>22 Years and 9 Months</td>\n",
       "      <td>No</td>\n",
       "      <td>49.574949</td>\n",
       "      <td>236.642682</td>\n",
       "      <td>Low_spent_Small_value_payments</td>\n",
       "      <td>186.2667021</td>\n",
       "    </tr>\n",
       "    <tr>\n",
       "      <th>1</th>\n",
       "      <td>0x160b</td>\n",
       "      <td>CUS_0xd40</td>\n",
       "      <td>October</td>\n",
       "      <td>24</td>\n",
       "      <td>Scientist</td>\n",
       "      <td>19114.12</td>\n",
       "      <td>1824.843333</td>\n",
       "      <td>3</td>\n",
       "      <td>4</td>\n",
       "      <td>3</td>\n",
       "      <td>...</td>\n",
       "      <td>4.0</td>\n",
       "      <td>Good</td>\n",
       "      <td>809.98</td>\n",
       "      <td>33.053114</td>\n",
       "      <td>22 Years and 10 Months</td>\n",
       "      <td>No</td>\n",
       "      <td>49.574949</td>\n",
       "      <td>21.465380</td>\n",
       "      <td>High_spent_Medium_value_payments</td>\n",
       "      <td>361.4440039</td>\n",
       "    </tr>\n",
       "    <tr>\n",
       "      <th>2</th>\n",
       "      <td>0x160c</td>\n",
       "      <td>CUS_0xd40</td>\n",
       "      <td>November</td>\n",
       "      <td>24</td>\n",
       "      <td>Scientist</td>\n",
       "      <td>19114.12</td>\n",
       "      <td>1824.843333</td>\n",
       "      <td>3</td>\n",
       "      <td>4</td>\n",
       "      <td>3</td>\n",
       "      <td>...</td>\n",
       "      <td>4.0</td>\n",
       "      <td>Good</td>\n",
       "      <td>809.98</td>\n",
       "      <td>33.811894</td>\n",
       "      <td>NaN</td>\n",
       "      <td>No</td>\n",
       "      <td>49.574949</td>\n",
       "      <td>148.233938</td>\n",
       "      <td>Low_spent_Medium_value_payments</td>\n",
       "      <td>264.6754462</td>\n",
       "    </tr>\n",
       "    <tr>\n",
       "      <th>3</th>\n",
       "      <td>0x160d</td>\n",
       "      <td>CUS_0xd40</td>\n",
       "      <td>December</td>\n",
       "      <td>24</td>\n",
       "      <td>Scientist</td>\n",
       "      <td>19114.12</td>\n",
       "      <td>NaN</td>\n",
       "      <td>3</td>\n",
       "      <td>4</td>\n",
       "      <td>3</td>\n",
       "      <td>...</td>\n",
       "      <td>4.0</td>\n",
       "      <td>Good</td>\n",
       "      <td>809.98</td>\n",
       "      <td>32.430559</td>\n",
       "      <td>23 Years and 0 Months</td>\n",
       "      <td>No</td>\n",
       "      <td>49.574949</td>\n",
       "      <td>39.082511</td>\n",
       "      <td>High_spent_Medium_value_payments</td>\n",
       "      <td>343.8268732</td>\n",
       "    </tr>\n",
       "    <tr>\n",
       "      <th>4</th>\n",
       "      <td>0x1616</td>\n",
       "      <td>CUS_0x21b1</td>\n",
       "      <td>September</td>\n",
       "      <td>28</td>\n",
       "      <td>NaN</td>\n",
       "      <td>34847.84</td>\n",
       "      <td>3037.986667</td>\n",
       "      <td>2</td>\n",
       "      <td>4</td>\n",
       "      <td>6</td>\n",
       "      <td>...</td>\n",
       "      <td>5.0</td>\n",
       "      <td>Good</td>\n",
       "      <td>605.03</td>\n",
       "      <td>25.926822</td>\n",
       "      <td>27 Years and 3 Months</td>\n",
       "      <td>No</td>\n",
       "      <td>18.816215</td>\n",
       "      <td>39.684018</td>\n",
       "      <td>High_spent_Large_value_payments</td>\n",
       "      <td>485.2984337</td>\n",
       "    </tr>\n",
       "  </tbody>\n",
       "</table>\n",
       "<p>5 rows × 25 columns</p>\n",
       "</div>"
      ],
      "text/plain": [
       "       ID Customer_ID      Month  Age Occupation  Annual_Income  \\\n",
       "0  0x160a   CUS_0xd40  September   23  Scientist       19114.12   \n",
       "1  0x160b   CUS_0xd40    October   24  Scientist       19114.12   \n",
       "2  0x160c   CUS_0xd40   November   24  Scientist       19114.12   \n",
       "3  0x160d   CUS_0xd40   December   24  Scientist       19114.12   \n",
       "4  0x1616  CUS_0x21b1  September   28        NaN       34847.84   \n",
       "\n",
       "   Monthly_Inhand_Salary  Num_Bank_Accounts  Num_Credit_Card  Interest_Rate  \\\n",
       "0            1824.843333                  3                4              3   \n",
       "1            1824.843333                  3                4              3   \n",
       "2            1824.843333                  3                4              3   \n",
       "3                    NaN                  3                4              3   \n",
       "4            3037.986667                  2                4              6   \n",
       "\n",
       "   ...  Num_Credit_Inquiries Credit_Mix  Outstanding_Debt  \\\n",
       "0  ...                2022.0       Good            809.98   \n",
       "1  ...                   4.0       Good            809.98   \n",
       "2  ...                   4.0       Good            809.98   \n",
       "3  ...                   4.0       Good            809.98   \n",
       "4  ...                   5.0       Good            605.03   \n",
       "\n",
       "   Credit_Utilization_Ratio      Credit_History_Age  Payment_of_Min_Amount  \\\n",
       "0                 35.030402   22 Years and 9 Months                     No   \n",
       "1                 33.053114  22 Years and 10 Months                     No   \n",
       "2                 33.811894                     NaN                     No   \n",
       "3                 32.430559   23 Years and 0 Months                     No   \n",
       "4                 25.926822   27 Years and 3 Months                     No   \n",
       "\n",
       "  Total_EMI_per_month  Amount_invested_monthly  \\\n",
       "0           49.574949               236.642682   \n",
       "1           49.574949                21.465380   \n",
       "2           49.574949               148.233938   \n",
       "3           49.574949                39.082511   \n",
       "4           18.816215                39.684018   \n",
       "\n",
       "                  Payment_Behaviour Monthly_Balance  \n",
       "0    Low_spent_Small_value_payments     186.2667021  \n",
       "1  High_spent_Medium_value_payments     361.4440039  \n",
       "2   Low_spent_Medium_value_payments     264.6754462  \n",
       "3  High_spent_Medium_value_payments     343.8268732  \n",
       "4   High_spent_Large_value_payments     485.2984337  \n",
       "\n",
       "[5 rows x 25 columns]"
      ]
     },
     "execution_count": 3,
     "metadata": {},
     "output_type": "execute_result"
    }
   ],
   "source": [
    "df.head()"
   ]
  },
  {
   "cell_type": "code",
   "execution_count": 4,
   "id": "acc0fff0",
   "metadata": {},
   "outputs": [
    {
     "data": {
      "text/plain": [
       "(40195, 25)"
      ]
     },
     "execution_count": 4,
     "metadata": {},
     "output_type": "execute_result"
    }
   ],
   "source": [
    "df.shape"
   ]
  },
  {
   "cell_type": "code",
   "execution_count": 5,
   "id": "2fb195ee",
   "metadata": {},
   "outputs": [
    {
     "data": {
      "text/plain": [
       "Index(['ID', 'Customer_ID', 'Month', 'Age', 'Occupation', 'Annual_Income',\n",
       "       'Monthly_Inhand_Salary', 'Num_Bank_Accounts', 'Num_Credit_Card',\n",
       "       'Interest_Rate', 'Num_of_Loan', 'Type_of_Loan', 'Delay_from_due_date',\n",
       "       'Num_of_Delayed_Payment', 'Changed_Credit_Limit',\n",
       "       'Num_Credit_Inquiries', 'Credit_Mix', 'Outstanding_Debt',\n",
       "       'Credit_Utilization_Ratio', 'Credit_History_Age',\n",
       "       'Payment_of_Min_Amount', 'Total_EMI_per_month',\n",
       "       'Amount_invested_monthly', 'Payment_Behaviour', 'Monthly_Balance'],\n",
       "      dtype='object')"
      ]
     },
     "execution_count": 5,
     "metadata": {},
     "output_type": "execute_result"
    }
   ],
   "source": [
    "df.columns"
   ]
  },
  {
   "cell_type": "code",
   "execution_count": 6,
   "id": "25441690",
   "metadata": {},
   "outputs": [
    {
     "data": {
      "text/plain": [
       "ID                           object\n",
       "Customer_ID                  object\n",
       "Month                        object\n",
       "Age                           int64\n",
       "Occupation                   object\n",
       "Annual_Income               float64\n",
       "Monthly_Inhand_Salary       float64\n",
       "Num_Bank_Accounts             int64\n",
       "Num_Credit_Card               int64\n",
       "Interest_Rate                 int64\n",
       "Num_of_Loan                   int64\n",
       "Type_of_Loan                 object\n",
       "Delay_from_due_date           int64\n",
       "Num_of_Delayed_Payment      float64\n",
       "Changed_Credit_Limit        float64\n",
       "Num_Credit_Inquiries        float64\n",
       "Credit_Mix                   object\n",
       "Outstanding_Debt            float64\n",
       "Credit_Utilization_Ratio    float64\n",
       "Credit_History_Age           object\n",
       "Payment_of_Min_Amount        object\n",
       "Total_EMI_per_month         float64\n",
       "Amount_invested_monthly     float64\n",
       "Payment_Behaviour            object\n",
       "Monthly_Balance              object\n",
       "dtype: object"
      ]
     },
     "execution_count": 6,
     "metadata": {},
     "output_type": "execute_result"
    }
   ],
   "source": [
    "df.dtypes"
   ]
  },
  {
   "cell_type": "code",
   "execution_count": 7,
   "id": "f0660692",
   "metadata": {},
   "outputs": [],
   "source": [
    "# Wrangle Data"
   ]
  },
  {
   "cell_type": "code",
   "execution_count": 8,
   "id": "9b86a5e5",
   "metadata": {},
   "outputs": [],
   "source": [
    "## Columns to drop later\n",
    "columns_to_drop = ['ID',\n",
    "                   'Customer_ID',\n",
    "                   'Occupation',\n",
    "                   'Credit_History_Age',\n",
    "                   'Type_of_Loan',\n",
    "                   'Month',\n",
    "                   'Age',\n",
    "                   'Payment_Behaviour'] # This was hard to let go, but I think it could be useful in a future assessment."
   ]
  },
  {
   "cell_type": "code",
   "execution_count": 9,
   "id": "bc78d33c",
   "metadata": {},
   "outputs": [],
   "source": [
    "## Convert 'Monthly_Balance' column to float, handle errors by coercing to NaN\n",
    "df['Monthly_Balance'] = pd.to_numeric(df['Monthly_Balance'], errors='coerce')\n",
    "\n",
    "## Convert Num of delayed payments to Int64\n",
    "df[\"Num_of_Delayed_Payment\"] = df[\"Num_of_Delayed_Payment\"].astype('Int64')\n",
    "\n",
    "# Convert Payment of min amount to boolean\n",
    "df[\"Payment_of_Min_Amount\"] = df[\"Payment_of_Min_Amount\"].map({'Yes': True, 'No': False})"
   ]
  },
  {
   "cell_type": "code",
   "execution_count": 10,
   "id": "d9d4a38a",
   "metadata": {},
   "outputs": [],
   "source": [
    "# Drop those Columns from above like they're hot\n",
    "df = df.drop(columns = columns_to_drop)"
   ]
  },
  {
   "cell_type": "code",
   "execution_count": 11,
   "id": "222b9168",
   "metadata": {},
   "outputs": [
    {
     "name": "stdout",
     "output_type": "stream",
     "text": [
      "Columns with NaN values: ['Monthly_Inhand_Salary', 'Num_of_Delayed_Payment', 'Changed_Credit_Limit', 'Num_Credit_Inquiries', 'Payment_of_Min_Amount', 'Amount_invested_monthly', 'Monthly_Balance']\n"
     ]
    }
   ],
   "source": [
    "# Deal with NA values\n",
    "## Identify Variable with NaN values\n",
    "def find_columns_with_nan(df):\n",
    "    columns_with_nan = [col for col in df.columns if df[col].isna().any()]\n",
    "    return columns_with_nan\n",
    "\n",
    "### Identify Variable with NaN values\n",
    "columns_with_nan = find_columns_with_nan(df)\n",
    "print(\"Columns with NaN values:\", columns_with_nan)"
   ]
  },
  {
   "cell_type": "code",
   "execution_count": 12,
   "id": "c36070a9",
   "metadata": {},
   "outputs": [],
   "source": [
    "# Impute values for NA with numbers\n",
    "## Columns to impute\n",
    "columns_to_impute = ['Monthly_Inhand_Salary',\n",
    "                     'Num_of_Delayed_Payment',\n",
    "                     'Changed_Credit_Limit',\n",
    "                     'Num_Credit_Inquiries',\n",
    "                     'Amount_invested_monthly',\n",
    "                     'Monthly_Balance'\n",
    "                     ]\n",
    "\n",
    "## make a function\n",
    "def impute_selected_columns(df, columns_to_impute):\n",
    "    # Use SimpleImputer with strategy='mean'\n",
    "    imputer = SimpleImputer(strategy='mean')\n",
    "    \n",
    "    # Select columns to impute\n",
    "    df_to_impute = df[columns_to_impute]\n",
    "    \n",
    "    # Impute NaN values in selected columns\n",
    "    df_imputed = pd.DataFrame(imputer.fit_transform(df_to_impute), \n",
    "                              columns = columns_to_impute)\n",
    "    \n",
    "    # Update original DataFrame with imputed values\n",
    "    df[columns_to_impute] = df_imputed\n",
    "    \n",
    "    # return the data frame\n",
    "    return df \n",
    "\n",
    "## Impute missing values for selected columns\n",
    "df = impute_selected_columns(df, \n",
    "                             columns_to_impute)"
   ]
  },
  {
   "cell_type": "code",
   "execution_count": 13,
   "id": "d7ece9de",
   "metadata": {},
   "outputs": [],
   "source": [
    "## Categorical variable wrangling\n",
    "\n",
    "### Replace NaN values in 'Payment_of_Min_Amount' with 'unknown'\n",
    "df['Payment_of_Min_Amount'] = df['Payment_of_Min_Amount'].fillna(\"Unknown\")"
   ]
  },
  {
   "cell_type": "code",
   "execution_count": 14,
   "id": "1702a836",
   "metadata": {},
   "outputs": [
    {
     "name": "stdout",
     "output_type": "stream",
     "text": [
      "Columns with NaN values: []\n"
     ]
    }
   ],
   "source": [
    "# Check for NA\n",
    "columns_with_nan = find_columns_with_nan(df)\n",
    "print(\"Columns with NaN values:\", columns_with_nan)"
   ]
  },
  {
   "cell_type": "code",
   "execution_count": 15,
   "id": "c59fca23",
   "metadata": {},
   "outputs": [],
   "source": [
    "# Covert to Int64\n",
    "df['Num_of_Delayed_Payment'] = df['Num_of_Delayed_Payment'].astype('int64')\n",
    "\n",
    "# Covert to Int64\n",
    "df['Num_Credit_Inquiries'] = df['Num_Credit_Inquiries'].astype('int64')"
   ]
  },
  {
   "cell_type": "code",
   "execution_count": 16,
   "id": "53d5f7c6",
   "metadata": {},
   "outputs": [],
   "source": [
    "## One-hot encoding\n",
    "### List of variables to encode\n",
    "variables_to_encode = ['Payment_of_Min_Amount']\n",
    "\n",
    "### Perform one-hot encoding for the variables in variables_to_encode\n",
    "df_hot = pd.get_dummies(df, columns=variables_to_encode)"
   ]
  },
  {
   "cell_type": "code",
   "execution_count": 17,
   "id": "8b585ba7",
   "metadata": {},
   "outputs": [
    {
     "data": {
      "text/plain": [
       "Annual_Income                    float64\n",
       "Monthly_Inhand_Salary            float64\n",
       "Num_Bank_Accounts                  int64\n",
       "Num_Credit_Card                    int64\n",
       "Interest_Rate                      int64\n",
       "Num_of_Loan                        int64\n",
       "Delay_from_due_date                int64\n",
       "Num_of_Delayed_Payment             int64\n",
       "Changed_Credit_Limit             float64\n",
       "Num_Credit_Inquiries               int64\n",
       "Credit_Mix                        object\n",
       "Outstanding_Debt                 float64\n",
       "Credit_Utilization_Ratio         float64\n",
       "Total_EMI_per_month              float64\n",
       "Amount_invested_monthly          float64\n",
       "Monthly_Balance                  float64\n",
       "Payment_of_Min_Amount_False         bool\n",
       "Payment_of_Min_Amount_True          bool\n",
       "Payment_of_Min_Amount_Unknown       bool\n",
       "dtype: object"
      ]
     },
     "execution_count": 17,
     "metadata": {},
     "output_type": "execute_result"
    }
   ],
   "source": [
    "df_hot.dtypes"
   ]
  },
  {
   "cell_type": "code",
   "execution_count": 18,
   "id": "6feb22da",
   "metadata": {},
   "outputs": [],
   "source": [
    "# Write DataFrame to CSV file\n",
    "df_hot.to_csv('Kivela - Final Exam PreProcessed.csv', \n",
    "              index=False)"
   ]
  }
 ],
 "metadata": {
  "kernelspec": {
   "display_name": "Python 3 (ipykernel)",
   "language": "python",
   "name": "python3"
  },
  "language_info": {
   "codemirror_mode": {
    "name": "ipython",
    "version": 3
   },
   "file_extension": ".py",
   "mimetype": "text/x-python",
   "name": "python",
   "nbconvert_exporter": "python",
   "pygments_lexer": "ipython3",
   "version": "3.11.5"
  }
 },
 "nbformat": 4,
 "nbformat_minor": 5
}
