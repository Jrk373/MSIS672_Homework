{
 "cells": [
  {
   "cell_type": "code",
   "execution_count": 3,
   "id": "d689cc6e",
   "metadata": {},
   "outputs": [],
   "source": [
    "import pandas as pd\n",
    "from sklearn.model_selection import train_test_split\n",
    "from sklearn.linear_model import LinearRegression #, Lasso, Ridge, LassoCV,BayesianRidge\n",
    "import statsmodels.formula.api as sm\n",
    "#import matplotlib.pylab as plt\n",
    "\n",
    "## you need to install dmba library.if you get error message about dmba, \n",
    "##please see week 1 \"Getting Started with Python\" file, \n",
    "##Installing dmba in Anaconda Prompt, pip install dmba  \n",
    "\n",
    "from dmba import regressionSummary#, exhaustive_search\n",
    "from dmba import backward_elimination, forward_selection, stepwise_selection\n",
    "from dmba import AIC_score #, BIC_score, adjusted_r2_score\n"
   ]
  },
  {
   "cell_type": "markdown",
   "id": "83ddf2de",
   "metadata": {},
   "source": [
    "#Table 6.3: Linear regression model of price vs. car attributes"
   ]
  },
  {
   "cell_type": "code",
   "execution_count": 5,
   "id": "da7f427f",
   "metadata": {},
   "outputs": [
    {
     "data": {
      "text/html": [
       "<div>\n",
       "<style scoped>\n",
       "    .dataframe tbody tr th:only-of-type {\n",
       "        vertical-align: middle;\n",
       "    }\n",
       "\n",
       "    .dataframe tbody tr th {\n",
       "        vertical-align: top;\n",
       "    }\n",
       "\n",
       "    .dataframe thead th {\n",
       "        text-align: right;\n",
       "    }\n",
       "</style>\n",
       "<table border=\"1\" class=\"dataframe\">\n",
       "  <thead>\n",
       "    <tr style=\"text-align: right;\">\n",
       "      <th></th>\n",
       "      <th>Id</th>\n",
       "      <th>Model</th>\n",
       "      <th>Price</th>\n",
       "      <th>Age_08_04</th>\n",
       "      <th>Mfg_Month</th>\n",
       "      <th>Mfg_Year</th>\n",
       "      <th>KM</th>\n",
       "      <th>Fuel_Type</th>\n",
       "      <th>HP</th>\n",
       "      <th>Met_Color</th>\n",
       "      <th>...</th>\n",
       "      <th>Powered_Windows</th>\n",
       "      <th>Power_Steering</th>\n",
       "      <th>Radio</th>\n",
       "      <th>Mistlamps</th>\n",
       "      <th>Sport_Model</th>\n",
       "      <th>Backseat_Divider</th>\n",
       "      <th>Metallic_Rim</th>\n",
       "      <th>Radio_cassette</th>\n",
       "      <th>Parking_Assistant</th>\n",
       "      <th>Tow_Bar</th>\n",
       "    </tr>\n",
       "  </thead>\n",
       "  <tbody>\n",
       "    <tr>\n",
       "      <th>0</th>\n",
       "      <td>1</td>\n",
       "      <td>TOYOTA Corolla 2.0 D4D HATCHB TERRA 2/3-Doors</td>\n",
       "      <td>13500</td>\n",
       "      <td>23</td>\n",
       "      <td>10</td>\n",
       "      <td>2002</td>\n",
       "      <td>46986</td>\n",
       "      <td>Diesel</td>\n",
       "      <td>90</td>\n",
       "      <td>1</td>\n",
       "      <td>...</td>\n",
       "      <td>1</td>\n",
       "      <td>1</td>\n",
       "      <td>0</td>\n",
       "      <td>0</td>\n",
       "      <td>0</td>\n",
       "      <td>1</td>\n",
       "      <td>0</td>\n",
       "      <td>0</td>\n",
       "      <td>0</td>\n",
       "      <td>0</td>\n",
       "    </tr>\n",
       "    <tr>\n",
       "      <th>1</th>\n",
       "      <td>2</td>\n",
       "      <td>TOYOTA Corolla 2.0 D4D HATCHB TERRA 2/3-Doors</td>\n",
       "      <td>13750</td>\n",
       "      <td>23</td>\n",
       "      <td>10</td>\n",
       "      <td>2002</td>\n",
       "      <td>72937</td>\n",
       "      <td>Diesel</td>\n",
       "      <td>90</td>\n",
       "      <td>1</td>\n",
       "      <td>...</td>\n",
       "      <td>0</td>\n",
       "      <td>1</td>\n",
       "      <td>0</td>\n",
       "      <td>0</td>\n",
       "      <td>0</td>\n",
       "      <td>1</td>\n",
       "      <td>0</td>\n",
       "      <td>0</td>\n",
       "      <td>0</td>\n",
       "      <td>0</td>\n",
       "    </tr>\n",
       "    <tr>\n",
       "      <th>2</th>\n",
       "      <td>3</td>\n",
       "      <td>TOYOTA Corolla 2.0 D4D HATCHB TERRA 2/3-Doors</td>\n",
       "      <td>13950</td>\n",
       "      <td>24</td>\n",
       "      <td>9</td>\n",
       "      <td>2002</td>\n",
       "      <td>41711</td>\n",
       "      <td>Diesel</td>\n",
       "      <td>90</td>\n",
       "      <td>1</td>\n",
       "      <td>...</td>\n",
       "      <td>0</td>\n",
       "      <td>1</td>\n",
       "      <td>0</td>\n",
       "      <td>0</td>\n",
       "      <td>0</td>\n",
       "      <td>1</td>\n",
       "      <td>0</td>\n",
       "      <td>0</td>\n",
       "      <td>0</td>\n",
       "      <td>0</td>\n",
       "    </tr>\n",
       "    <tr>\n",
       "      <th>3</th>\n",
       "      <td>4</td>\n",
       "      <td>TOYOTA Corolla 2.0 D4D HATCHB TERRA 2/3-Doors</td>\n",
       "      <td>14950</td>\n",
       "      <td>26</td>\n",
       "      <td>7</td>\n",
       "      <td>2002</td>\n",
       "      <td>48000</td>\n",
       "      <td>Diesel</td>\n",
       "      <td>90</td>\n",
       "      <td>0</td>\n",
       "      <td>...</td>\n",
       "      <td>0</td>\n",
       "      <td>1</td>\n",
       "      <td>0</td>\n",
       "      <td>0</td>\n",
       "      <td>0</td>\n",
       "      <td>1</td>\n",
       "      <td>0</td>\n",
       "      <td>0</td>\n",
       "      <td>0</td>\n",
       "      <td>0</td>\n",
       "    </tr>\n",
       "    <tr>\n",
       "      <th>4</th>\n",
       "      <td>5</td>\n",
       "      <td>TOYOTA Corolla 2.0 D4D HATCHB SOL 2/3-Doors</td>\n",
       "      <td>13750</td>\n",
       "      <td>30</td>\n",
       "      <td>3</td>\n",
       "      <td>2002</td>\n",
       "      <td>38500</td>\n",
       "      <td>Diesel</td>\n",
       "      <td>90</td>\n",
       "      <td>0</td>\n",
       "      <td>...</td>\n",
       "      <td>1</td>\n",
       "      <td>1</td>\n",
       "      <td>0</td>\n",
       "      <td>1</td>\n",
       "      <td>0</td>\n",
       "      <td>1</td>\n",
       "      <td>0</td>\n",
       "      <td>0</td>\n",
       "      <td>0</td>\n",
       "      <td>0</td>\n",
       "    </tr>\n",
       "  </tbody>\n",
       "</table>\n",
       "<p>5 rows × 39 columns</p>\n",
       "</div>"
      ],
      "text/plain": [
       "   Id                                          Model  Price  Age_08_04  \\\n",
       "0   1  TOYOTA Corolla 2.0 D4D HATCHB TERRA 2/3-Doors  13500         23   \n",
       "1   2  TOYOTA Corolla 2.0 D4D HATCHB TERRA 2/3-Doors  13750         23   \n",
       "2   3  TOYOTA Corolla 2.0 D4D HATCHB TERRA 2/3-Doors  13950         24   \n",
       "3   4  TOYOTA Corolla 2.0 D4D HATCHB TERRA 2/3-Doors  14950         26   \n",
       "4   5    TOYOTA Corolla 2.0 D4D HATCHB SOL 2/3-Doors  13750         30   \n",
       "\n",
       "   Mfg_Month  Mfg_Year     KM Fuel_Type  HP  Met_Color  ... Powered_Windows  \\\n",
       "0         10      2002  46986    Diesel  90          1  ...               1   \n",
       "1         10      2002  72937    Diesel  90          1  ...               0   \n",
       "2          9      2002  41711    Diesel  90          1  ...               0   \n",
       "3          7      2002  48000    Diesel  90          0  ...               0   \n",
       "4          3      2002  38500    Diesel  90          0  ...               1   \n",
       "\n",
       "   Power_Steering  Radio  Mistlamps  Sport_Model  Backseat_Divider  \\\n",
       "0               1      0          0            0                 1   \n",
       "1               1      0          0            0                 1   \n",
       "2               1      0          0            0                 1   \n",
       "3               1      0          0            0                 1   \n",
       "4               1      0          1            0                 1   \n",
       "\n",
       "   Metallic_Rim  Radio_cassette  Parking_Assistant  Tow_Bar  \n",
       "0             0               0                  0        0  \n",
       "1             0               0                  0        0  \n",
       "2             0               0                  0        0  \n",
       "3             0               0                  0        0  \n",
       "4             0               0                  0        0  \n",
       "\n",
       "[5 rows x 39 columns]"
      ]
     },
     "execution_count": 5,
     "metadata": {},
     "output_type": "execute_result"
    }
   ],
   "source": [
    "# reduce data frame to the top 1000 rows and select columns for regression analysis\n",
    "car_df = pd.read_csv('ToyotaCorolla.csv')\n",
    "car_df.head()"
   ]
  },
  {
   "cell_type": "code",
   "execution_count": 6,
   "id": "3a06214b",
   "metadata": {},
   "outputs": [
    {
     "data": {
      "text/plain": [
       "Id                    int64\n",
       "Model                object\n",
       "Price                 int64\n",
       "Age_08_04             int64\n",
       "Mfg_Month             int64\n",
       "Mfg_Year              int64\n",
       "KM                    int64\n",
       "Fuel_Type            object\n",
       "HP                    int64\n",
       "Met_Color             int64\n",
       "Color                object\n",
       "Automatic             int64\n",
       "CC                    int64\n",
       "Doors                 int64\n",
       "Cylinders             int64\n",
       "Gears                 int64\n",
       "Quarterly_Tax         int64\n",
       "Weight                int64\n",
       "Mfr_Guarantee         int64\n",
       "BOVAG_Guarantee       int64\n",
       "Guarantee_Period      int64\n",
       "ABS                   int64\n",
       "Airbag_1              int64\n",
       "Airbag_2              int64\n",
       "Airco                 int64\n",
       "Automatic_airco       int64\n",
       "Boardcomputer         int64\n",
       "CD_Player             int64\n",
       "Central_Lock          int64\n",
       "Powered_Windows       int64\n",
       "Power_Steering        int64\n",
       "Radio                 int64\n",
       "Mistlamps             int64\n",
       "Sport_Model           int64\n",
       "Backseat_Divider      int64\n",
       "Metallic_Rim          int64\n",
       "Radio_cassette        int64\n",
       "Parking_Assistant     int64\n",
       "Tow_Bar               int64\n",
       "dtype: object"
      ]
     },
     "execution_count": 6,
     "metadata": {},
     "output_type": "execute_result"
    }
   ],
   "source": [
    "car_df.dtypes"
   ]
  },
  {
   "cell_type": "code",
   "execution_count": 7,
   "id": "7d21752f",
   "metadata": {},
   "outputs": [
    {
     "name": "stdout",
     "output_type": "stream",
     "text": [
      "['Age_08_04', 'KM', 'Fuel_Type', 'HP', 'Met_Color', 'Automatic', 'CC', 'Doors', 'Quarterly_Tax', 'Weight']\n"
     ]
    }
   ],
   "source": [
    "# create a list containing predictors' name\n",
    "predictors = ['Age_08_04', 'KM', 'Fuel_Type', 'HP', 'Met_Color', 'Automatic', 'CC','Doors', 'Quarterly_Tax', 'Weight'] \n",
    "print(predictors)"
   ]
  },
  {
   "cell_type": "code",
   "execution_count": 8,
   "id": "93401a6f",
   "metadata": {},
   "outputs": [
    {
     "name": "stdout",
     "output_type": "stream",
     "text": [
      "Price\n"
     ]
    }
   ],
   "source": [
    "# define outcome/target variable\n",
    "outcome = 'Price'\n",
    "print(outcome)"
   ]
  },
  {
   "cell_type": "code",
   "execution_count": 9,
   "id": "beaeb19d",
   "metadata": {},
   "outputs": [
    {
     "data": {
      "text/plain": [
       "Age_08_04         int64\n",
       "KM                int64\n",
       "Fuel_Type        object\n",
       "HP                int64\n",
       "Met_Color         int64\n",
       "Automatic         int64\n",
       "CC                int64\n",
       "Doors             int64\n",
       "Quarterly_Tax     int64\n",
       "Weight            int64\n",
       "dtype: object"
      ]
     },
     "execution_count": 9,
     "metadata": {},
     "output_type": "execute_result"
    }
   ],
   "source": [
    "# check data type of the predictors\n",
    "#overview of pandas's data type https://pbpython.com/pandas_dtypes.html\n",
    "car_df[predictors].dtypes "
   ]
  },
  {
   "cell_type": "code",
   "execution_count": 10,
   "id": "7a8236c6",
   "metadata": {},
   "outputs": [
    {
     "data": {
      "text/plain": [
       "Age_08_04           int64\n",
       "KM                  int64\n",
       "HP                  int64\n",
       "Met_Color           int64\n",
       "Automatic           int64\n",
       "CC                  int64\n",
       "Doors               int64\n",
       "Quarterly_Tax       int64\n",
       "Weight              int64\n",
       "Fuel_Type_Diesel     bool\n",
       "Fuel_Type_Petrol     bool\n",
       "dtype: object"
      ]
     },
     "execution_count": 10,
     "metadata": {},
     "output_type": "execute_result"
    }
   ],
   "source": [
    "#get k-1 dummies out of k categorical levels by removing the first level\n",
    "x = pd.get_dummies(car_df[predictors], drop_first=True) \n",
    "# uint8: Unsigned integer (0 to 255); int64:Integer (-9223372036854775808 to 9223372036854775807)\n",
    "x.dtypes"
   ]
  },
  {
   "cell_type": "code",
   "execution_count": 11,
   "id": "8cdb025e",
   "metadata": {},
   "outputs": [
    {
     "data": {
      "text/plain": [
       "0    13500\n",
       "1    13750\n",
       "2    13950\n",
       "3    14950\n",
       "4    13750\n",
       "Name: Price, dtype: int64"
      ]
     },
     "execution_count": 11,
     "metadata": {},
     "output_type": "execute_result"
    }
   ],
   "source": [
    "y = car_df[outcome]\n",
    "y.head()"
   ]
  },
  {
   "cell_type": "code",
   "execution_count": 12,
   "id": "4234f866",
   "metadata": {},
   "outputs": [
    {
     "data": {
      "text/html": [
       "<div>\n",
       "<style scoped>\n",
       "    .dataframe tbody tr th:only-of-type {\n",
       "        vertical-align: middle;\n",
       "    }\n",
       "\n",
       "    .dataframe tbody tr th {\n",
       "        vertical-align: top;\n",
       "    }\n",
       "\n",
       "    .dataframe thead th {\n",
       "        text-align: right;\n",
       "    }\n",
       "</style>\n",
       "<table border=\"1\" class=\"dataframe\">\n",
       "  <thead>\n",
       "    <tr style=\"text-align: right;\">\n",
       "      <th></th>\n",
       "      <th>Age_08_04</th>\n",
       "      <th>KM</th>\n",
       "      <th>HP</th>\n",
       "      <th>Met_Color</th>\n",
       "      <th>Automatic</th>\n",
       "      <th>CC</th>\n",
       "      <th>Doors</th>\n",
       "      <th>Quarterly_Tax</th>\n",
       "      <th>Weight</th>\n",
       "      <th>Fuel_Type_Diesel</th>\n",
       "      <th>Fuel_Type_Petrol</th>\n",
       "    </tr>\n",
       "  </thead>\n",
       "  <tbody>\n",
       "    <tr>\n",
       "      <th>1238</th>\n",
       "      <td>75</td>\n",
       "      <td>82256</td>\n",
       "      <td>110</td>\n",
       "      <td>1</td>\n",
       "      <td>0</td>\n",
       "      <td>1600</td>\n",
       "      <td>3</td>\n",
       "      <td>69</td>\n",
       "      <td>1050</td>\n",
       "      <td>False</td>\n",
       "      <td>True</td>\n",
       "    </tr>\n",
       "    <tr>\n",
       "      <th>1085</th>\n",
       "      <td>79</td>\n",
       "      <td>131500</td>\n",
       "      <td>72</td>\n",
       "      <td>0</td>\n",
       "      <td>0</td>\n",
       "      <td>2000</td>\n",
       "      <td>5</td>\n",
       "      <td>185</td>\n",
       "      <td>1140</td>\n",
       "      <td>True</td>\n",
       "      <td>False</td>\n",
       "    </tr>\n",
       "    <tr>\n",
       "      <th>680</th>\n",
       "      <td>61</td>\n",
       "      <td>102106</td>\n",
       "      <td>110</td>\n",
       "      <td>0</td>\n",
       "      <td>0</td>\n",
       "      <td>1600</td>\n",
       "      <td>3</td>\n",
       "      <td>69</td>\n",
       "      <td>1050</td>\n",
       "      <td>False</td>\n",
       "      <td>True</td>\n",
       "    </tr>\n",
       "    <tr>\n",
       "      <th>593</th>\n",
       "      <td>50</td>\n",
       "      <td>22648</td>\n",
       "      <td>97</td>\n",
       "      <td>1</td>\n",
       "      <td>0</td>\n",
       "      <td>1400</td>\n",
       "      <td>5</td>\n",
       "      <td>85</td>\n",
       "      <td>1060</td>\n",
       "      <td>False</td>\n",
       "      <td>True</td>\n",
       "    </tr>\n",
       "    <tr>\n",
       "      <th>647</th>\n",
       "      <td>68</td>\n",
       "      <td>117000</td>\n",
       "      <td>72</td>\n",
       "      <td>0</td>\n",
       "      <td>0</td>\n",
       "      <td>2000</td>\n",
       "      <td>3</td>\n",
       "      <td>185</td>\n",
       "      <td>1115</td>\n",
       "      <td>True</td>\n",
       "      <td>False</td>\n",
       "    </tr>\n",
       "  </tbody>\n",
       "</table>\n",
       "</div>"
      ],
      "text/plain": [
       "      Age_08_04      KM   HP  Met_Color  Automatic    CC  Doors  \\\n",
       "1238         75   82256  110          1          0  1600      3   \n",
       "1085         79  131500   72          0          0  2000      5   \n",
       "680          61  102106  110          0          0  1600      3   \n",
       "593          50   22648   97          1          0  1400      5   \n",
       "647          68  117000   72          0          0  2000      3   \n",
       "\n",
       "      Quarterly_Tax  Weight  Fuel_Type_Diesel  Fuel_Type_Petrol  \n",
       "1238             69    1050             False              True  \n",
       "1085            185    1140              True             False  \n",
       "680              69    1050             False              True  \n",
       "593              85    1060             False              True  \n",
       "647             185    1115              True             False  "
      ]
     },
     "execution_count": 12,
     "metadata": {},
     "output_type": "execute_result"
    }
   ],
   "source": [
    "# partition data; split the data training (60%) vs. validation (40%)\n",
    "# random_state=1: Pass an int for reproducible output across multiple function calls\n",
    "train_x, valid_x, train_y, valid_y = train_test_split(x, y, test_size=0.4,random_state=1) \n",
    "train_x.head()"
   ]
  },
  {
   "cell_type": "code",
   "execution_count": 10,
   "id": "ea840c0a",
   "metadata": {},
   "outputs": [
    {
     "data": {
      "text/html": [
       "<div>\n",
       "<style scoped>\n",
       "    .dataframe tbody tr th:only-of-type {\n",
       "        vertical-align: middle;\n",
       "    }\n",
       "\n",
       "    .dataframe tbody tr th {\n",
       "        vertical-align: top;\n",
       "    }\n",
       "\n",
       "    .dataframe thead th {\n",
       "        text-align: right;\n",
       "    }\n",
       "</style>\n",
       "<table border=\"1\" class=\"dataframe\">\n",
       "  <thead>\n",
       "    <tr style=\"text-align: right;\">\n",
       "      <th></th>\n",
       "      <th>Data Set</th>\n",
       "      <th>Shape</th>\n",
       "    </tr>\n",
       "  </thead>\n",
       "  <tbody>\n",
       "    <tr>\n",
       "      <th>0</th>\n",
       "      <td>train_x</td>\n",
       "      <td>(861, 11)</td>\n",
       "    </tr>\n",
       "    <tr>\n",
       "      <th>1</th>\n",
       "      <td>valid_x</td>\n",
       "      <td>(575, 11)</td>\n",
       "    </tr>\n",
       "    <tr>\n",
       "      <th>2</th>\n",
       "      <td>train_y</td>\n",
       "      <td>(861,)</td>\n",
       "    </tr>\n",
       "    <tr>\n",
       "      <th>3</th>\n",
       "      <td>valid_y</td>\n",
       "      <td>(575,)</td>\n",
       "    </tr>\n",
       "  </tbody>\n",
       "</table>\n",
       "</div>"
      ],
      "text/plain": [
       "  Data Set      Shape\n",
       "0  train_x  (861, 11)\n",
       "1  valid_x  (575, 11)\n",
       "2  train_y     (861,)\n",
       "3  valid_y     (575,)"
      ]
     },
     "execution_count": 10,
     "metadata": {},
     "output_type": "execute_result"
    }
   ],
   "source": [
    "# check training and validation data sets\n",
    "data={'Data Set':['train_x', 'valid_x','train_y','valid_y'], 'Shape': [train_x.shape, valid_x.shape, train_y.shape, valid_y.shape]}\n",
    "df=pd.DataFrame(data)\n",
    "df"
   ]
  },
  {
   "cell_type": "code",
   "execution_count": 11,
   "id": "94ec967d",
   "metadata": {},
   "outputs": [
    {
     "data": {
      "text/html": [
       "<style>#sk-container-id-1 {color: black;}#sk-container-id-1 pre{padding: 0;}#sk-container-id-1 div.sk-toggleable {background-color: white;}#sk-container-id-1 label.sk-toggleable__label {cursor: pointer;display: block;width: 100%;margin-bottom: 0;padding: 0.3em;box-sizing: border-box;text-align: center;}#sk-container-id-1 label.sk-toggleable__label-arrow:before {content: \"▸\";float: left;margin-right: 0.25em;color: #696969;}#sk-container-id-1 label.sk-toggleable__label-arrow:hover:before {color: black;}#sk-container-id-1 div.sk-estimator:hover label.sk-toggleable__label-arrow:before {color: black;}#sk-container-id-1 div.sk-toggleable__content {max-height: 0;max-width: 0;overflow: hidden;text-align: left;background-color: #f0f8ff;}#sk-container-id-1 div.sk-toggleable__content pre {margin: 0.2em;color: black;border-radius: 0.25em;background-color: #f0f8ff;}#sk-container-id-1 input.sk-toggleable__control:checked~div.sk-toggleable__content {max-height: 200px;max-width: 100%;overflow: auto;}#sk-container-id-1 input.sk-toggleable__control:checked~label.sk-toggleable__label-arrow:before {content: \"▾\";}#sk-container-id-1 div.sk-estimator input.sk-toggleable__control:checked~label.sk-toggleable__label {background-color: #d4ebff;}#sk-container-id-1 div.sk-label input.sk-toggleable__control:checked~label.sk-toggleable__label {background-color: #d4ebff;}#sk-container-id-1 input.sk-hidden--visually {border: 0;clip: rect(1px 1px 1px 1px);clip: rect(1px, 1px, 1px, 1px);height: 1px;margin: -1px;overflow: hidden;padding: 0;position: absolute;width: 1px;}#sk-container-id-1 div.sk-estimator {font-family: monospace;background-color: #f0f8ff;border: 1px dotted black;border-radius: 0.25em;box-sizing: border-box;margin-bottom: 0.5em;}#sk-container-id-1 div.sk-estimator:hover {background-color: #d4ebff;}#sk-container-id-1 div.sk-parallel-item::after {content: \"\";width: 100%;border-bottom: 1px solid gray;flex-grow: 1;}#sk-container-id-1 div.sk-label:hover label.sk-toggleable__label {background-color: #d4ebff;}#sk-container-id-1 div.sk-serial::before {content: \"\";position: absolute;border-left: 1px solid gray;box-sizing: border-box;top: 0;bottom: 0;left: 50%;z-index: 0;}#sk-container-id-1 div.sk-serial {display: flex;flex-direction: column;align-items: center;background-color: white;padding-right: 0.2em;padding-left: 0.2em;position: relative;}#sk-container-id-1 div.sk-item {position: relative;z-index: 1;}#sk-container-id-1 div.sk-parallel {display: flex;align-items: stretch;justify-content: center;background-color: white;position: relative;}#sk-container-id-1 div.sk-item::before, #sk-container-id-1 div.sk-parallel-item::before {content: \"\";position: absolute;border-left: 1px solid gray;box-sizing: border-box;top: 0;bottom: 0;left: 50%;z-index: -1;}#sk-container-id-1 div.sk-parallel-item {display: flex;flex-direction: column;z-index: 1;position: relative;background-color: white;}#sk-container-id-1 div.sk-parallel-item:first-child::after {align-self: flex-end;width: 50%;}#sk-container-id-1 div.sk-parallel-item:last-child::after {align-self: flex-start;width: 50%;}#sk-container-id-1 div.sk-parallel-item:only-child::after {width: 0;}#sk-container-id-1 div.sk-dashed-wrapped {border: 1px dashed gray;margin: 0 0.4em 0.5em 0.4em;box-sizing: border-box;padding-bottom: 0.4em;background-color: white;}#sk-container-id-1 div.sk-label label {font-family: monospace;font-weight: bold;display: inline-block;line-height: 1.2em;}#sk-container-id-1 div.sk-label-container {text-align: center;}#sk-container-id-1 div.sk-container {/* jupyter's `normalize.less` sets `[hidden] { display: none; }` but bootstrap.min.css set `[hidden] { display: none !important; }` so we also need the `!important` here to be able to override the default hidden behavior on the sphinx rendered scikit-learn.org. See: https://github.com/scikit-learn/scikit-learn/issues/21755 */display: inline-block !important;position: relative;}#sk-container-id-1 div.sk-text-repr-fallback {display: none;}</style><div id=\"sk-container-id-1\" class=\"sk-top-container\"><div class=\"sk-text-repr-fallback\"><pre>LinearRegression()</pre><b>In a Jupyter environment, please rerun this cell to show the HTML representation or trust the notebook. <br />On GitHub, the HTML representation is unable to render, please try loading this page with nbviewer.org.</b></div><div class=\"sk-container\" hidden><div class=\"sk-item\"><div class=\"sk-estimator sk-toggleable\"><input class=\"sk-toggleable__control sk-hidden--visually\" id=\"sk-estimator-id-1\" type=\"checkbox\" checked><label for=\"sk-estimator-id-1\" class=\"sk-toggleable__label sk-toggleable__label-arrow\">LinearRegression</label><div class=\"sk-toggleable__content\"><pre>LinearRegression()</pre></div></div></div></div></div>"
      ],
      "text/plain": [
       "LinearRegression()"
      ]
     },
     "execution_count": 11,
     "metadata": {},
     "output_type": "execute_result"
    }
   ],
   "source": [
    "#build linear regression model using the training data\n",
    "car_lm = LinearRegression()\n",
    "car_lm.fit(train_x, train_y)"
   ]
  },
  {
   "cell_type": "code",
   "execution_count": 12,
   "id": "3ae78904",
   "metadata": {},
   "outputs": [
    {
     "name": "stdout",
     "output_type": "stream",
     "text": [
      "           Predictor  coefficient\n",
      "0          Age_08_04  -124.110305\n",
      "1                 KM    -0.016059\n",
      "2                 HP    75.549218\n",
      "3          Met_Color    47.715778\n",
      "4          Automatic   462.441526\n",
      "5                 CC    -5.027585\n",
      "6              Doors    58.417871\n",
      "7      Quarterly_Tax    13.009195\n",
      "8             Weight    14.156177\n",
      "9   Fuel_Type_Diesel  4481.088703\n",
      "10  Fuel_Type_Petrol  2413.063717\n"
     ]
    }
   ],
   "source": [
    "# print coefficients\n",
    "print(pd.DataFrame({'Predictor': x.columns, 'coefficient': car_lm.coef_}))"
   ]
  },
  {
   "cell_type": "code",
   "execution_count": 13,
   "id": "dc003854",
   "metadata": {},
   "outputs": [
    {
     "data": {
      "text/plain": [
       "-258.6042161510413"
      ]
     },
     "execution_count": 13,
     "metadata": {},
     "output_type": "execute_result"
    }
   ],
   "source": [
    "# Get the y intercept\n",
    "car_lm.intercept_"
   ]
  },
  {
   "cell_type": "code",
   "execution_count": 14,
   "id": "a97f3cf6",
   "metadata": {},
   "outputs": [
    {
     "name": "stdout",
     "output_type": "stream",
     "text": [
      "\n",
      "Regression statistics\n",
      "\n",
      "                      Mean Error (ME) : 0.0000\n",
      "       Root Mean Squared Error (RMSE) : 1315.5318\n",
      "            Mean Absolute Error (MAE) : 953.7443\n",
      "          Mean Percentage Error (MPE) : -1.0544\n",
      "Mean Absolute Percentage Error (MAPE) : 9.2370\n"
     ]
    }
   ],
   "source": [
    "# print performance measures (training data)\n",
    "regressionSummary(train_y, car_lm.predict(train_x))"
   ]
  },
  {
   "cell_type": "code",
   "execution_count": 16,
   "id": "cccdc82f",
   "metadata": {},
   "outputs": [
    {
     "data": {
      "text/html": [
       "<div>\n",
       "<style scoped>\n",
       "    .dataframe tbody tr th:only-of-type {\n",
       "        vertical-align: middle;\n",
       "    }\n",
       "\n",
       "    .dataframe tbody tr th {\n",
       "        vertical-align: top;\n",
       "    }\n",
       "\n",
       "    .dataframe thead th {\n",
       "        text-align: right;\n",
       "    }\n",
       "</style>\n",
       "<table border=\"1\" class=\"dataframe\">\n",
       "  <thead>\n",
       "    <tr style=\"text-align: right;\">\n",
       "      <th></th>\n",
       "      <th>Predicted</th>\n",
       "      <th>Actual</th>\n",
       "      <th>Residual</th>\n",
       "    </tr>\n",
       "  </thead>\n",
       "  <tbody>\n",
       "    <tr>\n",
       "      <th>509</th>\n",
       "      <td>12323.811858</td>\n",
       "      <td>10900</td>\n",
       "      <td>-1423.811858</td>\n",
       "    </tr>\n",
       "    <tr>\n",
       "      <th>435</th>\n",
       "      <td>11177.152249</td>\n",
       "      <td>10895</td>\n",
       "      <td>-282.152249</td>\n",
       "    </tr>\n",
       "    <tr>\n",
       "      <th>321</th>\n",
       "      <td>14033.803003</td>\n",
       "      <td>10750</td>\n",
       "      <td>-3283.803003</td>\n",
       "    </tr>\n",
       "    <tr>\n",
       "      <th>1055</th>\n",
       "      <td>6413.897879</td>\n",
       "      <td>6500</td>\n",
       "      <td>86.102121</td>\n",
       "    </tr>\n",
       "    <tr>\n",
       "      <th>288</th>\n",
       "      <td>12724.302918</td>\n",
       "      <td>11895</td>\n",
       "      <td>-829.302918</td>\n",
       "    </tr>\n",
       "    <tr>\n",
       "      <th>48</th>\n",
       "      <td>18226.582638</td>\n",
       "      <td>17950</td>\n",
       "      <td>-276.582638</td>\n",
       "    </tr>\n",
       "    <tr>\n",
       "      <th>1403</th>\n",
       "      <td>7665.856654</td>\n",
       "      <td>7000</td>\n",
       "      <td>-665.856654</td>\n",
       "    </tr>\n",
       "    <tr>\n",
       "      <th>952</th>\n",
       "      <td>9961.900457</td>\n",
       "      <td>8400</td>\n",
       "      <td>-1561.900457</td>\n",
       "    </tr>\n",
       "    <tr>\n",
       "      <th>1097</th>\n",
       "      <td>7182.829823</td>\n",
       "      <td>7250</td>\n",
       "      <td>67.170177</td>\n",
       "    </tr>\n",
       "    <tr>\n",
       "      <th>204</th>\n",
       "      <td>11985.986724</td>\n",
       "      <td>12950</td>\n",
       "      <td>964.013276</td>\n",
       "    </tr>\n",
       "  </tbody>\n",
       "</table>\n",
       "</div>"
      ],
      "text/plain": [
       "         Predicted  Actual     Residual\n",
       "509   12323.811858   10900 -1423.811858\n",
       "435   11177.152249   10895  -282.152249\n",
       "321   14033.803003   10750 -3283.803003\n",
       "1055   6413.897879    6500    86.102121\n",
       "288   12724.302918   11895  -829.302918\n",
       "48    18226.582638   17950  -276.582638\n",
       "1403   7665.856654    7000  -665.856654\n",
       "952    9961.900457    8400 -1561.900457\n",
       "1097   7182.829823    7250    67.170177\n",
       "204   11985.986724   12950   964.013276"
      ]
     },
     "execution_count": 16,
     "metadata": {},
     "output_type": "execute_result"
    }
   ],
   "source": [
    "#Table 6.4: Predicted Prices (and Errors) for 20 cars in validation set and summary predictive measures for entire validation set \n",
    "# Use predict() to make predictions on a new set\n",
    "car_lm_pred = car_lm.predict(valid_x)\n",
    "result = pd.DataFrame({'Predicted': car_lm_pred, 'Actual': valid_y, 'Residual': valid_y - car_lm_pred})\n",
    "result.head(10)"
   ]
  },
  {
   "cell_type": "code",
   "execution_count": 17,
   "id": "6ca1d915",
   "metadata": {},
   "outputs": [
    {
     "name": "stdout",
     "output_type": "stream",
     "text": [
      "\n",
      "Regression statistics\n",
      "\n",
      "                      Mean Error (ME) : 190.6887\n",
      "       Root Mean Squared Error (RMSE) : 3315.7836\n",
      "            Mean Absolute Error (MAE) : 1095.1592\n",
      "          Mean Percentage Error (MPE) : 0.2537\n",
      "Mean Absolute Percentage Error (MAPE) : 10.3465\n"
     ]
    }
   ],
   "source": [
    "# print performance measures (validation data)\n",
    "regressionSummary(valid_y, car_lm_pred)"
   ]
  },
  {
   "cell_type": "markdown",
   "id": "1d0561bc",
   "metadata": {},
   "source": [
    "## Table 6.10: Linear regression model of price vs. car attributes using Statmodels (compare with Table 6.3)"
   ]
  },
  {
   "cell_type": "code",
   "execution_count": 13,
   "id": "ba654384",
   "metadata": {},
   "outputs": [
    {
     "data": {
      "text/html": [
       "<div>\n",
       "<style scoped>\n",
       "    .dataframe tbody tr th:only-of-type {\n",
       "        vertical-align: middle;\n",
       "    }\n",
       "\n",
       "    .dataframe tbody tr th {\n",
       "        vertical-align: top;\n",
       "    }\n",
       "\n",
       "    .dataframe thead th {\n",
       "        text-align: right;\n",
       "    }\n",
       "</style>\n",
       "<table border=\"1\" class=\"dataframe\">\n",
       "  <thead>\n",
       "    <tr style=\"text-align: right;\">\n",
       "      <th></th>\n",
       "      <th>Age_08_04</th>\n",
       "      <th>KM</th>\n",
       "      <th>HP</th>\n",
       "      <th>Met_Color</th>\n",
       "      <th>Automatic</th>\n",
       "      <th>CC</th>\n",
       "      <th>Doors</th>\n",
       "      <th>Quarterly_Tax</th>\n",
       "      <th>Weight</th>\n",
       "      <th>Fuel_Type_Diesel</th>\n",
       "      <th>Fuel_Type_Petrol</th>\n",
       "      <th>Price</th>\n",
       "    </tr>\n",
       "  </thead>\n",
       "  <tbody>\n",
       "    <tr>\n",
       "      <th>1238</th>\n",
       "      <td>75</td>\n",
       "      <td>82256</td>\n",
       "      <td>110</td>\n",
       "      <td>1</td>\n",
       "      <td>0</td>\n",
       "      <td>1600</td>\n",
       "      <td>3</td>\n",
       "      <td>69</td>\n",
       "      <td>1050</td>\n",
       "      <td>False</td>\n",
       "      <td>True</td>\n",
       "      <td>7750</td>\n",
       "    </tr>\n",
       "    <tr>\n",
       "      <th>1085</th>\n",
       "      <td>79</td>\n",
       "      <td>131500</td>\n",
       "      <td>72</td>\n",
       "      <td>0</td>\n",
       "      <td>0</td>\n",
       "      <td>2000</td>\n",
       "      <td>5</td>\n",
       "      <td>185</td>\n",
       "      <td>1140</td>\n",
       "      <td>True</td>\n",
       "      <td>False</td>\n",
       "      <td>7950</td>\n",
       "    </tr>\n",
       "    <tr>\n",
       "      <th>680</th>\n",
       "      <td>61</td>\n",
       "      <td>102106</td>\n",
       "      <td>110</td>\n",
       "      <td>0</td>\n",
       "      <td>0</td>\n",
       "      <td>1600</td>\n",
       "      <td>3</td>\n",
       "      <td>69</td>\n",
       "      <td>1050</td>\n",
       "      <td>False</td>\n",
       "      <td>True</td>\n",
       "      <td>7950</td>\n",
       "    </tr>\n",
       "    <tr>\n",
       "      <th>593</th>\n",
       "      <td>50</td>\n",
       "      <td>22648</td>\n",
       "      <td>97</td>\n",
       "      <td>1</td>\n",
       "      <td>0</td>\n",
       "      <td>1400</td>\n",
       "      <td>5</td>\n",
       "      <td>85</td>\n",
       "      <td>1060</td>\n",
       "      <td>False</td>\n",
       "      <td>True</td>\n",
       "      <td>10950</td>\n",
       "    </tr>\n",
       "    <tr>\n",
       "      <th>647</th>\n",
       "      <td>68</td>\n",
       "      <td>117000</td>\n",
       "      <td>72</td>\n",
       "      <td>0</td>\n",
       "      <td>0</td>\n",
       "      <td>2000</td>\n",
       "      <td>3</td>\n",
       "      <td>185</td>\n",
       "      <td>1115</td>\n",
       "      <td>True</td>\n",
       "      <td>False</td>\n",
       "      <td>6950</td>\n",
       "    </tr>\n",
       "  </tbody>\n",
       "</table>\n",
       "</div>"
      ],
      "text/plain": [
       "      Age_08_04      KM   HP  Met_Color  Automatic    CC  Doors  \\\n",
       "1238         75   82256  110          1          0  1600      3   \n",
       "1085         79  131500   72          0          0  2000      5   \n",
       "680          61  102106  110          0          0  1600      3   \n",
       "593          50   22648   97          1          0  1400      5   \n",
       "647          68  117000   72          0          0  2000      3   \n",
       "\n",
       "      Quarterly_Tax  Weight  Fuel_Type_Diesel  Fuel_Type_Petrol  Price  \n",
       "1238             69    1050             False              True   7750  \n",
       "1085            185    1140              True             False   7950  \n",
       "680              69    1050             False              True   7950  \n",
       "593              85    1060             False              True  10950  \n",
       "647             185    1115              True             False   6950  "
      ]
     },
     "execution_count": 13,
     "metadata": {},
     "output_type": "execute_result"
    }
   ],
   "source": [
    "# run a linear regression of Price on the remaining 11 predictors in the training set\n",
    "train_df = train_x.join(train_y)\n",
    "train_df.head()"
   ]
  },
  {
   "cell_type": "code",
   "execution_count": 14,
   "id": "207f8331",
   "metadata": {},
   "outputs": [
    {
     "data": {
      "text/plain": [
       "Index(['Age_08_04', 'KM', 'HP', 'Met_Color', 'Automatic', 'CC', 'Doors',\n",
       "       'Quarterly_Tax', 'Weight', 'Fuel_Type_Diesel', 'Fuel_Type_Petrol'],\n",
       "      dtype='object')"
      ]
     },
     "execution_count": 14,
     "metadata": {},
     "output_type": "execute_result"
    }
   ],
   "source": [
    "predictors = train_x.columns\n",
    "predictors"
   ]
  },
  {
   "cell_type": "code",
   "execution_count": 15,
   "id": "8d49dd7c",
   "metadata": {},
   "outputs": [
    {
     "data": {
      "text/plain": [
       "'Price ~ Age_08_04 + KM + HP + Met_Color + Automatic + CC + Doors + Quarterly_Tax + Weight + Fuel_Type_Diesel + Fuel_Type_Petrol'"
      ]
     },
     "execution_count": 15,
     "metadata": {},
     "output_type": "execute_result"
    }
   ],
   "source": [
    "# create the linear model formula\n",
    "#string_name.join(iterable); returns a string concatenated with the elements of iterable\n",
    "formula = 'Price ~ ' + ' + '.join(predictors)\n",
    "formula"
   ]
  },
  {
   "cell_type": "code",
   "execution_count": 21,
   "id": "aca9c8ee",
   "metadata": {},
   "outputs": [
    {
     "data": {
      "text/html": [
       "<table class=\"simpletable\">\n",
       "<caption>OLS Regression Results</caption>\n",
       "<tr>\n",
       "  <th>Dep. Variable:</th>          <td>Price</td>      <th>  R-squared:         </th> <td>   0.874</td> \n",
       "</tr>\n",
       "<tr>\n",
       "  <th>Model:</th>                   <td>OLS</td>       <th>  Adj. R-squared:    </th> <td>   0.872</td> \n",
       "</tr>\n",
       "<tr>\n",
       "  <th>Method:</th>             <td>Least Squares</td>  <th>  F-statistic:       </th> <td>   535.5</td> \n",
       "</tr>\n",
       "<tr>\n",
       "  <th>Date:</th>             <td>Mon, 26 Feb 2024</td> <th>  Prob (F-statistic):</th>  <td>  0.00</td>  \n",
       "</tr>\n",
       "<tr>\n",
       "  <th>Time:</th>                 <td>07:18:29</td>     <th>  Log-Likelihood:    </th> <td> -7405.4</td> \n",
       "</tr>\n",
       "<tr>\n",
       "  <th>No. Observations:</th>      <td>   861</td>      <th>  AIC:               </th> <td>1.483e+04</td>\n",
       "</tr>\n",
       "<tr>\n",
       "  <th>Df Residuals:</th>          <td>   849</td>      <th>  BIC:               </th> <td>1.489e+04</td>\n",
       "</tr>\n",
       "<tr>\n",
       "  <th>Df Model:</th>              <td>    11</td>      <th>                     </th>     <td> </td>    \n",
       "</tr>\n",
       "<tr>\n",
       "  <th>Covariance Type:</th>      <td>nonrobust</td>    <th>                     </th>     <td> </td>    \n",
       "</tr>\n",
       "</table>\n",
       "<table class=\"simpletable\">\n",
       "<tr>\n",
       "              <td></td>                <th>coef</th>     <th>std err</th>      <th>t</th>      <th>P>|t|</th>  <th>[0.025</th>    <th>0.975]</th>  \n",
       "</tr>\n",
       "<tr>\n",
       "  <th>Intercept</th>                <td> -258.6042</td> <td> 1551.111</td> <td>   -0.167</td> <td> 0.868</td> <td>-3303.066</td> <td> 2785.857</td>\n",
       "</tr>\n",
       "<tr>\n",
       "  <th>Fuel_Type_Diesel[T.True]</th> <td> 4481.0887</td> <td>  689.530</td> <td>    6.499</td> <td> 0.000</td> <td> 3127.706</td> <td> 5834.471</td>\n",
       "</tr>\n",
       "<tr>\n",
       "  <th>Fuel_Type_Petrol[T.True]</th> <td> 2413.0637</td> <td>  507.893</td> <td>    4.751</td> <td> 0.000</td> <td> 1416.191</td> <td> 3409.936</td>\n",
       "</tr>\n",
       "<tr>\n",
       "  <th>Age_08_04</th>                <td> -124.1103</td> <td>    3.328</td> <td>  -37.294</td> <td> 0.000</td> <td> -130.642</td> <td> -117.579</td>\n",
       "</tr>\n",
       "<tr>\n",
       "  <th>KM</th>                       <td>   -0.0161</td> <td>    0.002</td> <td>   -9.372</td> <td> 0.000</td> <td>   -0.019</td> <td>   -0.013</td>\n",
       "</tr>\n",
       "<tr>\n",
       "  <th>HP</th>                       <td>   75.5492</td> <td>    7.570</td> <td>    9.980</td> <td> 0.000</td> <td>   60.691</td> <td>   90.408</td>\n",
       "</tr>\n",
       "<tr>\n",
       "  <th>Met_Color</th>                <td>   47.7158</td> <td>   97.356</td> <td>    0.490</td> <td> 0.624</td> <td> -143.371</td> <td>  238.802</td>\n",
       "</tr>\n",
       "<tr>\n",
       "  <th>Automatic</th>                <td>  462.4415</td> <td>  192.349</td> <td>    2.404</td> <td> 0.016</td> <td>   84.907</td> <td>  839.976</td>\n",
       "</tr>\n",
       "<tr>\n",
       "  <th>CC</th>                       <td>   -5.0276</td> <td>    0.724</td> <td>   -6.947</td> <td> 0.000</td> <td>   -6.448</td> <td>   -3.607</td>\n",
       "</tr>\n",
       "<tr>\n",
       "  <th>Doors</th>                    <td>   58.4179</td> <td>   52.361</td> <td>    1.116</td> <td> 0.265</td> <td>  -44.353</td> <td>  161.189</td>\n",
       "</tr>\n",
       "<tr>\n",
       "  <th>Quarterly_Tax</th>            <td>   13.0092</td> <td>    2.149</td> <td>    6.055</td> <td> 0.000</td> <td>    8.792</td> <td>   17.226</td>\n",
       "</tr>\n",
       "<tr>\n",
       "  <th>Weight</th>                   <td>   14.1562</td> <td>    1.392</td> <td>   10.172</td> <td> 0.000</td> <td>   11.425</td> <td>   16.888</td>\n",
       "</tr>\n",
       "</table>\n",
       "<table class=\"simpletable\">\n",
       "<tr>\n",
       "  <th>Omnibus:</th>       <td>99.178</td> <th>  Durbin-Watson:     </th> <td>   2.018</td> \n",
       "</tr>\n",
       "<tr>\n",
       "  <th>Prob(Omnibus):</th> <td> 0.000</td> <th>  Jarque-Bera (JB):  </th> <td> 814.983</td> \n",
       "</tr>\n",
       "<tr>\n",
       "  <th>Skew:</th>          <td> 0.071</td> <th>  Prob(JB):          </th> <td>1.07e-177</td>\n",
       "</tr>\n",
       "<tr>\n",
       "  <th>Kurtosis:</th>      <td> 7.764</td> <th>  Cond. No.          </th> <td>2.68e+06</td> \n",
       "</tr>\n",
       "</table><br/><br/>Notes:<br/>[1] Standard Errors assume that the covariance matrix of the errors is correctly specified.<br/>[2] The condition number is large, 2.68e+06. This might indicate that there are<br/>strong multicollinearity or other numerical problems."
      ],
      "text/latex": [
       "\\begin{center}\n",
       "\\begin{tabular}{lclc}\n",
       "\\toprule\n",
       "\\textbf{Dep. Variable:}             &      Price       & \\textbf{  R-squared:         } &     0.874   \\\\\n",
       "\\textbf{Model:}                     &       OLS        & \\textbf{  Adj. R-squared:    } &     0.872   \\\\\n",
       "\\textbf{Method:}                    &  Least Squares   & \\textbf{  F-statistic:       } &     535.5   \\\\\n",
       "\\textbf{Date:}                      & Mon, 26 Feb 2024 & \\textbf{  Prob (F-statistic):} &     0.00    \\\\\n",
       "\\textbf{Time:}                      &     07:18:29     & \\textbf{  Log-Likelihood:    } &   -7405.4   \\\\\n",
       "\\textbf{No. Observations:}          &         861      & \\textbf{  AIC:               } & 1.483e+04   \\\\\n",
       "\\textbf{Df Residuals:}              &         849      & \\textbf{  BIC:               } & 1.489e+04   \\\\\n",
       "\\textbf{Df Model:}                  &          11      & \\textbf{                     } &             \\\\\n",
       "\\textbf{Covariance Type:}           &    nonrobust     & \\textbf{                     } &             \\\\\n",
       "\\bottomrule\n",
       "\\end{tabular}\n",
       "\\begin{tabular}{lcccccc}\n",
       "                                    & \\textbf{coef} & \\textbf{std err} & \\textbf{t} & \\textbf{P$> |$t$|$} & \\textbf{[0.025} & \\textbf{0.975]}  \\\\\n",
       "\\midrule\n",
       "\\textbf{Intercept}                  &    -258.6042  &     1551.111     &    -0.167  &         0.868        &    -3303.066    &     2785.857     \\\\\n",
       "\\textbf{Fuel\\_Type\\_Diesel[T.True]} &    4481.0887  &      689.530     &     6.499  &         0.000        &     3127.706    &     5834.471     \\\\\n",
       "\\textbf{Fuel\\_Type\\_Petrol[T.True]} &    2413.0637  &      507.893     &     4.751  &         0.000        &     1416.191    &     3409.936     \\\\\n",
       "\\textbf{Age\\_08\\_04}                &    -124.1103  &        3.328     &   -37.294  &         0.000        &     -130.642    &     -117.579     \\\\\n",
       "\\textbf{KM}                         &      -0.0161  &        0.002     &    -9.372  &         0.000        &       -0.019    &       -0.013     \\\\\n",
       "\\textbf{HP}                         &      75.5492  &        7.570     &     9.980  &         0.000        &       60.691    &       90.408     \\\\\n",
       "\\textbf{Met\\_Color}                 &      47.7158  &       97.356     &     0.490  &         0.624        &     -143.371    &      238.802     \\\\\n",
       "\\textbf{Automatic}                  &     462.4415  &      192.349     &     2.404  &         0.016        &       84.907    &      839.976     \\\\\n",
       "\\textbf{CC}                         &      -5.0276  &        0.724     &    -6.947  &         0.000        &       -6.448    &       -3.607     \\\\\n",
       "\\textbf{Doors}                      &      58.4179  &       52.361     &     1.116  &         0.265        &      -44.353    &      161.189     \\\\\n",
       "\\textbf{Quarterly\\_Tax}             &      13.0092  &        2.149     &     6.055  &         0.000        &        8.792    &       17.226     \\\\\n",
       "\\textbf{Weight}                     &      14.1562  &        1.392     &    10.172  &         0.000        &       11.425    &       16.888     \\\\\n",
       "\\bottomrule\n",
       "\\end{tabular}\n",
       "\\begin{tabular}{lclc}\n",
       "\\textbf{Omnibus:}       & 99.178 & \\textbf{  Durbin-Watson:     } &     2.018  \\\\\n",
       "\\textbf{Prob(Omnibus):} &  0.000 & \\textbf{  Jarque-Bera (JB):  } &   814.983  \\\\\n",
       "\\textbf{Skew:}          &  0.071 & \\textbf{  Prob(JB):          } & 1.07e-177  \\\\\n",
       "\\textbf{Kurtosis:}      &  7.764 & \\textbf{  Cond. No.          } &  2.68e+06  \\\\\n",
       "\\bottomrule\n",
       "\\end{tabular}\n",
       "%\\caption{OLS Regression Results}\n",
       "\\end{center}\n",
       "\n",
       "Notes: \\newline\n",
       " [1] Standard Errors assume that the covariance matrix of the errors is correctly specified. \\newline\n",
       " [2] The condition number is large, 2.68e+06. This might indicate that there are \\newline\n",
       " strong multicollinearity or other numerical problems."
      ],
      "text/plain": [
       "<class 'statsmodels.iolib.summary.Summary'>\n",
       "\"\"\"\n",
       "                            OLS Regression Results                            \n",
       "==============================================================================\n",
       "Dep. Variable:                  Price   R-squared:                       0.874\n",
       "Model:                            OLS   Adj. R-squared:                  0.872\n",
       "Method:                 Least Squares   F-statistic:                     535.5\n",
       "Date:                Mon, 26 Feb 2024   Prob (F-statistic):               0.00\n",
       "Time:                        07:18:29   Log-Likelihood:                -7405.4\n",
       "No. Observations:                 861   AIC:                         1.483e+04\n",
       "Df Residuals:                     849   BIC:                         1.489e+04\n",
       "Df Model:                          11                                         \n",
       "Covariance Type:            nonrobust                                         \n",
       "============================================================================================\n",
       "                               coef    std err          t      P>|t|      [0.025      0.975]\n",
       "--------------------------------------------------------------------------------------------\n",
       "Intercept                 -258.6042   1551.111     -0.167      0.868   -3303.066    2785.857\n",
       "Fuel_Type_Diesel[T.True]  4481.0887    689.530      6.499      0.000    3127.706    5834.471\n",
       "Fuel_Type_Petrol[T.True]  2413.0637    507.893      4.751      0.000    1416.191    3409.936\n",
       "Age_08_04                 -124.1103      3.328    -37.294      0.000    -130.642    -117.579\n",
       "KM                          -0.0161      0.002     -9.372      0.000      -0.019      -0.013\n",
       "HP                          75.5492      7.570      9.980      0.000      60.691      90.408\n",
       "Met_Color                   47.7158     97.356      0.490      0.624    -143.371     238.802\n",
       "Automatic                  462.4415    192.349      2.404      0.016      84.907     839.976\n",
       "CC                          -5.0276      0.724     -6.947      0.000      -6.448      -3.607\n",
       "Doors                       58.4179     52.361      1.116      0.265     -44.353     161.189\n",
       "Quarterly_Tax               13.0092      2.149      6.055      0.000       8.792      17.226\n",
       "Weight                      14.1562      1.392     10.172      0.000      11.425      16.888\n",
       "==============================================================================\n",
       "Omnibus:                       99.178   Durbin-Watson:                   2.018\n",
       "Prob(Omnibus):                  0.000   Jarque-Bera (JB):              814.983\n",
       "Skew:                           0.071   Prob(JB):                    1.07e-177\n",
       "Kurtosis:                       7.764   Cond. No.                     2.68e+06\n",
       "==============================================================================\n",
       "\n",
       "Notes:\n",
       "[1] Standard Errors assume that the covariance matrix of the errors is correctly specified.\n",
       "[2] The condition number is large, 2.68e+06. This might indicate that there are\n",
       "strong multicollinearity or other numerical problems.\n",
       "\"\"\""
      ]
     },
     "execution_count": 21,
     "metadata": {},
     "output_type": "execute_result"
    }
   ],
   "source": [
    "# build the linear model\n",
    "car_lm = sm.ols(formula=formula, data=train_df).fit()\n",
    "car_lm.summary()"
   ]
  },
  {
   "cell_type": "code",
   "execution_count": 23,
   "id": "5a6f096a",
   "metadata": {},
   "outputs": [
    {
     "name": "stdout",
     "output_type": "stream",
     "text": [
      "\n",
      "Regression statistics\n",
      "\n",
      "                      Mean Error (ME) : -0.0000\n",
      "       Root Mean Squared Error (RMSE) : 1315.5318\n",
      "            Mean Absolute Error (MAE) : 953.7443\n",
      "          Mean Percentage Error (MPE) : -1.0544\n",
      "Mean Absolute Percentage Error (MAPE) : 9.2370\n"
     ]
    }
   ],
   "source": [
    "## check model's accuracy on the training and validation data set\n",
    "regressionSummary(train_y, car_lm.predict (train_x))"
   ]
  },
  {
   "cell_type": "code",
   "execution_count": 24,
   "id": "6a5685b3",
   "metadata": {},
   "outputs": [
    {
     "name": "stdout",
     "output_type": "stream",
     "text": [
      "\n",
      "Regression statistics\n",
      "\n",
      "                      Mean Error (ME) : 190.6887\n",
      "       Root Mean Squared Error (RMSE) : 3315.7836\n",
      "            Mean Absolute Error (MAE) : 1095.1592\n",
      "          Mean Percentage Error (MPE) : 0.2537\n",
      "Mean Absolute Percentage Error (MAPE) : 10.3465\n"
     ]
    }
   ],
   "source": [
    "car_lm_pred_stat = car_lm.predict(valid_x)\n",
    "\n",
    "# print performance measures (validation data)\n",
    "regressionSummary(valid_y, car_lm_pred_stat)"
   ]
  },
  {
   "cell_type": "markdown",
   "id": "fd9b6eb2",
   "metadata": {},
   "source": [
    "## Table 6.6: Backward elimination for reducing predictors in Toyota Corolla example"
   ]
  },
  {
   "cell_type": "code",
   "execution_count": 27,
   "id": "63c3fa17",
   "metadata": {},
   "outputs": [
    {
     "data": {
      "text/plain": [
       "Index(['Age_08_04', 'KM', 'HP', 'Met_Color', 'Automatic', 'CC', 'Doors',\n",
       "       'Quarterly_Tax', 'Weight', 'Fuel_Type_Diesel', 'Fuel_Type_Petrol'],\n",
       "      dtype='object')"
      ]
     },
     "execution_count": 27,
     "metadata": {},
     "output_type": "execute_result"
    }
   ],
   "source": [
    "# use def to define own functions\n",
    "# def is the keyword for defining a function. The function name is followed by parameter(s) in ().\n",
    "# the function definition should always be present before the function call\n",
    "# need to run the function as one block\n",
    "\n",
    "def train_model(variables):\n",
    "    model = LinearRegression()\n",
    "    model.fit(train_x[variables], train_y)\n",
    "    return model\n",
    "def score_model(model, variables):\n",
    "    return AIC_score(train_y, model.predict(train_x[variables]), model)\n",
    "\n",
    "allVariables = train_x.columns\n",
    "allVariables "
   ]
  },
  {
   "cell_type": "code",
   "execution_count": 28,
   "id": "62b217c2",
   "metadata": {},
   "outputs": [
    {
     "name": "stdout",
     "output_type": "stream",
     "text": [
      "Variables: Age_08_04, KM, HP, Met_Color, Automatic, CC, Doors, Quarterly_Tax, Weight, Fuel_Type_Diesel, Fuel_Type_Petrol\n",
      "Start: score=14836.81\n",
      "Step: score=14835.05, remove Met_Color\n",
      "Step: score=14834.43, remove Doors\n",
      "Step: score=14834.43, remove None\n"
     ]
    },
    {
     "data": {
      "text/plain": [
       "['Age_08_04',\n",
       " 'KM',\n",
       " 'HP',\n",
       " 'Automatic',\n",
       " 'CC',\n",
       " 'Quarterly_Tax',\n",
       " 'Weight',\n",
       " 'Fuel_Type_Diesel',\n",
       " 'Fuel_Type_Petrol']"
      ]
     },
     "execution_count": 28,
     "metadata": {},
     "output_type": "execute_result"
    }
   ],
   "source": [
    "# backward_elimination is from dmba library provided by the textbook\n",
    "best_model, best_variables = backward_elimination(allVariables, train_model,score_model, verbose=True)\n",
    "\n",
    "best_variables"
   ]
  },
  {
   "cell_type": "code",
   "execution_count": 29,
   "id": "a58a744f",
   "metadata": {},
   "outputs": [
    {
     "name": "stdout",
     "output_type": "stream",
     "text": [
      "          Predictor  coefficient\n",
      "0         Age_08_04  -124.426137\n",
      "1                KM    -0.015932\n",
      "2                HP    73.915575\n",
      "3         Automatic   434.194280\n",
      "4                CC    -4.857996\n",
      "5     Quarterly_Tax    13.048141\n",
      "6            Weight    14.644838\n",
      "7  Fuel_Type_Diesel  4306.819423\n",
      "8  Fuel_Type_Petrol  2414.604805\n"
     ]
    }
   ],
   "source": [
    "print(pd.DataFrame({'Predictor': best_variables, 'coefficient': best_model.coef_}))"
   ]
  },
  {
   "cell_type": "code",
   "execution_count": 31,
   "id": "e042078f",
   "metadata": {},
   "outputs": [
    {
     "data": {
      "text/plain": [
       "-592.5456616969386"
      ]
     },
     "execution_count": 31,
     "metadata": {},
     "output_type": "execute_result"
    }
   ],
   "source": [
    "best_model.intercept_\n",
    "\n"
   ]
  },
  {
   "cell_type": "code",
   "execution_count": 32,
   "id": "6f87ab5a",
   "metadata": {},
   "outputs": [
    {
     "name": "stdout",
     "output_type": "stream",
     "text": [
      "\n",
      "Regression statistics\n",
      "\n",
      "                      Mean Error (ME) : 192.3992\n",
      "       Root Mean Squared Error (RMSE) : 3221.1509\n",
      "            Mean Absolute Error (MAE) : 1084.2482\n",
      "          Mean Percentage Error (MPE) : 0.2847\n",
      "Mean Absolute Percentage Error (MAPE) : 10.2575\n"
     ]
    }
   ],
   "source": [
    "regressionSummary(valid_y, best_model.predict(valid_x[best_variables]))"
   ]
  },
  {
   "cell_type": "markdown",
   "id": "d0e3f792",
   "metadata": {},
   "source": [
    "## Table 6.7 Forward selection"
   ]
  },
  {
   "cell_type": "code",
   "execution_count": 35,
   "id": "bcf964d3",
   "metadata": {},
   "outputs": [
    {
     "name": "stdout",
     "output_type": "stream",
     "text": [
      "Variables: Age_08_04, KM, HP, Met_Color, Automatic, CC, Doors, Quarterly_Tax, Weight, Fuel_Type_Diesel, Fuel_Type_Petrol\n",
      "Start: score=16598.48, constant\n",
      "Step: score=15340.94, add Age_08_04\n",
      "Step: score=15197.16, add HP\n",
      "Step: score=15044.19, add Weight\n",
      "Step: score=14915.18, add KM\n",
      "Step: score=14905.13, add Quarterly_Tax\n",
      "Step: score=14874.79, add CC\n",
      "Step: score=14859.06, add Fuel_Type_Diesel\n",
      "Step: score=14837.64, add Fuel_Type_Petrol\n",
      "Step: score=14834.43, add Automatic\n",
      "Step: score=14834.43, add None\n"
     ]
    },
    {
     "data": {
      "text/plain": [
       "['Age_08_04',\n",
       " 'HP',\n",
       " 'Weight',\n",
       " 'KM',\n",
       " 'Quarterly_Tax',\n",
       " 'CC',\n",
       " 'Fuel_Type_Diesel',\n",
       " 'Fuel_Type_Petrol',\n",
       " 'Automatic']"
      ]
     },
     "execution_count": 35,
     "metadata": {},
     "output_type": "execute_result"
    }
   ],
   "source": [
    "# The initial model is the constant model - this requires special handling\n",
    "# in train_model and score_model\n",
    "# run the entire function together\n",
    "def train_model(variables):\n",
    "    if len(variables) == 0:\n",
    "        return None\n",
    "    model = LinearRegression()\n",
    "    model.fit(train_x[variables], train_y)\n",
    "    return model\n",
    "\n",
    "def score_model(model, variables):\n",
    "    if len(variables) == 0:\n",
    "        return AIC_score(train_y, [train_y.mean()] * len(train_y), model, df=1)\n",
    "    return AIC_score(train_y, model.predict(train_x[variables]), model)\n",
    "\n",
    "best_model, best_variables = forward_selection(train_x.columns, train_model, score_model, verbose=True)\n",
    "\n",
    "best_variables"
   ]
  },
  {
   "cell_type": "markdown",
   "id": "f3dccfdb",
   "metadata": {},
   "source": [
    "## Table 6.9 stepwise selection"
   ]
  },
  {
   "cell_type": "code",
   "execution_count": 36,
   "id": "62c7147b",
   "metadata": {},
   "outputs": [
    {
     "name": "stdout",
     "output_type": "stream",
     "text": [
      "Variables: Age_08_04, KM, HP, Met_Color, Automatic, CC, Doors, Quarterly_Tax, Weight, Fuel_Type_Diesel, Fuel_Type_Petrol\n",
      "Start: score=16598.48, constant\n",
      "Step: score=15340.94, add Age_08_04\n",
      "Step: score=15197.16, add HP\n",
      "Step: score=15044.19, add Weight\n",
      "Step: score=14915.18, add KM\n",
      "Step: score=14905.13, add Quarterly_Tax\n",
      "Step: score=14874.79, add CC\n",
      "Step: score=14859.06, add Fuel_Type_Diesel\n",
      "Step: score=14837.64, add Fuel_Type_Petrol\n",
      "Step: score=14834.43, add Automatic\n",
      "Step: score=14834.43, unchanged None\n"
     ]
    },
    {
     "data": {
      "text/plain": [
       "['Age_08_04',\n",
       " 'HP',\n",
       " 'Weight',\n",
       " 'KM',\n",
       " 'Quarterly_Tax',\n",
       " 'CC',\n",
       " 'Fuel_Type_Diesel',\n",
       " 'Fuel_Type_Petrol',\n",
       " 'Automatic']"
      ]
     },
     "execution_count": 36,
     "metadata": {},
     "output_type": "execute_result"
    }
   ],
   "source": [
    "best_model, best_variables = stepwise_selection(train_x.columns, train_model, score_model, verbose=True)\n",
    "\n",
    "best_variables"
   ]
  }
 ],
 "metadata": {
  "kernelspec": {
   "display_name": "Python 3 (ipykernel)",
   "language": "python",
   "name": "python3"
  },
  "language_info": {
   "codemirror_mode": {
    "name": "ipython",
    "version": 3
   },
   "file_extension": ".py",
   "mimetype": "text/x-python",
   "name": "python",
   "nbconvert_exporter": "python",
   "pygments_lexer": "ipython3",
   "version": "3.11.5"
  }
 },
 "nbformat": 4,
 "nbformat_minor": 5
}
